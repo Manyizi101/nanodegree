{
 "cells": [
  {
   "cell_type": "markdown",
   "metadata": {},
   "source": [
    "# INFERENTIAL STATISTICS"
   ]
  },
  {
   "cell_type": "markdown",
   "metadata": {},
   "source": [
    "## Lesson 10a: t-Tests, Part 1"
   ]
  },
  {
   "cell_type": "markdown",
   "metadata": {},
   "source": [
    "z-test only works when we know population mean and standard deviation"
   ]
  },
  {
   "cell_type": "markdown",
   "metadata": {},
   "source": [
    "#### First example"
   ]
  },
  {
   "cell_type": "code",
   "execution_count": 1,
   "metadata": {
    "collapsed": false
   },
   "outputs": [
    {
     "name": "stdout",
     "output_type": "stream",
     "text": [
      "500\n"
     ]
    }
   ],
   "source": [
    "import numpy as np\n",
    "import pandas as pd\n",
    "\n",
    "finches_data=pd.read_csv('data/finches.csv', sep=',')\n",
    "\n",
    "sample_size = len(finches_data)\n",
    "print sample_size"
   ]
  },
  {
   "cell_type": "code",
   "execution_count": 2,
   "metadata": {
    "collapsed": false
   },
   "outputs": [
    {
     "name": "stdout",
     "output_type": "stream",
     "text": [
      "6.4696\n"
     ]
    }
   ],
   "source": [
    "sample_mean = np.mean(finches_data.values)\n",
    "print sample_mean"
   ]
  },
  {
   "cell_type": "code",
   "execution_count": 3,
   "metadata": {
    "collapsed": false
   },
   "outputs": [
    {
     "name": "stdout",
     "output_type": "stream",
     "text": [
      "0.396118239063\n"
     ]
    }
   ],
   "source": [
    "# ddof used when we're calculating samples so we devide with n-1 instead of just n\n",
    "sample_deviation = np.std(finches_data.values, ddof=1)\n",
    "print sample_deviation"
   ]
  },
  {
   "cell_type": "code",
   "execution_count": 4,
   "metadata": {
    "collapsed": false
   },
   "outputs": [
    {
     "name": "stdout",
     "output_type": "stream",
     "text": [
      "22.5572234675\n"
     ]
    }
   ],
   "source": [
    "population_mean = 6.07\n",
    "\n",
    "t = (sample_mean - population_mean) / (sample_deviation / (sample_size ** 0.5) )\n",
    "print t"
   ]
  },
  {
   "cell_type": "markdown",
   "metadata": {},
   "source": [
    "#### Second example"
   ]
  },
  {
   "cell_type": "code",
   "execution_count": 5,
   "metadata": {
    "collapsed": false
   },
   "outputs": [
    {
     "name": "stdout",
     "output_type": "stream",
     "text": [
      "8\n",
      "0.977461894334\n"
     ]
    }
   ],
   "source": [
    "sample = [5,19,11,23,12,7,3,21]\n",
    "second_population_mean = 10\n",
    "second_sample_mean = np.mean(sample)\n",
    "sample_std = np.std(sample, ddof=1)\n",
    "no_samples = len(sample)\n",
    "print no_samples\n",
    "\n",
    "t = (second_sample_mean - second_population_mean) / (sample_std / (no_samples ** 0.5) )\n",
    "print t"
   ]
  },
  {
   "cell_type": "markdown",
   "metadata": {},
   "source": [
    "#### Third example"
   ]
  },
  {
   "cell_type": "markdown",
   "metadata": {},
   "source": [
    "Calculating p value from t statistic"
   ]
  },
  {
   "cell_type": "markdown",
   "metadata": {},
   "source": [
    "from scipy.stats import t\n",
    "\n",
    "nop_tails_test = 2\n",
    "print t.sf(0.977, 7) * nop_tails_test"
   ]
  },
  {
   "cell_type": "markdown",
   "metadata": {},
   "source": [
    "#### Fourth example"
   ]
  },
  {
   "cell_type": "markdown",
   "metadata": {},
   "source": [
    "Santa Clara Appartments"
   ]
  },
  {
   "cell_type": "code",
   "execution_count": 6,
   "metadata": {
    "collapsed": false
   },
   "outputs": [
    {
     "name": "stdout",
     "output_type": "stream",
     "text": [
      "-3.25\n"
     ]
    }
   ],
   "source": [
    "house_mean = 1830\n",
    "sample_no = 25\n",
    "sample_mean = 1700\n",
    "sample_std = 200\n",
    "\n",
    "t = (sample_mean - house_mean) / (sample_std / (sample_no ** 0.5) )\n",
    "print t"
   ]
  },
  {
   "cell_type": "code",
   "execution_count": 7,
   "metadata": {
    "collapsed": false
   },
   "outputs": [
    {
     "name": "stdout",
     "output_type": "stream",
     "text": [
      "-0.65\n"
     ]
    }
   ],
   "source": [
    "cohens_d = float(sample_mean - house_mean) / (sample_std)\n",
    "print cohens_d"
   ]
  },
  {
   "cell_type": "markdown",
   "metadata": {},
   "source": [
    "#### Dependent t-tests for paired samples"
   ]
  },
  {
   "cell_type": "code",
   "execution_count": 8,
   "metadata": {
    "collapsed": false
   },
   "outputs": [
    {
     "name": "stdout",
     "output_type": "stream",
     "text": [
      "    QWERTY errors  Alphabetical errors\n",
      "0               6                    6\n",
      "1               6                   11\n",
      "2               2                    8\n",
      "3               7                    5\n",
      "4               8                   11\n",
      "5               8                    8\n",
      "6               2                   10\n",
      "7               3                    7\n",
      "8               5                    4\n",
      "9               7                    3\n",
      "10             10                    7\n",
      "11              5                    6\n",
      "12              4                   10\n",
      "13              7                   10\n",
      "14              5                    6\n",
      "15              7                    5\n",
      "16              4                   10\n",
      "17              5                   11\n",
      "18              2                   13\n",
      "19              5                    8\n",
      "20              3                    5\n",
      "21              4                   11\n",
      "22              4                    7\n",
      "23              4                    8\n",
      "24              4                    5\n",
      "3.69143151998\n"
     ]
    }
   ],
   "source": [
    "keyboard_data=pd.read_csv('data/keyboard.csv', sep=',')\n",
    "\n",
    "print keyboard_data\n",
    "\n",
    "sample_difference = keyboard_data[\"QWERTY errors\"].values - keyboard_data[\"Alphabetical errors\"].values\n",
    "\n",
    "difference_std = np.std(sample_difference, ddof=1)\n",
    "print difference_std"
   ]
  },
  {
   "cell_type": "markdown",
   "metadata": {},
   "source": [
    "**==> Calculating confidence interval**"
   ]
  },
  {
   "cell_type": "code",
   "execution_count": 9,
   "metadata": {
    "collapsed": false
   },
   "outputs": [
    {
     "name": "stdout",
     "output_type": "stream",
     "text": [
      "( -4.24382293145, -1.19617706855 )\n"
     ]
    }
   ],
   "source": [
    "referent_mean = np.mean(keyboard_data[\"QWERTY errors\"].values)\n",
    "new_mean = np.mean(keyboard_data[\"Alphabetical errors\"].values)\n",
    "t_critical = 2.064 # t value for alpha value of 0.05\n",
    "\n",
    "confidence_interval_start = (referent_mean - new_mean) - t_critical * difference_std / (sample_no ** 0.5)\n",
    "confidence_interval_end = (referent_mean - new_mean) + t_critical * difference_std / (sample_no ** 0.5)\n",
    "\n",
    "print \"( \" + str(confidence_interval_start) + \", \" + str(confidence_interval_end) + \" )\""
   ]
  },
  {
   "cell_type": "markdown",
   "metadata": {},
   "source": [
    "We can conclude that on average users will make between 4.24 and 1.2 less errors on QWERTY than on alphabetical keyboard"
   ]
  },
  {
   "cell_type": "code",
   "execution_count": null,
   "metadata": {
    "collapsed": true
   },
   "outputs": [],
   "source": []
  }
 ],
 "metadata": {
  "kernelspec": {
   "display_name": "Python 2",
   "language": "python",
   "name": "python2"
  },
  "language_info": {
   "codemirror_mode": {
    "name": "ipython",
    "version": 2
   },
   "file_extension": ".py",
   "mimetype": "text/x-python",
   "name": "python",
   "nbconvert_exporter": "python",
   "pygments_lexer": "ipython2",
   "version": "2.7.11"
  }
 },
 "nbformat": 4,
 "nbformat_minor": 0
}
