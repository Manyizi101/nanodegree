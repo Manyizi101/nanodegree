{
 "cells": [
  {
   "cell_type": "markdown",
   "metadata": {},
   "source": [
    "### 1. What is our independent variable? What is our dependent variable?"
   ]
  },
  {
   "cell_type": "markdown",
   "metadata": {},
   "source": [
    "Independent variable - number of correctly spoken out loud colors of the ink in which the words are printed   \n",
    "Dependent variable - time"
   ]
  },
  {
   "cell_type": "markdown",
   "metadata": {},
   "source": [
    "### 2. What is an appropriate set of hypotheses for this task? What kind of statistical test do you expect to perform? Justify your choices."
   ]
  },
  {
   "cell_type": "markdown",
   "metadata": {},
   "source": [
    "**H0: (µ_time_C = µ_time_I)**  \n",
    "Population mean of the time required to read congruent words is equal to the population mean of the time required to read incongruent words  \n",
    "\n",
    "**H1: (µ_time_C ≠ µ_time_I)**  \n",
    "Population mean of the time required to read congruent words differs from the population mean of the time required to read incongruent words"
   ]
  },
  {
   "cell_type": "markdown",
   "metadata": {},
   "source": [
    "We are comparing these two values in order to see if congruency affects the time required to say out loud all the colors from the word list.  \n",
    "\n",
    "I intend to perform **two-tailed** t-test.   \n",
    "t-test is used in situations when we don't have information on population mean and standard deviation - just the samples.  \n",
    "This is an example of **repeated measures design**.\n"
   ]
  },
  {
   "cell_type": "markdown",
   "metadata": {},
   "source": [
    "### 3. Report some descriptive statistics regarding this dataset. Include at least one measure of central tendency and at least one measure of variability."
   ]
  },
  {
   "cell_type": "code",
   "execution_count": 1,
   "metadata": {
    "collapsed": false
   },
   "outputs": [
    {
     "name": "stdout",
     "output_type": "stream",
     "text": [
      "Congruent:\n",
      "This is the mean (central tendency): 14.051125\n",
      "This is the median (central tendency): 14.3565\n",
      "\n",
      "This is standard deviation (variability): 3.55935795765\n",
      "This is variance (variability): 12.1411528594\n",
      "\n",
      "\n",
      "\n",
      "Incongruent:\n",
      "This is the mean (central tendency): 22.0159166667\n",
      "This is the median (central tendency): 21.0175\n",
      "\n",
      "This is standard deviation (variability): 4.79705712247\n",
      "This is variance (variability): 22.0529338264\n"
     ]
    }
   ],
   "source": [
    "import numpy as np\n",
    "import pandas as pd\n",
    "\n",
    "stroop_data = pd.read_csv('data/stroopdata.csv', sep=',')\n",
    "\n",
    "congruent_values = stroop_data[\"Congruent\"].values\n",
    "congruent_mean = np.mean(congruent_values)\n",
    "congruent_st_dev = np.std(congruent_values, ddof=1)\n",
    "\n",
    "incongruent_values = stroop_data[\"Incongruent\"].values\n",
    "incongruent_mean = np.mean(incongruent_values)\n",
    "incongruent_st_dev = np.std(incongruent_values, ddof=1)\n",
    "\n",
    "print \"Congruent:\"\n",
    "print \"This is the mean (central tendency): \" + str(congruent_mean)\n",
    "print \"This is the median (central tendency): \" + str(np.median(congruent_values))\n",
    "print \"\\nThis is standard deviation (variability): \" + str(congruent_st_dev)\n",
    "print \"This is variance (variability): \" + str(np.var(congruent_values))\n",
    "\n",
    "print \"\\n\\n\\nIncongruent:\"\n",
    "print \"This is the mean (central tendency): \" + str(incongruent_mean)\n",
    "print \"This is the median (central tendency): \" + str(np.median(incongruent_values))\n",
    "print \"\\nThis is standard deviation (variability): \" + str(incongruent_st_dev)\n",
    "print \"This is variance (variability): \" + str(np.var(incongruent_values))"
   ]
  },
  {
   "cell_type": "markdown",
   "metadata": {},
   "source": [
    "### 4. Provide one or two visualizations that show the distribution of the sample data. Write one or two sentences noting what you observe about the plot or plots."
   ]
  },
  {
   "cell_type": "code",
   "execution_count": 2,
   "metadata": {
    "collapsed": false
   },
   "outputs": [
    {
     "data": {
      "text/plain": [
       "<matplotlib.legend.Legend at 0x7f2b9d68c690>"
      ]
     },
     "execution_count": 2,
     "metadata": {},
     "output_type": "execute_result"
    },
    {
     "data": {
      "image/png": "[encoded data removed]",
      "text/plain": [
       "<matplotlib.figure.Figure at 0x7f2b9d9cb990>"
      ]
     },
     "metadata": {},
     "output_type": "display_data"
    }
   ],
   "source": [
    "%matplotlib inline\n",
    "import matplotlib.pyplot as plt\n",
    "import matplotlib.patches as mpatches\n",
    "\n",
    "plt.hist(incongruent_values, 15, histtype='bar', color=\"blue\", normed=1)\n",
    "plt.hist(congruent_values, 15, histtype='bar', color=\"green\", normed=1)\n",
    "\n",
    "red_patch = mpatches.Patch(color='green', label='Congruent')\n",
    "blue_patch = mpatches.Patch(color='blue', label='Incongruent')\n",
    "plt.legend(handles=[red_patch, blue_patch])"
   ]
  },
  {
   "cell_type": "markdown",
   "metadata": {},
   "source": [
    "Data seems to be normally distributed.  \n",
    "Mean of the incongruent samples is greater than the mean of the congruent samples."
   ]
  },
  {
   "cell_type": "markdown",
   "metadata": {},
   "source": [
    "### 5. Now, perform the statistical test and report your results. What is your confidence level and your critical statistic value? Do you reject the null hypothesis or fail to reject it? Come to a conclusion in terms of the experiment task. Did the results match up with your expectations?"
   ]
  },
  {
   "cell_type": "markdown",
   "metadata": {},
   "source": [
    "Confidence level **alpha = 0.05**  \n",
    "Crirical statistic value **t_critical = ± 2.069**   "
   ]
  },
  {
   "cell_type": "markdown",
   "metadata": {},
   "source": [
    "#### Calculating t:"
   ]
  },
  {
   "cell_type": "code",
   "execution_count": 3,
   "metadata": {
    "collapsed": false
   },
   "outputs": [
    {
     "name": "stdout",
     "output_type": "stream",
     "text": [
      "Calculated t value: \n",
      "8.02070694411\n"
     ]
    }
   ],
   "source": [
    "sample_size = len(incongruent_values) # 24\n",
    "sample_mean_difference = incongruent_mean - congruent_mean # 7.96479166667\n",
    "sample_difference = incongruent_values - congruent_values\n",
    "sample_difference_std = np.std(sample_difference, ddof=1) # 4.86482691036\n",
    "\n",
    "t = sample_mean_difference / (sample_difference_std / (sample_size ** 0.5))\n",
    "\n",
    "#print sample_size\n",
    "#print sample_mean_difference\n",
    "#print sample_difference\n",
    "#print sample_difference_std\n",
    "print \"Calculated t value: \"\n",
    "print t"
   ]
  },
  {
   "cell_type": "markdown",
   "metadata": {},
   "source": [
    "Calculated t value is way beyond t_critical value and hence this is evidence in support of H1 hypothesis.  \n",
    "**Null hypothesis should be rejected.**  \n",
    "\n",
    "Based on my personal test and previous knowledge of this effect I expected that time required to read incongruent values would be greater than when reading congruent values.  \n",
    "**The results matched with my expectations.**"
   ]
  },
  {
   "cell_type": "markdown",
   "metadata": {},
   "source": [
    "### 6. Optional: What do you think is responsible for the effects observed? Can you think of an alternative or similar task that would result in a similar effect? Some research about the problem will be helpful for thinking about these two questions!"
   ]
  },
  {
   "cell_type": "markdown",
   "metadata": {},
   "source": [
    "I think that the effect is visible because of the way our brain works and how we recognize patterns.  \n",
    "It seems that, given two competing things to recognize in the same time, we can more easily recognize words (or shapes) than colors.  \n",
    "\n",
    "First thing that crossed my mind was whether the stroop efect was visible in numbers.  \n",
    "And my hypothesis was that it would influence time required to say out loud the color if the color was read from colored numbers with respect to reading a color form say colored rectangle. \n",
    "\n",
    "By searching \"stroop effect in numbers\" I found the following link:  \n",
    "http://scienceblogs.com/cognitivedaily/2006/05/22/if-you-thought-the-stroop-effe/  \n",
    "It seems that similar effect is visible when comparing two negative numbers.  \n",
    "Data showed that it takes longer to compare two negtive numbers than two positive numbers.\n"
   ]
  },
  {
   "cell_type": "markdown",
   "metadata": {},
   "source": [
    "### Resources used outside Udacity"
   ]
  },
  {
   "cell_type": "markdown",
   "metadata": {},
   "source": [
    "For plotting the data I used matplotlib documentation:  \n",
    "http://matplotlib.org/users/legend_guide.html  \n",
    "\n",
    "I also used some of the content from this blog for plotting:  \n",
    "https://bespokeblog.wordpress.com/2011/07/11/basic-data-plotting-with-matplotlib-part-3-histograms/"
   ]
  }
 ],
 "metadata": {
  "kernelspec": {
   "display_name": "Python 2",
   "language": "python",
   "name": "python2"
  },
  "language_info": {
   "codemirror_mode": {
    "name": "ipython",
    "version": 2
   },
   "file_extension": ".py",
   "mimetype": "text/x-python",
   "name": "python",
   "nbconvert_exporter": "python",
   "pygments_lexer": "ipython2",
   "version": "2.7.11"
  }
 },
 "nbformat": 4,
 "nbformat_minor": 0
}
