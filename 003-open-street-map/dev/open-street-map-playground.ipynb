{
 "cells": [
  {
   "cell_type": "markdown",
   "metadata": {},
   "source": [
    "- port from XML to JSON  \n",
    "- port from JSON to mongoDB\n",
    "\n",
    "\n",
    "    Problems encountered in your map\n",
    "    Overview of the Data\n",
    "    Other ideas about the datasets\n",
    "    \n",
    "<a href=\"#section2\">sadasda</a>\n"
   ]
  },
  {
   "cell_type": "markdown",
   "metadata": {},
   "source": [
    "#### HTML parser"
   ]
  },
  {
   "cell_type": "code",
   "execution_count": 12,
   "metadata": {},
   "outputs": [
    {
     "ename": "NameError",
     "evalue": "name 'html_doc' is not defined",
     "output_type": "error",
     "traceback": [
      "\u001b[1;31m---------------------------------------------------------------------------\u001b[0m",
      "\u001b[1;31mNameError\u001b[0m                                 Traceback (most recent call last)",
      "\u001b[1;32m<ipython-input-12-9e26e5e611dc>\u001b[0m in \u001b[0;36m<module>\u001b[1;34m()\u001b[0m\n\u001b[0;32m      1\u001b[0m \u001b[1;32mfrom\u001b[0m \u001b[0mbs4\u001b[0m \u001b[1;32mimport\u001b[0m \u001b[0mBeautifulSoup\u001b[0m\u001b[1;33m\u001b[0m\u001b[0m\n\u001b[1;32m----> 2\u001b[1;33m \u001b[0msoup\u001b[0m \u001b[1;33m=\u001b[0m \u001b[0mBeautifulSoup\u001b[0m\u001b[1;33m(\u001b[0m\u001b[0mhtml_doc\u001b[0m\u001b[1;33m,\u001b[0m \u001b[1;34m'html.parser'\u001b[0m\u001b[1;33m)\u001b[0m\u001b[1;33m\u001b[0m\u001b[0m\n\u001b[0m",
      "\u001b[1;31mNameError\u001b[0m: name 'html_doc' is not defined"
     ]
    }
   ],
   "source": [
    "from bs4 import BeautifulSoup\n",
    "soup = BeautifulSoup(html_doc, 'html.parser')"
   ]
  },
  {
   "cell_type": "code",
   "execution_count": 2,
   "metadata": {},
   "outputs": [
    {
     "name": "stdout",
     "output_type": "stream",
     "text": [
      "hello\n"
     ]
    }
   ],
   "source": [
    "print \"hello\""
   ]
  },
  {
   "cell_type": "code",
   "execution_count": 3,
   "metadata": {},
   "outputs": [
    {
     "name": "stdout",
     "output_type": "stream",
     "text": [
      "bounds\n",
      "{'minlat': '45.74', 'maxlon': '16.151', 'minlon': '15.81', 'maxlat': '45.848'}\n",
      "tag\n",
      "{'k': 'highway', 'v': 'traffic_signals'}\n",
      "tag\n",
      "{'k': 'converted_by', 'v': 'Track2osm'}\n",
      "node\n",
      "{'changeset': '20632762', 'uid': '158601', 'timestamp': '2014-02-18T09:53:57Z', 'lon': '15.9923038', 'version': '7', 'user': 'Vedran V', 'lat': '45.8062996', 'id': '18018884'}\n",
      "tag\n",
      "{'k': 'highway', 'v': 'traffic_signals'}\n",
      "node\n",
      "{'changeset': '9667064', 'uid': '244754', 'timestamp': '2011-10-27T10:17:26Z', 'lon': '15.9968375', 'version': '18', 'user': 'Janjko', 'lat': '45.7778696', 'id': '18018885'}\n",
      "tag\n",
      "{'k': 'highway', 'v': 'traffic_signals'}\n",
      "node\n",
      "{'changeset': '35518202', 'uid': '582434', 'timestamp': '2015-11-22T21:37:27Z', 'lon': '15.9840882', 'version': '11', 'user': 'dplehati', 'lat': '45.8054595', 'id': '18019055'}\n",
      "node\n",
      "{'changeset': '29519064', 'uid': '372615', 'timestamp': '2015-03-16T14:54:46Z', 'lon': '16.1323002', 'version': '5', 'user': 'sennewald63', 'lat': '45.8038336', 'id': '18019277'}\n",
      "node\n",
      "{'changeset': '29519064', 'uid': '372615', 'timestamp': '2015-03-16T14:54:46Z', 'lon': '16.135154', 'version': '5', 'user': 'sennewald63', 'lat': '45.8109826', 'id': '18019285'}\n"
     ]
    }
   ],
   "source": [
    "import xml.etree.cElementTree as ET\n",
    "import pprint\n",
    "\n",
    "filename = 'data/zagreb_croatia.osm'\n",
    "\n",
    "i = 0\n",
    "\n",
    "for event, elem in ET.iterparse(filename):\n",
    "    if i < 10:\n",
    "        i = i + 1\n",
    "        print elem.tag\n",
    "        print elem.attrib"
   ]
  },
  {
   "cell_type": "code",
   "execution_count": 5,
   "metadata": {},
   "outputs": [
    {
     "name": "stdout",
     "output_type": "stream",
     "text": [
      "{'bounds': 1,\n",
      " 'member': 17318,\n",
      " 'nd': 470348,\n",
      " 'node': 357815,\n",
      " 'osm': 1,\n",
      " 'relation': 1220,\n",
      " 'tag': 176836,\n",
      " 'way': 64971}\n"
     ]
    }
   ],
   "source": [
    "tags = {}\n",
    "\n",
    "for event, elem in ET.iterparse(filename):\n",
    "    key = elem.tag\n",
    "    if key in tags:\n",
    "        tags[key] = tags[key] + 1\n",
    "    else:\n",
    "        tags[key] = 1\n",
    "    \n",
    "pprint.pprint(tags)"
   ]
  },
  {
   "cell_type": "markdown",
   "metadata": {},
   "source": [
    "<div id='section2'>sec2</div>"
   ]
  },
  {
   "cell_type": "code",
   "execution_count": 6,
   "metadata": {},
   "outputs": [],
   "source": [
    "import re\n",
    "\n",
    "lower = re.compile(r'^([a-z]|_)*$')\n",
    "lower_colon = re.compile(r'^([a-z]|_)*:([a-z]|_)*$')\n",
    "problemchars = re.compile(r'[=\\+/&<>;\\'\"\\?%#$@\\,\\. \\t\\r\\n]')"
   ]
  },
  {
   "cell_type": "code",
   "execution_count": 7,
   "metadata": {},
   "outputs": [],
   "source": [
    "#for event, elem in ET.iterparse(osm_file, events=(\"start\",)):\n",
    "    #for tag in elem.iter(\"tag\"):"
   ]
  },
  {
   "cell_type": "code",
   "execution_count": 9,
   "metadata": {},
   "outputs": [],
   "source": [
    "mapping = { \"St\": \"Street\",\n",
    "            \"St.\": \"Street\",\n",
    "            'Rd.': 'Road',\n",
    "            'Ave': 'Avenue'\n",
    "            }\n",
    "\n",
    "def update_name(name, mapping):\n",
    "\n",
    "    # YOUR CODE HERE\n",
    "\n",
    "    for key in mapping:\n",
    "        indexes = [match.start() for match in re.finditer(re.escape(key), name)]\n",
    "        if len(indexes) > 0:\n",
    "            name = name[:indexes[0]]\n",
    "            name = name + mapping[key]     \n",
    "\n",
    "    return name"
   ]
  },
  {
   "cell_type": "code",
   "execution_count": 10,
   "metadata": {},
   "outputs": [
    {
     "ename": "NameError",
     "evalue": "name 'element' is not defined",
     "output_type": "error",
     "traceback": [
      "\u001b[1;31m---------------------------------------------------------------------------\u001b[0m",
      "\u001b[1;31mNameError\u001b[0m                                 Traceback (most recent call last)",
      "\u001b[1;32m<ipython-input-10-ced336bb29d4>\u001b[0m in \u001b[0;36m<module>\u001b[1;34m()\u001b[0m\n\u001b[1;32m----> 1\u001b[1;33m \u001b[0mkeys\u001b[0m \u001b[1;33m=\u001b[0m \u001b[0melement\u001b[0m\u001b[1;33m.\u001b[0m\u001b[0mattrib\u001b[0m\u001b[1;33m.\u001b[0m\u001b[0mkeys\u001b[0m\u001b[1;33m(\u001b[0m\u001b[1;33m)\u001b[0m\u001b[1;33m\u001b[0m\u001b[0m\n\u001b[0m",
      "\u001b[1;31mNameError\u001b[0m: name 'element' is not defined"
     ]
    }
   ],
   "source": [
    "keys = element.attrib.keys()"
   ]
  },
  {
   "cell_type": "code",
   "execution_count": null,
   "metadata": {},
   "outputs": [],
   "source": [
    ""
   ]
  },
  {
   "cell_type": "markdown",
   "metadata": {},
   "source": [
    "# Generate smaller version of .osm file"
   ]
  },
  {
   "cell_type": "code",
   "execution_count": 3,
   "metadata": {},
   "outputs": [],
   "source": [
    "#!/usr/bin/env python\n",
    "# -*- coding: utf-8 -*-\n",
    "\n",
    "import xml.etree.ElementTree as ET  # Use cElementTree or lxml if too slow\n",
    "\n",
    "OSM_FILE = \"data/zagreb_croatia.osm\"  # Replace this with your osm file\n",
    "SAMPLE_FILE = \"sample.osm\"\n",
    "\n",
    "\n",
    "def get_element(osm_file, tags=('node', 'way', 'relation')):\n",
    "    \"\"\"Yield element if it is the right type of tag\n",
    "\n",
    "    Reference:\n",
    "    http://stackoverflow.com/questions/3095434/inserting-newlines-in-xml-file-generated-via-xml-etree-elementtree-in-python\n",
    "    \"\"\"\n",
    "    context = ET.iterparse(osm_file, events=('start', 'end'))\n",
    "    _, root = next(context)\n",
    "    for event, elem in context:\n",
    "        if event == 'end' and elem.tag in tags:\n",
    "            yield elem\n",
    "            root.clear()\n",
    "\n",
    "\n",
    "with open(SAMPLE_FILE, 'wb') as output:\n",
    "    output.write('<?xml version=\"1.0\" encoding=\"UTF-8\"?>\\n')\n",
    "    output.write('<osm>\\n  ')\n",
    "\n",
    "    # Write every 10th top level element\n",
    "    for i, element in enumerate(get_element(OSM_FILE)):\n",
    "        if i % 10 == 0:\n",
    "            output.write(ET.tostring(element, encoding='utf-8'))\n",
    "\n",
    "    output.write('</osm>')"
   ]
  },
  {
   "cell_type": "code",
   "execution_count": null,
   "metadata": {},
   "outputs": [],
   "source": [
    ""
   ]
  },
  {
   "cell_type": "code",
   "execution_count": null,
   "metadata": {},
   "outputs": [],
   "source": [
    ""
   ]
  },
  {
   "cell_type": "code",
   "execution_count": null,
   "metadata": {},
   "outputs": [],
   "source": [
    ""
   ]
  },
  {
   "cell_type": "code",
   "execution_count": null,
   "metadata": {},
   "outputs": [],
   "source": [
    ""
   ]
  },
  {
   "cell_type": "code",
   "execution_count": 2,
   "metadata": {},
   "outputs": [],
   "source": [
    "#from IPython.core.display import HTML\n",
    "#HTML(\"<style>\" + open(\"style.css\", \"r\").read() + \"</style>\")"
   ]
  },
  {
   "cell_type": "code",
   "execution_count": null,
   "metadata": {},
   "outputs": [],
   "source": [
    ""
   ]
  }
 ],
 "metadata": {
  "kernelspec": {
   "display_name": "Python 2",
   "language": "python",
   "name": "python2"
  },
  "language_info": {
   "codemirror_mode": {
    "name": "ipython",
    "version": 2.0
   },
   "file_extension": ".py",
   "mimetype": "text/x-python",
   "name": "python",
   "nbconvert_exporter": "python",
   "pygments_lexer": "ipython2",
   "version": "2.7.11"
  }
 },
 "nbformat": 4,
 "nbformat_minor": 0
}