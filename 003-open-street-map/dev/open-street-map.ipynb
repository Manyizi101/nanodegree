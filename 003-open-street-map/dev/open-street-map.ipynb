{
 "cells": [
  {
   "cell_type": "markdown",
   "metadata": {},
   "source": [
    "# Open Street Data Wrangling with MongoDB\n",
    "###### Željko Veić"
   ]
  },
  {
   "cell_type": "markdown",
   "metadata": {},
   "source": [
    "#### Map Area: Zagreb, Croatia"
   ]
  },
  {
   "cell_type": "markdown",
   "metadata": {},
   "source": [
    "https://www.openstreetmap.org/relation/3168167  \n",
    "https://mapzen.com/data/metro-extracts"
   ]
  },
  {
   "cell_type": "markdown",
   "metadata": {},
   "source": [
    "<a href=\"#choice\">0. Choosing the Dataset</a>  \n",
    "<a href=\"#problems\">1. Problems Encountered in the Map</a>  \n",
    "&nbsp;&nbsp;&nbsp;&nbsp;&nbsp;<a href=\"#problems-1\">Abbreviated street names</a>  \n",
    "&nbsp;&nbsp;&nbsp;&nbsp;&nbsp;<a href=\"#problems-2\">No designation for a street type</a>   \n",
    "&nbsp;&nbsp;&nbsp;&nbsp;&nbsp;<a href=\"#problems-3\">Numbers in place of street names</a>  \n",
    "&nbsp;&nbsp;&nbsp;&nbsp;&nbsp;<a href=\"#problems-4\">Phone numbers come in multitude of formats</a>  \n",
    "<a href=\"#overview\">2. Data Overview</a>  \n",
    "<a href=\"#ideas\">3. Additional Ideas</a>  \n",
    "&nbsp;&nbsp;&nbsp;&nbsp;&nbsp;<a href=\"#ideas-1\">Contributor Statistics</a>  \n",
    "&nbsp;&nbsp;&nbsp;&nbsp;&nbsp;<a href=\"#ideas-2\">Additional Data Exploration</a>  \n",
    "<a href=\"#conclusion\">4. Conclusion</a>  \n",
    "<a href=\"#references\">5. References</a>"
   ]
  },
  {
   "cell_type": "markdown",
   "metadata": {},
   "source": [
    "## <span id=\"choice\">0. Interest in the Dataset</span>"
   ]
  },
  {
   "cell_type": "markdown",
   "metadata": {},
   "source": [
    "I chose Zagreb dataset since it's the city I currently live in.  \n",
    "I was also interested to see how does parsing work when you have dataset in some language other than english.  \n",
    "Also, I wondered if there are some language-specific problems which might be encountered during the analysis."
   ]
  },
  {
   "cell_type": "markdown",
   "metadata": {},
   "source": [
    "## <span id=\"problems\">1. Problems Encountered in the Map</span>"
   ]
  },
  {
   "cell_type": "markdown",
   "metadata": {},
   "source": [
    "In my data inspection I ran into several problems:  \n",
    "* Abbreviated street names  \n",
    "* No designation for a street type   \n",
    "* Numbers in place of street names  \n",
    "* Phone numbers come in multitude of formats"
   ]
  },
  {
   "cell_type": "markdown",
   "metadata": {},
   "source": [
    "### <span id=\"problems-1\">Abbreviated street names</span>"
   ]
  },
  {
   "cell_type": "markdown",
   "metadata": {},
   "source": [
    "There are street name entries which have street designation \"Ul.\" (shortened from \"Ulica\" which means \"Street\" in translation).  \n",
    "Also, I found \"Av.\" which is shortened from \"Avenija\" (translates into \"Avenue\")  "
   ]
  },
  {
   "cell_type": "markdown",
   "metadata": {},
   "source": [
    "### <span id=\"problems-2\">No designation for a street type</span>"
   ]
  },
  {
   "cell_type": "markdown",
   "metadata": {},
   "source": [
    "Frequently you have street names without explicit designation of a street type (\"Gajnice\", \"Jankomir\", \"Vijenac\", ...).  \n",
    "In Croatia when you don't have street type specified the default street type is considered to be \"Ulica\" (i.e. \"Street\" in translation).  \n",
    "The solution is to default **\"type\": \"ulica\"** to all instances which do not contain any of the official street types in their name."
   ]
  },
  {
   "cell_type": "markdown",
   "metadata": {},
   "source": [
    "### <span id=\"problems-3\">Numbers in place of street names</span>"
   ]
  },
  {
   "cell_type": "markdown",
   "metadata": {},
   "source": [
    "There are entries in the dataset which have numbers as the street names (\"3\", \"22\", \"49\").  \n",
    "As the street namse In Croatia cannot be numbers this is obviously an error.  \n",
    "And since there are only three instances of this error in entire dataset we can remove them from the dataset completely."
   ]
  },
  {
   "cell_type": "markdown",
   "metadata": {},
   "source": [
    "###  <span id=\"problems-4\">Phone numbers come in multitude of formats</span>"
   ]
  },
  {
   "cell_type": "markdown",
   "metadata": {},
   "source": [
    "Phone numbers come in many diferent shapes and formats.  \n",
    "Preferred way of displaying numbers is \"**+385**1234567\" where the plus sign and first three digits are mandatory.  \n",
    "It should not contain any spaces, slashes or alphabetical characters (eg. \"Tel: 00385 1 3324 506\", \"01/ 2990 072\").   \n",
    "It should contain country and area codes and not be void of one or both of these (eg. \"08007778\") "
   ]
  },
  {
   "cell_type": "markdown",
   "metadata": {},
   "source": [
    "## <span id=\"overview\">2. Data Overview</span>"
   ]
  },
  {
   "cell_type": "markdown",
   "metadata": {},
   "source": [
    "Here are some basic statistics on the dataset and the MongoDB queries I used to attain them."
   ]
  },
  {
   "cell_type": "markdown",
   "metadata": {},
   "source": [
    "### File size"
   ]
  },
  {
   "cell_type": "code",
   "execution_count": 26,
   "metadata": {
    "collapsed": false
   },
   "outputs": [
    {
     "name": "stdout",
     "output_type": "stream",
     "text": [
      "zagreb_croatia.osm .......... 81 MB\n",
      "zagreb_croatia.osm.json ..... 89 MB\n"
     ]
    }
   ],
   "source": [
    "import os\n",
    "\n",
    "path_to_osm = '/home/veich/projects/nanodegree/003-open-street-map/dev/data/zagreb_croatia.osm'\n",
    "path_to_json = '/home/veich/projects/nanodegree/003-open-street-map/dev/data/zagreb_croatia.osm.json'\n",
    "\n",
    "print 'zagreb_croatia.osm .......... ' + str(os.path.getsize(path_to_osm) / (1000 * 1000)) + ' MB'\n",
    "print 'zagreb_croatia.osm.json ..... ' + str(os.path.getsize(path_to_json) / (1000 * 1000)) + ' MB'"
   ]
  },
  {
   "cell_type": "markdown",
   "metadata": {},
   "source": [
    "### Number of documents"
   ]
  },
  {
   "cell_type": "code",
   "execution_count": null,
   "metadata": {
    "collapsed": true
   },
   "outputs": [],
   "source": [
    "> db.locations.find().count()  "
   ]
  },
  {
   "cell_type": "code",
   "execution_count": null,
   "metadata": {
    "collapsed": true
   },
   "outputs": [],
   "source": [
    "422786"
   ]
  },
  {
   "cell_type": "markdown",
   "metadata": {},
   "source": [
    "### Number of nodes"
   ]
  },
  {
   "cell_type": "code",
   "execution_count": null,
   "metadata": {
    "collapsed": true
   },
   "outputs": [],
   "source": [
    "> db.char.find({\"type\": \"node\"}).count()  "
   ]
  },
  {
   "cell_type": "code",
   "execution_count": null,
   "metadata": {
    "collapsed": true
   },
   "outputs": [],
   "source": [
    "357815"
   ]
  },
  {
   "cell_type": "markdown",
   "metadata": {},
   "source": [
    "### Number of ways"
   ]
  },
  {
   "cell_type": "code",
   "execution_count": null,
   "metadata": {
    "collapsed": true
   },
   "outputs": [],
   "source": [
    "> db.char.find({\"type\": \"way\"}).count()  "
   ]
  },
  {
   "cell_type": "code",
   "execution_count": null,
   "metadata": {
    "collapsed": true
   },
   "outputs": [],
   "source": [
    "64971"
   ]
  },
  {
   "cell_type": "markdown",
   "metadata": {},
   "source": [
    "### Number of unique users"
   ]
  },
  {
   "cell_type": "code",
   "execution_count": null,
   "metadata": {
    "collapsed": true
   },
   "outputs": [],
   "source": [
    "> db.locations.aggregate([{'$match': {\"created.user\": {'$exists': 1}}},\n",
    "                          {'$group': {'_id': '$created.user',\n",
    "                                     'count': {'$sum': 1}}},\n",
    "                          {'$group': {'_id': 'Number of unique users',\n",
    "                                     'count': {'$sum': 1}}}])                                  "
   ]
  },
  {
   "cell_type": "code",
   "execution_count": null,
   "metadata": {
    "collapsed": true
   },
   "outputs": [],
   "source": [
    "{u'_id': u'Number of unique users', u'count': 569} "
   ]
  },
  {
   "cell_type": "markdown",
   "metadata": {},
   "source": [
    "### Top 1 contributing user"
   ]
  },
  {
   "cell_type": "code",
   "execution_count": null,
   "metadata": {
    "collapsed": true
   },
   "outputs": [],
   "source": [
    "> db.locations.aggregate([{'$group': {'_id': '$created.user',\n",
    "                                      'count': {'$sum': 1}}},\n",
    "                          {'$sort': {'count': -1}},\n",
    "                          {'$limit': 1}])  "
   ]
  },
  {
   "cell_type": "code",
   "execution_count": null,
   "metadata": {
    "collapsed": true
   },
   "outputs": [],
   "source": [
    "{u'_id': u'Vedran V', u'count': 111202}"
   ]
  },
  {
   "cell_type": "markdown",
   "metadata": {},
   "source": [
    "### Top 10 users contribution sum"
   ]
  },
  {
   "cell_type": "code",
   "execution_count": null,
   "metadata": {
    "collapsed": true
   },
   "outputs": [],
   "source": [
    "> db.locations.aggregate([{'$group': {'_id': '$created.user',\n",
    "                                      'count': {'$sum': 1}}},\n",
    "                          {'$sort': {'count': -1}},\n",
    "                          {'$limit': 10},\n",
    "                          {'$group': {'_id': 'Sum of top 10 users contributions',\n",
    "                                      'sum_all': {'$sum': '$count'}}}])  "
   ]
  },
  {
   "cell_type": "code",
   "execution_count": null,
   "metadata": {
    "collapsed": true
   },
   "outputs": [],
   "source": [
    "{u'_id': u'Sum of top 10 users contributions', u'sum_all': 355280}"
   ]
  },
  {
   "cell_type": "markdown",
   "metadata": {},
   "source": [
    "### Minimum number of contributions per user"
   ]
  },
  {
   "cell_type": "code",
   "execution_count": null,
   "metadata": {
    "collapsed": true
   },
   "outputs": [],
   "source": [
    "> db.locations.aggregate([{'$group': {'_id': '$created.user',\n",
    "                                      'count': {'$sum': 1}}},\n",
    "                          {'$sort': {'count': 1}},\n",
    "                          {'$limit': 1}])"
   ]
  },
  {
   "cell_type": "code",
   "execution_count": null,
   "metadata": {
    "collapsed": true
   },
   "outputs": [],
   "source": [
    "{u'_id': u'Aury88', u'count': 1}"
   ]
  },
  {
   "cell_type": "markdown",
   "metadata": {},
   "source": [
    "### Number of users having only three posts"
   ]
  },
  {
   "cell_type": "code",
   "execution_count": null,
   "metadata": {
    "collapsed": true
   },
   "outputs": [],
   "source": [
    "> db.locations.aggregate([{'$group': {'_id': '$created.user',\n",
    "                                      'count': {'$sum': 1}}},\n",
    "                          {'$match': {'count': {'$eq': 3}}},\n",
    "                          {'$group': {'_id':'Users having three posts',\n",
    "                                      'count':{'$sum': 1}}}])"
   ]
  },
  {
   "cell_type": "code",
   "execution_count": null,
   "metadata": {
    "collapsed": true
   },
   "outputs": [],
   "source": [
    "{u'_id': u'Number of users having only one post', u'count': 155}"
   ]
  },
  {
   "cell_type": "markdown",
   "metadata": {},
   "source": [
    "## <span id=\"ideas\">3. Additional Ideas</span>"
   ]
  },
  {
   "cell_type": "markdown",
   "metadata": {},
   "source": [
    "### <span id='ideas-1'>Contributor Statistics</span>"
   ]
  },
  {
   "cell_type": "markdown",
   "metadata": {},
   "source": [
    "Here are some user percentage statistics. We can see that very few users make up majority of all contributions:  \n",
    "                                                \n",
    "Top user contribution percentage (\"Vedran V\") - **26,30%**  \n",
    "Combined top 3 users' contribution (\"Vedran V\", \"Darko Boto\" and \"Janjko\") - **60,43%**  \n",
    "Combined Top 10 users contribution - **84.03%**  \n",
    "Bottom 155 users which make up **27.24%** of all users contributed **0.0367%** of all entries.  "
   ]
  },
  {
   "cell_type": "markdown",
   "metadata": {},
   "source": [
    "### <span id='ideas-2'>Additional Data Exploration</span>"
   ]
  },
  {
   "cell_type": "markdown",
   "metadata": {},
   "source": [
    "###### Top 3 amenities"
   ]
  },
  {
   "cell_type": "code",
   "execution_count": null,
   "metadata": {
    "collapsed": true
   },
   "outputs": [],
   "source": [
    "> db.locations.aggregate([{'$match':{'amenity': {'$exists': 1}}},\n",
    "                          {'$group': {'_id': '$amenity',\n",
    "                                     'count': {'$sum': 1}}},\n",
    "                          {'$sort': {'count': -1}},\n",
    "                          {'$limit': 3}])"
   ]
  },
  {
   "cell_type": "code",
   "execution_count": null,
   "metadata": {
    "collapsed": true
   },
   "outputs": [],
   "source": [
    "{u'_id': u'parking', u'count': 731}\n",
    "{u'_id': u'cafe', u'count': 650}\n",
    "{u'_id': u'restaurant', u'count': 336}"
   ]
  },
  {
   "cell_type": "markdown",
   "metadata": {},
   "source": [
    "While I was looking at the type and number of amenities I thought it would be interesting to see this data used in some social or demographic studies.  \n",
    "It may answer some of the of the questions like:  \n",
    " - Do richer countries have more schools per citizen in their cities than poorer ones?\n",
    " - Do cities with higher average population age have more restaurants than cafes?\n",
    " - What can we say in general about the people living in a certain city just by analyzing it's infrastructure?\n",
    " - etc.  \n",
    "  \n",
    "Basically, how the town's infrastructure influences it's citizens and vice versa?  \n",
    "\n",
    "This knowledge would then in turn be useful to the policy makers when planning city development and investments.  \n",
    "It would be also useful to entrepreneurs who seek to expand their business to other cities. They could make more informed decision about which city or which neighbourhood within a city has the greatest potential to make their new branch successful.  \n",
    "\n",
    "The problems that might arise during this process might be unexpected answers to above questions. For example, data analysis might show that there is no significant correlation betweeen the city infrastructure and people living there. Thus that differences between citizens of different cities arise from some other factors. "
   ]
  },
  {
   "cell_type": "markdown",
   "metadata": {},
   "source": [
    "###### Most wide spread cafe chain"
   ]
  },
  {
   "cell_type": "markdown",
   "metadata": {},
   "source": [
    "Since cafe is most frequent amenity type (behind the parking lot) let us see which chain is the most wide spread."
   ]
  },
  {
   "cell_type": "code",
   "execution_count": null,
   "metadata": {
    "collapsed": true
   },
   "outputs": [],
   "source": [
    "> db.locations.aggregate([{'$match':{'amenity': {'$exists': 1},\n",
    "                                     'amenity': 'cafe'}},\n",
    "                          {'$group': {'_id': '$name',\n",
    "                                      'count': {'$sum': 1}}},\n",
    "                          {'$sort': {'count': -1}},\n",
    "                          {'$limit': 3}])"
   ]
  },
  {
   "cell_type": "code",
   "execution_count": null,
   "metadata": {
    "collapsed": true
   },
   "outputs": [],
   "source": [
    "{u'_id': None, u'count': 76}\n",
    "{u'_id': u'Smart', u'count': 3}\n",
    "{u'_id': u'Luna', u'count': 3}"
   ]
  },
  {
   "cell_type": "markdown",
   "metadata": {},
   "source": [
    "It appears that \"Smart\" and \"Luna\" cafes are most wide spread.  \n",
    "However, there is a significant number of entries which do not contain the name of the object."
   ]
  },
  {
   "cell_type": "markdown",
   "metadata": {},
   "source": [
    "## <span id=\"conclusion\">4. Conclusion</span>"
   ]
  },
  {
   "cell_type": "markdown",
   "metadata": {},
   "source": [
    "We can see that data for the city of Zagreb is actually very clean with very few errors and over abbreviations in the street name. Although there aren't any strict conventions on placing and capitalization of the street type name so replacing it properly does require some extra effort.   \n",
    "What's also visible is that very few users contributed to the great majority of the Zagreb open street map data.  \n",
    "Also, street type names in this case didn't contain any special characters but it would be intetresting to see how the filtering works with some special chars in some other language perhaps.  \n",
    "It can also be seen on the cafe chain example that many of the names are missing and our dataset is incomplete."
   ]
  },
  {
   "cell_type": "markdown",
   "metadata": {},
   "source": [
    "## <span id=\"resources\">5. Resources</span>"
   ]
  },
  {
   "cell_type": "markdown",
   "metadata": {},
   "source": [
    "1. Course Lessons  \n",
    "2. http://stackoverflow.com/questions/6591931/getting-file-size-in-python  \n",
    "3. http://github.com/dunovank - iPython notebook styling  \n",
    "4. http://stackoverflow.com/questions/4022827/how-to-insert-some-string-in-the-given-string-at-given-index-in-python#4023434  \n",
    "5. MongoDB documentation  \n",
    "6. http://stackoverflow.com/questions/1249388/how-do-we-remove-all-non-numeric-characters-from-a-string-in-python"
   ]
  },
  {
   "cell_type": "markdown",
   "metadata": {},
   "source": [
    "Styling the iPython notebook:"
   ]
  },
  {
   "cell_type": "code",
   "execution_count": 27,
   "metadata": {
    "collapsed": false
   },
   "outputs": [
    {
     "data": {
      "text/html": [
       "<style>*{background: #f8f8f8;}</style>"
      ],
      "text/plain": [
       "<IPython.core.display.HTML object>"
      ]
     },
     "execution_count": 27,
     "metadata": {},
     "output_type": "execute_result"
    }
   ],
   "source": [
    "from IPython.core.display import HTML\n",
    "#HTML(\"<style>\" + open(\"style.css\", \"r\").read() + \"</style>\")\n",
    "HTML(\"<style>*{background: #f8f8f8;}</style>\")"
   ]
  },
  {
   "cell_type": "code",
   "execution_count": null,
   "metadata": {
    "collapsed": true
   },
   "outputs": [],
   "source": []
  }
 ],
 "metadata": {
  "kernelspec": {
   "display_name": "Python 2",
   "language": "python",
   "name": "python2"
  },
  "language_info": {
   "codemirror_mode": {
    "name": "ipython",
    "version": 2
   },
   "file_extension": ".py",
   "mimetype": "text/x-python",
   "name": "python",
   "nbconvert_exporter": "python",
   "pygments_lexer": "ipython2",
   "version": "2.7.11"
  }
 },
 "nbformat": 4,
 "nbformat_minor": 0
}
