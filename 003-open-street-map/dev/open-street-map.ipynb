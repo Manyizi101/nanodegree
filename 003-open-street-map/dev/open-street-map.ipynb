{
 "cells": [
  {
   "cell_type": "markdown",
   "metadata": {},
   "source": [
    "# Open Street Data Wrangling with MongoDB\n",
    "###### Željko Veić"
   ]
  },
  {
   "cell_type": "markdown",
   "metadata": {},
   "source": [
    "#### Map Area: Zagreb, Croatia"
   ]
  },
  {
   "cell_type": "markdown",
   "metadata": {},
   "source": [
    "https://www.openstreetmap.org/relation/3168167  \n",
    "https://mapzen.com/data/metro-extracts"
   ]
  },
  {
   "cell_type": "markdown",
   "metadata": {},
   "source": [
    "<a href=\"#choice\">0. Choosing the Dataset</a>  \n",
    "<a href=\"#problems\">1. Problems Encountered in the Map</a>  \n",
    "&nbsp;&nbsp;&nbsp;&nbsp;&nbsp;<a href=\"#problems-1\">Abbreviated street names</a>  \n",
    "&nbsp;&nbsp;&nbsp;&nbsp;&nbsp;<a href=\"#problems-2\">No designation for a street type</a>   \n",
    "&nbsp;&nbsp;&nbsp;&nbsp;&nbsp;<a href=\"#problems-3\">Street type can be in various positions in the street name with variable capitalization</a>  \n",
    "&nbsp;&nbsp;&nbsp;&nbsp;&nbsp;<a href=\"#problems-4\">Numbers in place of street names</a>  \n",
    "<a href=\"#overview\">2. Data Overview</a>  \n",
    "<a href=\"#ideas\">3. Additional Ideas</a>"
   ]
  },
  {
   "cell_type": "markdown",
   "metadata": {},
   "source": [
    "## <span id=\"choice\">0. Interest in the Dataset</span>"
   ]
  },
  {
   "cell_type": "markdown",
   "metadata": {},
   "source": [
    "I chose Zagreb dataset since it's the city I currently live in.  \n",
    "I was also interested to see how does parsing work when you have dataset in some language other than english.  \n",
    "Also, I wondered if there are some language-specific problems which might be encountered during the analysis."
   ]
  },
  {
   "cell_type": "markdown",
   "metadata": {},
   "source": [
    "## <span id=\"problems\">1. Problems Encountered in the Map</span>"
   ]
  },
  {
   "cell_type": "markdown",
   "metadata": {},
   "source": [
    "In my data inspection I ran into several problems:  \n",
    "* Abbreviated street names  \n",
    "* No designation for a street type  \n",
    "* Street type can be in various positions in the street name with variable capitalization  \n",
    "* Numbers in place of street names  "
   ]
  },
  {
   "cell_type": "markdown",
   "metadata": {},
   "source": [
    "### <span id=\"problems-1\">Abbreviated street names</span>"
   ]
  },
  {
   "cell_type": "markdown",
   "metadata": {},
   "source": [
    "There are street name entries which have street designation \"Ul.\" (shortened from \"Ulica\" which means \"Street\" in translation).  \n",
    "Also, I found \"Av.\" which is shortened from \"Avenija\" (translates into \"Avenue\")  "
   ]
  },
  {
   "cell_type": "markdown",
   "metadata": {},
   "source": [
    "### <span id=\"problems-2\">No designation for a street type</span>"
   ]
  },
  {
   "cell_type": "markdown",
   "metadata": {},
   "source": [
    "Frequently you have street names without explicit designation of a street type (\"Gajnice\", \"Jankomir\", \"Vijenac\", ...).  \n",
    "In Croatia when you don't have street type specified the default street type is considered to be \"Ulica\" (i.e. \"Street\" in translation).  "
   ]
  },
  {
   "cell_type": "markdown",
   "metadata": {},
   "source": [
    "###  <span id=\"problems-3\">Street type can be in various positions in the street name with variable capitalization</span>"
   ]
  },
  {
   "cell_type": "markdown",
   "metadata": {},
   "source": [
    "Unlike the Chicago example from the course lessons where we could see that street type comes at the end of the street name, in Zagreb dataset we can see that is not the case here.  \n",
    "Street type \"Ulica\" can be at the beginning (\"Ulica Ljudevita Gaja\") as well as on the end of the street name (\"Dalmatinska ulica\").  \n",
    "Also note here that here street type \"Ulica\" is in one case capitalized and in other it's not.  "
   ]
  },
  {
   "cell_type": "markdown",
   "metadata": {},
   "source": [
    "### <span id=\"problems-4\">Numbers in place of street names</span>"
   ]
  },
  {
   "cell_type": "markdown",
   "metadata": {},
   "source": [
    "There are entries in the dataset which have numbers as the street names (\"3\", \"22\", \"49\").  \n",
    "As the street namse In Croatia cannot be numbers this is obviously an error.  \n",
    "And since there are only three instances of this error in entire dataset we can ignore them completely."
   ]
  },
  {
   "cell_type": "code",
   "execution_count": null,
   "metadata": {},
   "outputs": [],
   "source": [
    ""
   ]
  },
  {
   "cell_type": "code",
   "execution_count": null,
   "metadata": {},
   "outputs": [],
   "source": [
    ""
   ]
  },
  {
   "cell_type": "code",
   "execution_count": null,
   "metadata": {},
   "outputs": [],
   "source": [
    ""
   ]
  },
  {
   "cell_type": "code",
   "execution_count": null,
   "metadata": {},
   "outputs": [],
   "source": [
    ""
   ]
  },
  {
   "cell_type": "code",
   "execution_count": null,
   "metadata": {},
   "outputs": [],
   "source": [
    ""
   ]
  },
  {
   "cell_type": "markdown",
   "metadata": {},
   "source": [
    "## <span id=\"problems\">Problems</span>"
   ]
  },
  {
   "cell_type": "code",
   "execution_count": null,
   "metadata": {},
   "outputs": [],
   "source": [
    ""
   ]
  },
  {
   "cell_type": "code",
   "execution_count": 28,
   "metadata": {},
   "outputs": [],
   "source": [
    "#from IPython.core.display import HTML\n",
    "#HTML(\"<style>\" + open(\"style.css\", \"r\").read() + \"</style>\")"
   ]
  },
  {
   "cell_type": "markdown",
   "metadata": {},
   "source": [
    "http://stackoverflow.com/questions/4022827/how-to-insert-some-string-in-the-given-string-at-given-index-in-python#4023434  \n"
   ]
  }
 ],
 "metadata": {
  "kernelspec": {
   "display_name": "Python 2",
   "language": "python",
   "name": "python2"
  },
  "language_info": {
   "codemirror_mode": {
    "name": "ipython",
    "version": 2.0
   },
   "file_extension": ".py",
   "mimetype": "text/x-python",
   "name": "python",
   "nbconvert_exporter": "python",
   "pygments_lexer": "ipython2",
   "version": "2.7.11"
  }
 },
 "nbformat": 4,
 "nbformat_minor": 0
}