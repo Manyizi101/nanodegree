{
 "cells": [
  {
   "cell_type": "code",
   "execution_count": 10,
   "metadata": {
    "collapsed": false
   },
   "outputs": [
    {
     "name": "stdout",
     "output_type": "stream",
     "text": [
      "   0  1  2\n",
      "0  1  2  3\n",
      "1  4  5  6\n",
      "\n",
      "Cockroach    1\n",
      "Fish         2\n",
      "Mini Pig     3\n",
      "Puppy        4\n",
      "Kitten       5\n",
      "dtype: int64\n"
     ]
    }
   ],
   "source": [
    "import numpy as np\n",
    "import pandas as pd\n",
    "\n",
    "df = pd.DataFrame([[1,2,3],[4,5,6]])\n",
    "\n",
    "cuteness = pd.Series([1, 2, 3, 4, 5], index=['Cockroach', 'Fish', 'Mini Pig',\n",
    "                                                 'Puppy', 'Kitten'])\n",
    "\n",
    "print df\n",
    "print \"\"\n",
    "print cuteness"
   ]
  },
  {
   "cell_type": "code",
   "execution_count": null,
   "metadata": {
    "collapsed": true
   },
   "outputs": [],
   "source": []
  },
  {
   "cell_type": "code",
   "execution_count": 11,
   "metadata": {
    "collapsed": false
   },
   "outputs": [
    {
     "name": "stdout",
     "output_type": "stream",
     "text": [
      "Instructor    Dave\n",
      "dtype: object\n",
      "\n",
      "Instructor                 Dave\n",
      "Curriculum Manager    Cheng-Han\n",
      "Course Number               359\n",
      "dtype: object\n"
     ]
    }
   ],
   "source": [
    "series = pd.Series(['Dave', 'Cheng-Han', 359, 9001],\n",
    "                       index=['Instructor', 'Curriculum Manager',\n",
    "                              'Course Number', 'Power Level'])\n",
    "print series[['Instructor']]\n",
    "print \"\"\n",
    "print series[['Instructor', 'Curriculum Manager', 'Course Number']]"
   ]
  },
  {
   "cell_type": "code",
   "execution_count": 13,
   "metadata": {
    "collapsed": true
   },
   "outputs": [],
   "source": [
    "###############"
   ]
  },
  {
   "cell_type": "code",
   "execution_count": 15,
   "metadata": {
    "collapsed": false
   },
   "outputs": [
    {
     "name": "stdout",
     "output_type": "stream",
     "text": [
      "   losses     team  wins  year\n",
      "0       5    Bears    11  2010\n",
      "1       8    Bears     8  2011\n",
      "2       6    Bears    10  2012\n",
      "3       1  Packers    15  2011\n",
      "4       5  Packers    11  2012\n",
      "5      10    Lions     6  2010\n",
      "6       6    Lions    10  2011\n",
      "7      12    Lions     4  2012\n"
     ]
    }
   ],
   "source": [
    " data = {'year': [2010, 2011, 2012, 2011, 2012, 2010, 2011, 2012],\n",
    "            'team': ['Bears', 'Bears', 'Bears', 'Packers', 'Packers', 'Lions',\n",
    "                     'Lions', 'Lions'],\n",
    "            'wins': [11, 8, 10, 15, 11, 6, 10, 4],\n",
    "            'losses': [5, 8, 6, 1, 5, 10, 6, 12]}\n",
    "football = pd.DataFrame(data)\n",
    "print football\n"
   ]
  },
  {
   "cell_type": "markdown",
   "metadata": {},
   "source": [
    "# Pandas data manipulation"
   ]
  },
  {
   "cell_type": "code",
   "execution_count": 17,
   "metadata": {
    "collapsed": false
   },
   "outputs": [
    {
     "name": "stdout",
     "output_type": "stream",
     "text": [
      "    bronze    country_name  gold  silver\n",
      "0        9    Russian Fed.    13      11\n",
      "1       10          Norway    11       5\n",
      "2        5          Canada    10      10\n",
      "3       12   United States     9       7\n",
      "4        9     Netherlands     8       7\n",
      "5        5         Germany     8       6\n",
      "6        2     Switzerland     6       3\n",
      "7        1         Belarus     5       0\n",
      "8        5         Austria     4       8\n",
      "9        7          France     4       4\n",
      "10       1          Poland     4       1\n",
      "11       2           China     3       4\n",
      "12       2           Korea     3       3\n",
      "13       6          Sweden     2       7\n",
      "14       2  Czech Republic     2       4\n",
      "15       4        Slovenia     2       2\n",
      "16       3           Japan     1       4\n",
      "17       1         Finland     1       3\n",
      "18       2   Great Britain     1       1\n",
      "19       1         Ukraine     1       0\n",
      "20       0        Slovakia     1       0\n",
      "21       6           Italy     0       2\n",
      "22       2          Latvia     0       2\n",
      "23       1       Australia     0       2\n",
      "24       0         Croatia     0       1\n",
      "25       1      Kazakhstan     0       0\n"
     ]
    }
   ],
   "source": [
    " countries = ['Russian Fed.', 'Norway', 'Canada', 'United States',\n",
    "                 'Netherlands', 'Germany', 'Switzerland', 'Belarus',\n",
    "                 'Austria', 'France', 'Poland', 'China', 'Korea', \n",
    "                 'Sweden', 'Czech Republic', 'Slovenia', 'Japan',\n",
    "                 'Finland', 'Great Britain', 'Ukraine', 'Slovakia',\n",
    "                 'Italy', 'Latvia', 'Australia', 'Croatia', 'Kazakhstan']\n",
    "\n",
    "gold = [13, 11, 10, 9, 8, 8, 6, 5, 4, 4, 4, 3, 3, 2, 2, 2, 1, 1, 1, 1, 1, 0, 0, 0, 0, 0]\n",
    "silver = [11, 5, 10, 7, 7, 6, 3, 0, 8, 4, 1, 4, 3, 7, 4, 2, 4, 3, 1, 0, 0, 2, 2, 2, 1, 0]\n",
    "bronze = [9, 10, 5, 12, 9, 5, 2, 1, 5, 7, 1, 2, 2, 6, 2, 4, 3, 1, 2, 1, 0, 6, 2, 1, 0, 1]\n",
    "\n",
    "# your code here\n",
    "\n",
    "data = {\"country_name\":countries,\n",
    "        \"gold\": gold,\n",
    "        \"silver\": silver,\n",
    "        \"bronze\":bronze}\n",
    "\n",
    "olympic_medal_counts_df = pd.DataFrame(data)\n",
    "\n",
    "print olympic_medal_counts_df"
   ]
  },
  {
   "cell_type": "code",
   "execution_count": null,
   "metadata": {
    "collapsed": true
   },
   "outputs": [],
   "source": []
  }
 ],
 "metadata": {
  "kernelspec": {
   "display_name": "Python 2",
   "language": "python",
   "name": "python2"
  },
  "language_info": {
   "codemirror_mode": {
    "name": "ipython",
    "version": 2
   },
   "file_extension": ".py",
   "mimetype": "text/x-python",
   "name": "python",
   "nbconvert_exporter": "python",
   "pygments_lexer": "ipython2",
   "version": "2.7.10"
  }
 },
 "nbformat": 4,
 "nbformat_minor": 0
}
