{
 "cells": [
  {
   "cell_type": "code",
   "execution_count": 9,
   "metadata": {
    "collapsed": false
   },
   "outputs": [
    {
     "name": "stdout",
     "output_type": "stream",
     "text": [
      "   UNIT     DATEn     TIMEn  ENTRIESn   EXITSn  ENTRIESn_hourly  \\\n",
      "0  R003  05-01-11  00:00:00   4388333  2911002                0   \n",
      "\n",
      "   EXITSn_hourly             datetime  hour  day_week  weekday        station  \\\n",
      "0              0  2011-05-01 00:00:00     0         6        0  CYPRESS HILLS   \n",
      "\n",
      "    latitude  longitude  conds  fog  precipi  pressurei  rain  tempi  wspdi  \\\n",
      "0  40.689945 -73.872564  Clear    0        0      30.22     0   55.9    3.5   \n",
      "\n",
      "   meanprecipi  meanpressurei  meantempi  meanwspdi  weather_lat  weather_lon  \n",
      "0            0         30.258      55.98       7.86    40.700348   -73.887177  \n"
     ]
    }
   ],
   "source": [
    "import numpy as np\n",
    "import pandas as pd\n",
    "\n",
    "pd.set_option('display.max_columns', None)\n",
    "\n",
    "weather_data = pd.read_csv('data/weather2.csv', sep=',')\n",
    "print weather_data.iloc[[0]]\n"
   ]
  },
  {
   "cell_type": "code",
   "execution_count": 6,
   "metadata": {
    "collapsed": false
   },
   "outputs": [
    {
     "name": "stdout",
     "output_type": "stream",
     "text": [
      "131951\n"
     ]
    }
   ],
   "source": [
    "print len(weather_data)"
   ]
  },
  {
   "cell_type": "code",
   "execution_count": 7,
   "metadata": {
    "collapsed": false
   },
   "outputs": [
    {
     "name": "stdout",
     "output_type": "stream",
     "text": [
      "131951\n"
     ]
    }
   ],
   "source": [
    "print len(weather_data.values)"
   ]
  },
  {
   "cell_type": "code",
   "execution_count": null,
   "metadata": {
    "collapsed": true
   },
   "outputs": [],
   "source": []
  }
 ],
 "metadata": {
  "kernelspec": {
   "display_name": "Python 2",
   "language": "python",
   "name": "python2"
  },
  "language_info": {
   "codemirror_mode": {
    "name": "ipython",
    "version": 2
   },
   "file_extension": ".py",
   "mimetype": "text/x-python",
   "name": "python",
   "nbconvert_exporter": "python",
   "pygments_lexer": "ipython2",
   "version": "2.7.10"
  }
 },
 "nbformat": 4,
 "nbformat_minor": 0
}
