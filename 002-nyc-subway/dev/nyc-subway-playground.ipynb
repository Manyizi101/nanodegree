{
 "cells": [
  {
   "cell_type": "code",
   "execution_count": 76,
   "metadata": {
    "collapsed": false,
    "scrolled": true
   },
   "outputs": [
    {
     "name": "stdout",
     "output_type": "stream",
     "text": [
      "   UNIT     DATEn     TIMEn  ENTRIESn   EXITSn  ENTRIESn_hourly  \\\n",
      "0  R003  05-01-11  00:00:00   4388333  2911002                0   \n",
      "1  R003  05-01-11  04:00:00   4388333  2911002                0   \n",
      "2  R003  05-01-11  12:00:00   4388333  2911002                0   \n",
      "3  R003  05-01-11  16:00:00   4388333  2911002                0   \n",
      "4  R003  05-01-11  20:00:00   4388333  2911002                0   \n",
      "\n",
      "   EXITSn_hourly             datetime  hour  day_week  weekday        station  \\\n",
      "0              0  2011-05-01 00:00:00     0         6        0  CYPRESS HILLS   \n",
      "1              0  2011-05-01 04:00:00     4         6        0  CYPRESS HILLS   \n",
      "2              0  2011-05-01 12:00:00    12         6        0  CYPRESS HILLS   \n",
      "3              0  2011-05-01 16:00:00    16         6        0  CYPRESS HILLS   \n",
      "4              0  2011-05-01 20:00:00    20         6        0  CYPRESS HILLS   \n",
      "\n",
      "    latitude  longitude          conds  fog  precipi  pressurei  rain  tempi  \\\n",
      "0  40.689945 -73.872564          Clear    0        0      30.22     0   55.9   \n",
      "1  40.689945 -73.872564  Partly Cloudy    0        0      30.25     0   52.0   \n",
      "2  40.689945 -73.872564  Mostly Cloudy    0        0      30.28     0   62.1   \n",
      "3  40.689945 -73.872564  Mostly Cloudy    0        0      30.26     0   57.9   \n",
      "4  40.689945 -73.872564  Mostly Cloudy    0        0      30.28     0   52.0   \n",
      "\n",
      "   wspdi  meanprecipi  meanpressurei  meantempi  meanwspdi  weather_lat  \\\n",
      "0    3.5            0         30.258      55.98       7.86    40.700348   \n",
      "1    3.5            0         30.258      55.98       7.86    40.700348   \n",
      "2    6.9            0         30.258      55.98       7.86    40.700348   \n",
      "3   15.0            0         30.258      55.98       7.86    40.700348   \n",
      "4   10.4            0         30.258      55.98       7.86    40.700348   \n",
      "\n",
      "   weather_lon  \n",
      "0   -73.887177  \n",
      "1   -73.887177  \n",
      "2   -73.887177  \n",
      "3   -73.887177  \n",
      "4   -73.887177  \n",
      "    entries  hour\n",
      "0   2300788     4\n",
      "1   5198583     8\n",
      "2  22085316    12\n",
      "3  16833040    16\n",
      "4  23690281    20\n"
     ]
    },
    {
     "data": {
      "image/png": "[encoded data removed]",
      "text/plain": [
       "<matplotlib.figure.Figure at 0x10c479190>"
      ]
     },
     "metadata": {},
     "output_type": "display_data"
    }
   ],
   "source": [
    "import numpy as np\n",
    "import pandas as pd\n",
    "import matplotlib.pyplot as plt\n",
    "%matplotlib inline\n",
    "\n",
    "pd.set_option('display.max_columns', None)\n",
    "\n",
    "weather_data = pd.read_csv('data/weather.csv')\n",
    "# weather_data.to_csv(\"output.csv\")\n",
    "#print weather_data.loc[5]\n",
    "\n",
    "pandas.options.mode.chained_assignment = None\n",
    "pysqldf = lambda q: sqldf(q, locals())\n",
    "\n",
    "data = weather_data\n",
    "\n",
    "print data.head()\n",
    "\n",
    "\n",
    "q = \"\"\"\n",
    "    select DESCn from data limit 3\n",
    "    \"\"\"\n",
    "\n",
    "#print pysqldf(q).head()\n",
    "entries = []\n",
    "hours = []\n",
    "\n",
    "midnight_value = 0\n",
    "for i in range(24):\n",
    "    entry_sum = np.sum(data[\"ENTRIESn_hourly\"][data.hour == i])\n",
    "    if entry_sum > 0:\n",
    "        \n",
    "        if i == 0:\n",
    "            entries.append(entry_sum)\n",
    "            hours.append(24)\n",
    "        else:\n",
    "            entries.insert(i/4-1,entry_sum)\n",
    "            hours.insert(i/4-1, i)\n",
    "    i = i + 1;\n",
    "\n",
    "\n",
    "filtered_dict = {\"hour\":hours, \"entries\":entries}\n",
    "\n",
    "filtered_data = pandas.DataFrame(filtered_dict)\n",
    "#print filtered_data[\"hour\"].unique()\n",
    "#print \"::::::::::::\"\n",
    "#print data.head()\n",
    "print filtered_data.head()\n",
    "\n",
    "\n",
    "\n",
    "plt.plot(filtered_data.hour, filtered_data.entries, 'k', filtered_data.hour, filtered_data.entries, 'yo')\n",
    "#plt.axis([0, 6, 0, 20])\n",
    "plt.grid(True)\n",
    "plt.axis([0, 25, 0, 25000000])\n",
    "plt.show()\n",
    "    \n"
   ]
  },
  {
   "cell_type": "code",
   "execution_count": null,
   "metadata": {
    "collapsed": true
   },
   "outputs": [],
   "source": []
  },
  {
   "cell_type": "code",
   "execution_count": null,
   "metadata": {
    "collapsed": false
   },
   "outputs": [],
   "source": [
    "weather_data[weather_data.conds == \"Rain\"].head()"
   ]
  },
  {
   "cell_type": "code",
   "execution_count": null,
   "metadata": {
    "collapsed": false
   },
   "outputs": [],
   "source": [
    "import pandasql\n",
    "\n",
    "q = \"\"\"\n",
    "select ENTRIESn, station, conds\n",
    "from weather_data \n",
    "where conds = 'Rain'\n",
    "limit 900\n",
    "\"\"\"\n",
    "\n",
    "filtered_data_rain = pandasql.sqldf(q, locals())\n",
    "filtered_data_rain.head()\n",
    "\n",
    "data2 = filtered_data_rain[[\"station\",\"conds\"]]\n",
    "print data2.groupby([\"station\"]).head()"
   ]
  },
  {
   "cell_type": "code",
   "execution_count": null,
   "metadata": {
    "collapsed": false
   },
   "outputs": [],
   "source": [
    "import pandasql\n",
    "\n",
    "q = \"\"\"\n",
    "select ENTRIESn, station, conds\n",
    "from weather_data \n",
    "where conds = 'Clear'\n",
    "limit 900\n",
    "\"\"\"\n",
    "\n",
    "filtered_data = pandasql.sqldf(q, locals())\n",
    "filtered_data.describe()\n",
    "filtered_data.conds.count()"
   ]
  },
  {
   "cell_type": "code",
   "execution_count": null,
   "metadata": {
    "collapsed": true
   },
   "outputs": [],
   "source": [
    "# for i in range(0, len(df.index) ):\n",
    "#         if i == 0:\n",
    "#             df[\"ENTRIESn_hourly\"] = 1\n",
    "#         else:\n",
    "#             df[\"ENTRIESn_hourly\"].iloc[i] = df[\"ENTRIESn\"].iloc[i] - df[\"ENTRIESn\"].iloc[i - 1]"
   ]
  },
  {
   "cell_type": "code",
   "execution_count": null,
   "metadata": {
    "collapsed": true
   },
   "outputs": [],
   "source": [
    "# import sklearn.linear_model\n",
    "\n",
    "# model = sklearn.linear_model.LinearRegression(fit_intercept=True, normalize=False, copy_X=True, n_jobs=1)\n",
    "# model.fit(features, values, sample_weight=None)\n",
    "\n",
    "# intercept = model.intercept_\n",
    "# params = model.coef_\n",
    "\n",
    "# model.predict(X)"
   ]
  },
  {
   "cell_type": "code",
   "execution_count": null,
   "metadata": {
    "collapsed": true
   },
   "outputs": [],
   "source": [
    "import numpy as np\n",
    "import pandas\n",
    "from sklearn.linear_model import SGDRegressor\n",
    "\n",
    "\"\"\"\n",
    "In this question, you need to:\n",
    "1) Implement the linear_regression() procedure using gradient descent.\n",
    "   You can use the SGDRegressor class from sklearn, since this class uses gradient descent.\n",
    "2) Select features (in the predictions procedure) and make predictions.\n",
    "\n",
    "\"\"\"\n",
    "\n",
    "def normalize_features(features):\n",
    "    ''' \n",
    "    Returns the means and standard deviations of the given features, along with a normalized feature\n",
    "    matrix.\n",
    "    ''' \n",
    "    means = np.mean(features, axis=0)\n",
    "    std_devs = np.std(features, axis=0)\n",
    "    normalized_features = (features - means) / std_devs\n",
    "    return means, std_devs, normalized_features\n",
    "\n",
    "def recover_params(means, std_devs, norm_intercept, norm_params):\n",
    "    ''' \n",
    "    Recovers the weights for a linear model given parameters that were fitted using\n",
    "    normalized features. Takes the means and standard deviations of the original\n",
    "    features, along with the intercept and parameters computed using the normalized\n",
    "    features, and returns the intercept and parameters that correspond to the original\n",
    "    features.\n",
    "    ''' \n",
    "    intercept = norm_intercept - np.sum(means * norm_params / std_devs)\n",
    "    params = norm_params / std_devs\n",
    "    return intercept, params\n",
    "\n",
    "def linear_regression(features, values):\n",
    "    \"\"\"\n",
    "    Perform linear regression given a data set with an arbitrary number of features.\n",
    "    \"\"\"\n",
    "    \n",
    "    ###########################\n",
    "    ### YOUR CODE GOES HERE ###\n",
    "    ###########################\n",
    "    \n",
    "    model = SGDRegressor()\n",
    "    model.fit(features, values)\n",
    "\n",
    "    intercept = model.intercept_\n",
    "    params = model.coef_\n",
    "    \n",
    "    return intercept, params\n",
    "\n",
    "def predictions(dataframe):\n",
    "    '''\n",
    "    The NYC turnstile data is stored in a pandas dataframe called weather_turnstile.\n",
    "    Using the information stored in the dataframe, let's predict the ridership of\n",
    "    the NYC subway using linear regression with gradient descent.\n",
    "    \n",
    "    You can download the complete turnstile weather dataframe here:\n",
    "    https://www.dropbox.com/s/meyki2wl9xfa7yk/turnstile_data_master_with_weather.csv    \n",
    "    \n",
    "    Your prediction should have a R^2 value of 0.40 or better.\n",
    "    You need to experiment using various input features contained in the dataframe. \n",
    "    We recommend that you don't use the EXITSn_hourly feature as an input to the \n",
    "    linear model because we cannot use it as a predictor: we cannot use exits \n",
    "    counts as a way to predict entry counts. \n",
    "    \n",
    "    Note: Due to the memory and CPU limitation of our Amazon EC2 instance, we will\n",
    "    give you a random subset (~50%) of the data contained in \n",
    "    turnstile_data_master_with_weather.csv. You are encouraged to experiment with \n",
    "    this exercise on your own computer, locally.\n",
    "    \n",
    "    If you receive a \"server has encountered an error\" message, that means you are \n",
    "    hitting the 30-second limit that's placed on running your program. Try using a\n",
    "    smaller number of features or fewer iterations.\n",
    "    '''\n",
    "    ################################ MODIFY THIS SECTION #####################################\n",
    "    # Select features. You should modify this section to try different features!             #\n",
    "    # We've selected rain, precipi, Hour, meantempi, and UNIT (as a dummy) to start you off. #\n",
    "    # See this page for more info about dummy variables:                                     #\n",
    "    # http://pandas.pydata.org/pandas-docs/stable/generated/pandas.get_dummies.html          #\n",
    "    ##########################################################################################\n",
    "    \n",
    "  \n",
    "    #datelist = []\n",
    "    \n",
    "    #for item in dataframe[\"DATEn\"]:\n",
    "        #string = item[5:7]\n",
    "        #number = int(string)\n",
    "        #datelist.append(number)\n",
    "    \n",
    "    #dataframe[\"current_month\"] = datelist\n",
    "    \n",
    "    dataframe[\"DATEn\"] = pandas.to_datetime(dataframe[\"DATEn\"])\n",
    "    dataframe[\"day_of_week\"] = dataframe.DATEn.dt.dayofweek\n",
    "    \n",
    "    \n",
    "    features = dataframe[['rain', 'Hour', 'day_of_week', 'precipi']]\n",
    "    \n",
    "    \n",
    "    dummy_units = pandas.get_dummies(dataframe['UNIT'], prefix='unit')\n",
    "    features = features.join(dummy_units)\n",
    "    \n",
    "    # Values\n",
    "    values = dataframe['ENTRIESn_hourly']\n",
    "    \n",
    "    # Get numpy arrays\n",
    "    features_array = features.values\n",
    "    values_array = values.values\n",
    "    \n",
    "    means, std_devs, normalized_features_array = normalize_features(features_array)\n",
    "\n",
    "    # Perform gradient descent\n",
    "    norm_intercept, norm_params = linear_regression(normalized_features_array, values_array)\n",
    "    \n",
    "    intercept, params = recover_params(means, std_devs, norm_intercept, norm_params)\n",
    "    \n",
    "    predictions = intercept + np.dot(features_array, params)\n",
    "    # The following line would be equivalent:\n",
    "    # predictions = norm_intercept + np.dot(normalized_features_array, norm_params)\n",
    "    \n",
    "    #print dataframe.dtypes\n",
    "    #print \":::::::::::::::::::\"\n",
    "    #print features.dtypes\n",
    "    #print \":::::::::::::::::::\"\n",
    "    print dataframe.describe()\n",
    "    \n",
    "    return predictions"
   ]
  },
  {
   "cell_type": "markdown",
   "metadata": {
    "collapsed": true
   },
   "source": [
    "## TITANIC 79.12%"
   ]
  },
  {
   "cell_type": "code",
   "execution_count": null,
   "metadata": {
    "collapsed": false
   },
   "outputs": [],
   "source": [
    "import numpy\n",
    "import pandas\n",
    "import statsmodels.api as sm\n",
    "\n",
    "predictions = {}\n",
    "df = pandas.read_csv(file_path)\n",
    "for passenger_index, passenger in df.iterrows():\n",
    "    passenger_id = passenger['PassengerId']\n",
    "\n",
    "    predictions[passenger_id] = 0\n",
    "\n",
    "    if passenger['Sex'] == 'female':\n",
    "        predictions[passenger_id] = 1\n",
    "\n",
    "    if passenger['Age'] < 18 and passenger[\"Pclass\"] == 1:\n",
    "        predictions[passenger_id] = 1\n",
    "\n",
    "        "
   ]
  },
  {
   "cell_type": "code",
   "execution_count": null,
   "metadata": {
    "collapsed": true
   },
   "outputs": [],
   "source": []
  },
  {
   "cell_type": "code",
   "execution_count": 122,
   "metadata": {
    "collapsed": false
   },
   "outputs": [
    {
     "name": "stdout",
     "output_type": "stream",
     "text": [
      "2015-01-01\n",
      "{\"latitude\":44.8,\"longitude\":15.98,\"timezone\":\"Europe/Sarajevo\",\"offset\":1,\"currently\":{\"time\":1449660298,\"summary\":\"Mostly Cloudy\",\"icon\":\"partly-cloudy-day\",\"precipIntensity\":0,\"precipProbability\":0,\"temperature\":34.86,\"apparentTemperature\":34.86,\"dewPoint\":29.91,\"humidity\":0.82,\"windSpeed\":1.72,\"windBearing\":35,\"cloudCover\":0.83,\"pressure\":1033.16,\"ozone\":290.33},\"hourly\":{\"summary\":\"Light snow starting tonight, continuing until tomorrow morning.\",\"icon\":\"snow\",\"data\":[{\"time\":1449658800,\"summary\":\"Mostly Cloudy\",\"icon\":\"partly-cloudy-day\",\"precipIntensity\":0,\"precipProbability\":0,\"temperature\":34.56,\"apparentTemperature\":34.56,\"dewPoint\":29.72,\"humidity\":0.82,\"windSpeed\":1.68,\"windBearing\":36,\"cloudCover\":0.85,\"pressure\":1033.25,\"ozone\":290.87},{\"time\":1449662400,\"summary\":\"Mostly Cloudy\",\"icon\":\"partly-cloudy-day\",\"precipIntensity\":0,\"precipProbability\":0,\"temperature\":35.3,\"apparentTemperature\":35.3,\"dewPoint\":30.17,\"humidity\":0.81,\"windSpeed\":1.79,\"windBearing\":34,\"cloudCover\":0.81,\"pressure\":1033.04,\"ozone\":289.59},{\"time\":1449666000,\"summary\":\"Mostly Cloudy\",\"icon\":\"partly-cloudy-day\",\"precipIntensity\":0,\"precipProbability\":0,\"temperature\":35.07,\"apparentTemperature\":35.07,\"dewPoint\":30.51,\"humidity\":0.83,\"windSpeed\":1.81,\"windBearing\":32,\"cloudCover\":0.76,\"pressure\":1032.85,\"ozone\":288.06},{\"time\":1449669600,\"summary\":\"Mostly Cloudy\",\"icon\":\"partly-cloudy-day\",\"precipIntensity\":0,\"precipProbability\":0,\"temperature\":34.19,\"apparentTemperature\":34.19,\"dewPoint\":30.65,\"humidity\":0.87,\"windSpeed\":1.79,\"windBearing\":31,\"cloudCover\":0.7,\"pressure\":1032.71,\"ozone\":286.46},{\"time\":1449673200,\"summary\":\"Mostly Cloudy\",\"icon\":\"partly-cloudy-day\",\"precipIntensity\":0,\"precipProbability\":0,\"temperature\":33.13,\"apparentTemperature\":33.13,\"dewPoint\":30.45,\"humidity\":0.9,\"windSpeed\":1.73,\"windBearing\":30,\"cloudCover\":0.62,\"pressure\":1032.72,\"ozone\":285.56},{\"time\":1449676800,\"summary\":\"Partly Cloudy\",\"icon\":\"partly-cloudy-night\",\"precipIntensity\":0,\"precipProbability\":0,\"temperature\":32.02,\"apparentTemperature\":32.02,\"dewPoint\":29.92,\"humidity\":0.92,\"windSpeed\":1.66,\"windBearing\":29,\"cloudCover\":0.53,\"pressure\":1032.98,\"ozone\":285.86},{\"time\":1449680400,\"summary\":\"Partly Cloudy\",\"icon\":\"partly-cloudy-night\",\"precipIntensity\":0,\"precipProbability\":0,\"temperature\":30.94,\"apparentTemperature\":30.94,\"dewPoint\":29.27,\"humidity\":0.93,\"windSpeed\":1.6,\"windBearing\":28,\"cloudCover\":0.44,\"pressure\":1033.38,\"ozone\":286.86},{\"time\":1449684000,\"summary\":\"Partly Cloudy\",\"icon\":\"partly-cloudy-night\",\"precipIntensity\":0,\"precipProbability\":0,\"temperature\":30.22,\"apparentTemperature\":30.22,\"dewPoint\":28.74,\"humidity\":0.94,\"windSpeed\":1.62,\"windBearing\":28,\"cloudCover\":0.37,\"pressure\":1033.73,\"ozone\":287.91},{\"time\":1449687600,\"summary\":\"Partly Cloudy\",\"icon\":\"partly-cloudy-night\",\"precipIntensity\":0,\"precipProbability\":0,\"temperature\":30.07,\"apparentTemperature\":30.07,\"dewPoint\":28.36,\"humidity\":0.93,\"windSpeed\":1.69,\"windBearing\":30,\"cloudCover\":0.36,\"pressure\":1033.95,\"ozone\":288.85},{\"time\":1449691200,\"summary\":\"Partly Cloudy\",\"icon\":\"partly-cloudy-night\",\"precipIntensity\":0,\"precipProbability\":0,\"temperature\":30.21,\"apparentTemperature\":30.21,\"dewPoint\":28.05,\"humidity\":0.92,\"windSpeed\":1.82,\"windBearing\":31,\"cloudCover\":0.38,\"pressure\":1034.13,\"ozone\":289.82},{\"time\":1449694800,\"summary\":\"Partly Cloudy\",\"icon\":\"partly-cloudy-night\",\"precipIntensity\":0,\"precipProbability\":0,\"temperature\":30.11,\"apparentTemperature\":30.11,\"dewPoint\":27.67,\"humidity\":0.91,\"windSpeed\":2.11,\"windBearing\":30,\"cloudCover\":0.39,\"pressure\":1034.33,\"ozone\":290.62},{\"time\":1449698400,\"summary\":\"Partly Cloudy\",\"icon\":\"partly-cloudy-night\",\"precipIntensity\":0,\"precipProbability\":0,\"temperature\":29.65,\"apparentTemperature\":29.65,\"dewPoint\":27.38,\"humidity\":0.91,\"windSpeed\":2.75,\"windBearing\":26,\"cloudCover\":0.38,\"pressure\":1034.56,\"ozone\":291.12},{\"time\":1449702000,\"summary\":\"Partly Cloudy\",\"icon\":\"partly-cloudy-night\",\"precipIntensity\":0,\"precipProbability\":0,\"temperature\":29.03,\"apparentTemperature\":25.23,\"dewPoint\":27.12,\"humidity\":0.92,\"windSpeed\":3.52,\"windBearing\":23,\"cloudCover\":0.36,\"pressure\":1034.81,\"ozone\":291.43},{\"time\":1449705600,\"summary\":\"Partly Cloudy\",\"icon\":\"partly-cloudy-night\",\"precipIntensity\":0.001,\"precipProbability\":0.01,\"precipType\":\"snow\",\"precipAccumulation\":0.01,\"temperature\":28.87,\"apparentTemperature\":24.34,\"dewPoint\":27.17,\"humidity\":0.93,\"windSpeed\":4.11,\"windBearing\":22,\"cloudCover\":0.39,\"pressure\":1034.99,\"ozone\":291.71},{\"time\":1449709200,\"summary\":\"Partly Cloudy\",\"icon\":\"partly-cloudy-night\",\"precipIntensity\":0.0014,\"precipProbability\":0.03,\"precipType\":\"snow\",\"precipAccumulation\":0.013,\"temperature\":29.59,\"apparentTemperature\":24.88,\"dewPoint\":27.78,\"humidity\":0.93,\"windSpeed\":4.38,\"windBearing\":22,\"cloudCover\":0.51,\"pressure\":1035.05,\"ozone\":291.9},{\"time\":1449712800,\"summary\":\"Flurries\",\"icon\":\"snow\",\"precipIntensity\":0.002,\"precipProbability\":0.05,\"precipType\":\"snow\",\"precipAccumulation\":0.017,\"temperature\":30.57,\"apparentTemperature\":25.89,\"dewPoint\":28.49,\"humidity\":0.92,\"windSpeed\":4.49,\"windBearing\":23,\"cloudCover\":0.68,\"pressure\":1035.05,\"ozone\":292.05},{\"time\":1449716400,\"summary\":\"Flurries\",\"icon\":\"snow\",\"precipIntensity\":0.0026,\"precipProbability\":0.08,\"precipType\":\"snow\",\"precipAccumulation\":0.021,\"temperature\":31.38,\"apparentTemperature\":26.56,\"dewPoint\":29.17,\"humidity\":0.91,\"windSpeed\":4.77,\"windBearing\":24,\"cloudCover\":0.81,\"pressure\":1035.14,\"ozone\":292.36},{\"time\":1449720000,\"summary\":\"Flurries\",\"icon\":\"snow\",\"precipIntensity\":0.0032,\"precipProbability\":0.11,\"precipType\":\"snow\",\"precipAccumulation\":0.025,\"temperature\":31.74,\"apparentTemperature\":26.64,\"dewPoint\":29.8,\"humidity\":0.92,\"windSpeed\":5.14,\"windBearing\":25,\"cloudCover\":0.85,\"pressure\":1035.37,\"ozone\":292.92},{\"time\":1449723600,\"summary\":\"Light Snow\",\"icon\":\"snow\",\"precipIntensity\":0.0038,\"precipProbability\":0.14,\"precipType\":\"snow\",\"precipAccumulation\":0.029,\"temperature\":32.02,\"apparentTemperature\":26.63,\"dewPoint\":30.46,\"humidity\":0.94,\"windSpeed\":5.53,\"windBearing\":26,\"cloudCover\":0.86,\"pressure\":1035.68,\"ozone\":293.65},{\"time\":1449727200,\"summary\":\"Light Snow\",\"icon\":\"snow\",\"precipIntensity\":0.0041,\"precipProbability\":0.15,\"precipType\":\"snow\",\"precipAccumulation\":0.031,\"temperature\":32.54,\"apparentTemperature\":26.9,\"dewPoint\":30.98,\"humidity\":0.94,\"windSpeed\":5.97,\"windBearing\":27,\"cloudCover\":0.87,\"pressure\":1035.99,\"ozone\":294.52},{\"time\":1449730800,\"summary\":\"Mostly Cloudy\",\"icon\":\"partly-cloudy-day\",\"precipIntensity\":0.0039,\"precipProbability\":0.14,\"precipType\":\"rain\",\"temperature\":33.63,\"apparentTemperature\":27.77,\"dewPoint\":31.35,\"humidity\":0.91,\"windSpeed\":6.55,\"windBearing\":26,\"cloudCover\":0.9,\"pressure\":1036.3,\"ozone\":295.62},{\"time\":1449734400,\"summary\":\"Overcast\",\"icon\":\"cloudy\",\"precipIntensity\":0.0035,\"precipProbability\":0.12,\"precipType\":\"rain\",\"temperature\":35.37,\"apparentTemperature\":29.42,\"dewPoint\":31.91,\"humidity\":0.87,\"windSpeed\":7.22,\"windBearing\":26,\"cloudCover\":0.94,\"pressure\":1036.61,\"ozone\":296.87},{\"time\":1449738000,\"summary\":\"Overcast\",\"icon\":\"cloudy\",\"precipIntensity\":0.0031,\"precipProbability\":0.1,\"precipType\":\"rain\",\"temperature\":37.41,\"apparentTemperature\":31.58,\"dewPoint\":32.82,\"humidity\":0.83,\"windSpeed\":7.74,\"windBearing\":26,\"cloudCover\":0.96,\"pressure\":1036.75,\"ozone\":297.95},{\"time\":1449741600,\"summary\":\"Overcast\",\"icon\":\"cloudy\",\"precipIntensity\":0.003,\"precipProbability\":0.1,\"precipType\":\"rain\",\"temperature\":39.51,\"apparentTemperature\":33.98,\"dewPoint\":33.97,\"humidity\":0.8,\"windSpeed\":8.02,\"windBearing\":26,\"cloudCover\":0.94,\"pressure\":1036.58,\"ozone\":298.75},{\"time\":1449745200,\"summary\":\"Mostly Cloudy\",\"icon\":\"partly-cloudy-day\",\"precipIntensity\":0.0029,\"precipProbability\":0.09,\"precipType\":\"rain\",\"temperature\":41.39,\"apparentTemperature\":36.2,\"dewPoint\":35.04,\"humidity\":0.78,\"windSpeed\":8.16,\"windBearing\":25,\"cloudCover\":0.9,\"pressure\":1036.26,\"ozone\":299.38},{\"time\":1449748800,\"summary\":\"Mostly Cloudy\",\"icon\":\"partly-cloudy-day\",\"precipIntensity\":0.0028,\"precipProbability\":0.09,\"precipType\":\"rain\",\"temperature\":42.43,\"apparentTemperature\":37.51,\"dewPoint\":35.79,\"humidity\":0.77,\"windSpeed\":8.06,\"windBearing\":24,\"cloudCover\":0.87,\"pressure\":1036,\"ozone\":299.85},{\"time\":1449752400,\"summary\":\"Mostly Cloudy\",\"icon\":\"partly-cloudy-day\",\"precipIntensity\":0.0025,\"precipProbability\":0.07,\"precipType\":\"rain\",\"temperature\":41.73,\"apparentTemperature\":36.95,\"dewPoint\":35.71,\"humidity\":0.79,\"windSpeed\":7.51,\"windBearing\":21,\"cloudCover\":0.86,\"pressure\":1035.84,\"ozone\":300.01},{\"time\":1449756000,\"summary\":\"Mostly Cloudy\",\"icon\":\"partly-cloudy-day\",\"precipIntensity\":0.0021,\"precipProbability\":0.05,\"precipType\":\"rain\",\"temperature\":40.37,\"apparentTemperature\":35.75,\"dewPoint\":35.46,\"humidity\":0.82,\"windSpeed\":6.73,\"windBearing\":16,\"cloudCover\":0.85,\"pressure\":1035.73,\"ozone\":300},{\"time\":1449759600,\"summary\":\"Mostly Cloudy\",\"icon\":\"partly-cloudy-day\",\"precipIntensity\":0.0016,\"precipProbability\":0.03,\"precipType\":\"rain\",\"temperature\":38.79,\"apparentTemperature\":34.31,\"dewPoint\":34.87,\"humidity\":0.86,\"windSpeed\":6.01,\"windBearing\":13,\"cloudCover\":0.83,\"pressure\":1035.7,\"ozone\":300.29},{\"time\":1449763200,\"summary\":\"Mostly Cloudy\",\"icon\":\"partly-cloudy-night\",\"precipIntensity\":0.0012,\"precipProbability\":0.02,\"precipType\":\"rain\",\"temperature\":37.15,\"apparentTemperature\":32.86,\"dewPoint\":33.89,\"humidity\":0.88,\"windSpeed\":5.33,\"windBearing\":11,\"cloudCover\":0.78,\"pressure\":1035.81,\"ozone\":301.13},{\"time\":1449766800,\"summary\":\"Mostly Cloudy\",\"icon\":\"partly-cloudy-night\",\"precipIntensity\":0.0009,\"precipProbability\":0.01,\"precipType\":\"rain\",\"temperature\":35.64,\"apparentTemperature\":31.57,\"dewPoint\":32.91,\"humidity\":0.9,\"windSpeed\":4.75,\"windBearing\":9,\"cloudCover\":0.71,\"pressure\":1035.99,\"ozone\":302.25},{\"time\":1449770400,\"summary\":\"Mostly Cloudy\",\"icon\":\"partly-cloudy-night\",\"precipIntensity\":0,\"precipProbability\":0,\"temperature\":34.17,\"apparentTemperature\":30.26,\"dewPoint\":31.81,\"humidity\":0.91,\"windSpeed\":4.31,\"windBearing\":6,\"cloudCover\":0.64,\"pressure\":1036.1,\"ozone\":303.34},{\"time\":1449774000,\"summary\":\"Partly Cloudy\",\"icon\":\"partly-cloudy-night\",\"precipIntensity\":0,\"precipProbability\":0,\"temperature\":33.02,\"apparentTemperature\":29.22,\"dewPoint\":30.8,\"humidity\":0.91,\"windSpeed\":4.03,\"windBearing\":2,\"cloudCover\":0.59,\"pressure\":1036.08,\"ozone\":304.43},{\"time\":1449777600,\"summary\":\"Partly Cloudy\",\"icon\":\"partly-cloudy-night\",\"precipIntensity\":0,\"precipProbability\":0,\"temperature\":32.12,\"apparentTemperature\":28.38,\"dewPoint\":29.9,\"humidity\":0.91,\"windSpeed\":3.85,\"windBearing\":358,\"cloudCover\":0.54,\"pressure\":1036,\"ozone\":305.47},{\"time\":1449781200,\"summary\":\"Partly Cloudy\",\"icon\":\"partly-cloudy-night\",\"precipIntensity\":0,\"precipProbability\":0,\"temperature\":31.24,\"apparentTemperature\":27.57,\"dewPoint\":29.08,\"humidity\":0.92,\"windSpeed\":3.68,\"windBearing\":354,\"cloudCover\":0.51,\"pressure\":1035.89,\"ozone\":306.03},{\"time\":1449784800,\"summary\":\"Partly Cloudy\",\"icon\":\"partly-cloudy-night\",\"precipIntensity\":0,\"precipProbability\":0,\"temperature\":30.19,\"apparentTemperature\":26.64,\"dewPoint\":28.22,\"humidity\":0.92,\"windSpeed\":3.46,\"windBearing\":352,\"cloudCover\":0.51,\"pressure\":1035.78,\"ozone\":305.94},{\"time\":1449788400,\"summary\":\"Partly Cloudy\",\"icon\":\"partly-cloudy-night\",\"precipIntensity\":0,\"precipProbability\":0,\"temperature\":29.01,\"apparentTemperature\":25.63,\"dewPoint\":27.29,\"humidity\":0.93,\"windSpeed\":3.2,\"windBearing\":350,\"cloudCover\":0.52,\"pressure\":1035.63,\"ozone\":305.36},{\"time\":1449792000,\"summary\":\"Partly Cloudy\",\"icon\":\"partly-cloudy-night\",\"precipIntensity\":0,\"precipProbability\":0,\"temperature\":28.04,\"apparentTemperature\":28.04,\"dewPoint\":26.53,\"humidity\":0.94,\"windSpeed\":2.91,\"windBearing\":349,\"cloudCover\":0.52,\"pressure\":1035.41,\"ozone\":304.28},{\"time\":1449795600,\"summary\":\"Partly Cloudy\",\"icon\":\"partly-cloudy-night\",\"precipIntensity\":0,\"precipProbability\":0,\"temperature\":27.3,\"apparentTemperature\":27.3,\"dewPoint\":25.94,\"humidity\":0.95,\"windSpeed\":2.36,\"windBearing\":354,\"cloudCover\":0.46,\"pressure\":1035.05,\"ozone\":302.43},{\"time\":1449799200,\"summary\":\"Partly Cloudy\",\"icon\":\"partly-cloudy-night\",\"precipIntensity\":0,\"precipProbability\":0,\"temperature\":26.77,\"apparentTemperature\":26.77,\"dewPoint\":25.54,\"humidity\":0.95,\"windSpeed\":1.83,\"windBearing\":2,\"cloudCover\":0.37,\"pressure\":1034.62,\"ozone\":300.08},{\"time\":1449802800,\"summary\":\"Partly Cloudy\",\"icon\":\"partly-cloudy-night\",\"precipIntensity\":0,\"precipProbability\":0,\"temperature\":26.39,\"apparentTemperature\":26.39,\"dewPoint\":25.25,\"humidity\":0.95,\"windSpeed\":1.4,\"windBearing\":15,\"cloudCover\":0.3,\"pressure\":1034.25,\"ozone\":298.01},{\"time\":1449806400,\"summary\":\"Partly Cloudy\",\"icon\":\"partly-cloudy-night\",\"precipIntensity\":0,\"precipProbability\":0,\"temperature\":25.76,\"apparentTemperature\":25.76,\"dewPoint\":24.79,\"humidity\":0.96,\"windSpeed\":1.02,\"windBearing\":33,\"cloudCover\":0.27,\"pressure\":1034,\"ozone\":296.39},{\"time\":1449810000,\"summary\":\"Partly Cloudy\",\"icon\":\"partly-cloudy-night\",\"precipIntensity\":0,\"precipProbability\":0,\"temperature\":25,\"apparentTemperature\":25,\"dewPoint\":24.15,\"humidity\":0.96,\"windSpeed\":0.77,\"windBearing\":65,\"cloudCover\":0.25,\"pressure\":1033.8,\"ozone\":295.05},{\"time\":1449813600,\"summary\":\"Clear\",\"icon\":\"clear-night\",\"precipIntensity\":0,\"precipProbability\":0,\"temperature\":26.5,\"apparentTemperature\":26.5,\"dewPoint\":25.34,\"humidity\":0.95,\"windSpeed\":0.8,\"windBearing\":87,\"cloudCover\":0.22,\"pressure\":1033.64,\"ozone\":294.32},{\"time\":1449817200,\"summary\":\"Clear\",\"icon\":\"clear-day\",\"precipIntensity\":0,\"precipProbability\":0,\"temperature\":29.28,\"apparentTemperature\":29.28,\"dewPoint\":26.98,\"humidity\":0.91,\"windSpeed\":0.89,\"windBearing\":95,\"cloudCover\":0.15,\"pressure\":1033.54,\"ozone\":294.66},{\"time\":1449820800,\"summary\":\"Clear\",\"icon\":\"clear-day\",\"precipIntensity\":0,\"precipProbability\":0,\"temperature\":32.7,\"apparentTemperature\":32.7,\"dewPoint\":28.7,\"humidity\":0.85,\"windSpeed\":0.97,\"windBearing\":93,\"cloudCover\":0.06,\"pressure\":1033.48,\"ozone\":295.61},{\"time\":1449824400,\"summary\":\"Clear\",\"icon\":\"clear-day\",\"precipIntensity\":0,\"precipProbability\":0,\"temperature\":36.23,\"apparentTemperature\":36.23,\"dewPoint\":30.58,\"humidity\":0.8,\"windSpeed\":1.1,\"windBearing\":84,\"cloudCover\":0,\"pressure\":1033.29,\"ozone\":296.08},{\"time\":1449828000,\"summary\":\"Clear\",\"icon\":\"clear-day\",\"precipIntensity\":0,\"precipProbability\":0,\"temperature\":40.37,\"apparentTemperature\":40.37,\"dewPoint\":33.24,\"humidity\":0.75,\"windSpeed\":1.43,\"windBearing\":66,\"cloudCover\":0,\"pressure\":1032.84,\"ozone\":295.53},{\"time\":1449831600,\"summary\":\"Clear\",\"icon\":\"clear-day\",\"precipIntensity\":0,\"precipProbability\":0,\"temperature\":44.82,\"apparentTemperature\":44.82,\"dewPoint\":36.4,\"humidity\":0.72,\"windSpeed\":1.97,\"windBearing\":52,\"cloudCover\":0,\"pressure\":1032.28,\"ozone\":294.52}]},\"daily\":{\"summary\":\"Mixed precipitation tomorrow and Wednesday, with temperatures rising to 52°F on Sunday.\",\"icon\":\"snow\",\"data\":[{\"time\":1449615600,\"summary\":\"Mostly cloudy throughout the day.\",\"icon\":\"partly-cloudy-day\",\"sunriseTime\":1449642162,\"sunsetTime\":1449674199,\"moonPhase\":0.93,\"precipIntensity\":0,\"precipIntensityMax\":0,\"precipProbability\":0,\"temperatureMin\":27.87,\"temperatureMinTime\":1449637200,\"temperatureMax\":35.3,\"temperatureMaxTime\":1449662400,\"apparentTemperatureMin\":27.87,\"apparentTemperatureMinTime\":1449637200,\"apparentTemperatureMax\":35.3,\"apparentTemperatureMaxTime\":1449662400,\"dewPoint\":28.43,\"humidity\":0.91,\"windSpeed\":1.87,\"windBearing\":32,\"cloudCover\":0.63,\"pressure\":1033.64,\"ozone\":291.98},{\"time\":1449702000,\"summary\":\"Light snow in the morning.\",\"icon\":\"snow\",\"sunriseTime\":1449728617,\"sunsetTime\":1449760596,\"moonPhase\":0.96,\"precipIntensity\":0.002,\"precipIntensityMax\":0.0041,\"precipIntensityMaxTime\":1449727200,\"precipProbability\":0.15,\"precipType\":\"snow\",\"precipAccumulation\":0.383,\"temperatureMin\":28.87,\"temperatureMinTime\":1449705600,\"temperatureMax\":42.43,\"temperatureMaxTime\":1449748800,\"apparentTemperatureMin\":24.34,\"apparentTemperatureMinTime\":1449705600,\"apparentTemperatureMax\":37.51,\"apparentTemperatureMaxTime\":1449748800,\"dewPoint\":31.44,\"humidity\":0.88,\"windSpeed\":5.47,\"windBearing\":19,\"cloudCover\":0.74,\"pressure\":1035.81,\"ozone\":298.24},{\"time\":1449788400,\"summary\":\"Partly cloudy in the morning.\",\"icon\":\"partly-cloudy-night\",\"sunriseTime\":1449815071,\"sunsetTime\":1449846995,\"moonPhase\":0.99,\"precipIntensity\":0,\"precipIntensityMax\":0,\"precipProbability\":0,\"temperatureMin\":25,\"temperatureMinTime\":1449810000,\"temperatureMax\":47.13,\"temperatureMaxTime\":1449835200,\"apparentTemperatureMin\":25,\"apparentTemperatureMinTime\":1449810000,\"apparentTemperatureMax\":47.13,\"apparentTemperatureMaxTime\":1449835200,\"dewPoint\":29.02,\"humidity\":0.88,\"windSpeed\":1.12,\"windBearing\":59,\"cloudCover\":0.13,\"pressure\":1032.68,\"ozone\":295.43},{\"time\":1449874800,\"summary\":\"Partly cloudy starting in the afternoon.\",\"icon\":\"partly-cloudy-night\",\"sunriseTime\":1449901523,\"sunsetTime\":1449933398,\"moonPhase\":0.03,\"precipIntensity\":0,\"precipIntensityMax\":0,\"precipProbability\":0,\"temperatureMin\":25.26,\"temperatureMinTime\":1449896400,\"temperatureMax\":50.45,\"temperatureMaxTime\":1449921600,\"apparentTemperatureMin\":25.26,\"apparentTemperatureMinTime\":1449896400,\"apparentTemperatureMax\":50.45,\"apparentTemperatureMaxTime\":1449921600,\"dewPoint\":25.44,\"humidity\":0.74,\"windSpeed\":0.32,\"windBearing\":57,\"cloudCover\":0.23,\"pressure\":1028.22,\"ozone\":310.07},{\"time\":1449961200,\"summary\":\"Partly cloudy starting in the afternoon.\",\"icon\":\"partly-cloudy-night\",\"sunriseTime\":1449987973,\"sunsetTime\":1450019802,\"moonPhase\":0.07,\"precipIntensity\":0,\"precipIntensityMax\":0,\"precipProbability\":0,\"temperatureMin\":28.1,\"temperatureMinTime\":1449964800,\"temperatureMax\":52.07,\"temperatureMaxTime\":1450008000,\"apparentTemperatureMin\":22.74,\"apparentTemperatureMinTime\":1449982800,\"apparentTemperatureMax\":52.07,\"apparentTemperatureMaxTime\":1450008000,\"dewPoint\":29.98,\"humidity\":0.78,\"windSpeed\":5.2,\"windBearing\":212,\"cloudCover\":0.27,\"pressure\":1025.67,\"ozone\":306.95},{\"time\":1450047600,\"summary\":\"Partly cloudy until afternoon.\",\"icon\":\"partly-cloudy-day\",\"sunriseTime\":1450074420,\"sunsetTime\":1450106210,\"moonPhase\":0.1,\"precipIntensity\":0,\"precipIntensityMax\":0,\"precipProbability\":0,\"temperatureMin\":29.79,\"temperatureMinTime\":1450065600,\"temperatureMax\":50.79,\"temperatureMaxTime\":1450094400,\"apparentTemperatureMin\":24.41,\"apparentTemperatureMinTime\":1450065600,\"apparentTemperatureMax\":50.79,\"apparentTemperatureMaxTime\":1450094400,\"dewPoint\":33.76,\"humidity\":0.87,\"windSpeed\":4.96,\"windBearing\":207,\"cloudCover\":0.34,\"pressure\":1025.63,\"ozone\":309.06},{\"time\":1450134000,\"summary\":\"Mostly cloudy starting in the afternoon.\",\"icon\":\"partly-cloudy-night\",\"sunriseTime\":1450160866,\"sunsetTime\":1450192620,\"moonPhase\":0.14,\"precipIntensity\":0.0009,\"precipIntensityMax\":0.0028,\"precipIntensityMaxTime\":1450202400,\"precipProbability\":0.09,\"precipType\":\"rain\",\"temperatureMin\":31.84,\"temperatureMinTime\":1450155600,\"temperatureMax\":50.44,\"temperatureMaxTime\":1450180800,\"apparentTemperatureMin\":26.31,\"apparentTemperatureMinTime\":1450155600,\"apparentTemperatureMax\":50.44,\"apparentTemperatureMaxTime\":1450180800,\"dewPoint\":35.95,\"humidity\":0.85,\"windSpeed\":7.57,\"windBearing\":200,\"cloudCover\":0.38,\"pressure\":1022.35,\"ozone\":304.85},{\"time\":1450220400,\"summary\":\"Rain throughout the day.\",\"icon\":\"rain\",\"sunriseTime\":1450247310,\"sunsetTime\":1450279032,\"moonPhase\":0.17,\"precipIntensity\":0.0403,\"precipIntensityMax\":0.1495,\"precipIntensityMaxTime\":1450278000,\"precipProbability\":0.82,\"precipType\":\"rain\",\"temperatureMin\":36.18,\"temperatureMinTime\":1450303200,\"temperatureMax\":48,\"temperatureMaxTime\":1450260000,\"apparentTemperatureMin\":31.38,\"apparentTemperatureMinTime\":1450303200,\"apparentTemperatureMax\":48,\"apparentTemperatureMaxTime\":1450260000,\"dewPoint\":39.38,\"humidity\":0.91,\"windSpeed\":2.07,\"windBearing\":206,\"cloudCover\":0.89,\"pressure\":1017.63,\"ozone\":315.63}]},\"flags\":{\"sources\":[\"gfs\",\"cmc\",\"fnmoc\",\"metno_ce\",\"isd\"],\"metno-license\":\"Based on data from the Norwegian Meteorological Institute. (http://api.met.no/)\",\"isd-stations\":[\"132230-99999\",\"132280-99999\",\"143300-99999\",\"145280-99999\",\"145370-99999\"],\"units\":\"us\"}}\n"
     ]
    }
   ],
   "source": [
    "from urllib import urlopen\n",
    "import json\n",
    "import datetime\n",
    "\n",
    "APIKEY = \"4b21eeff0ce3806f5e42d1bad302b81e\"\n",
    "LATITUDE = \"44.8\"\n",
    "LONGITUDE = \"15.98\"\n",
    "TIME = datetime.datetime(2015,1,1).date()\n",
    "print TIME\n",
    "r = urlopen(\"https://api.forecast.io/forecast/\"+APIKEY+\"/\"+LATITUDE+\",\"+LONGITUDE)\n",
    "\n",
    "\n",
    "print r.read()"
   ]
  },
  {
   "cell_type": "code",
   "execution_count": 107,
   "metadata": {
    "collapsed": false
   },
   "outputs": [
    {
     "ename": "ImportError",
     "evalue": "No module named forecastio",
     "output_type": "error",
     "traceback": [
      "\u001b[0;31m---------------------------------------------------------------------------\u001b[0m",
      "\u001b[0;31mImportError\u001b[0m                               Traceback (most recent call last)",
      "\u001b[0;32m<ipython-input-107-5d80d19cb561>\u001b[0m in \u001b[0;36m<module>\u001b[0;34m()\u001b[0m\n\u001b[1;32m      1\u001b[0m \u001b[0;32mimport\u001b[0m \u001b[0mdatetime\u001b[0m\u001b[0;34m\u001b[0m\u001b[0m\n\u001b[1;32m      2\u001b[0m \u001b[0;32mimport\u001b[0m \u001b[0mpandas\u001b[0m \u001b[0;32mas\u001b[0m \u001b[0mpd\u001b[0m\u001b[0;34m\u001b[0m\u001b[0m\n\u001b[0;32m----> 3\u001b[0;31m \u001b[0;32mimport\u001b[0m \u001b[0mforecastio\u001b[0m\u001b[0;34m\u001b[0m\u001b[0m\n\u001b[0m\u001b[1;32m      4\u001b[0m \u001b[0;32mimport\u001b[0m \u001b[0mgetpass\u001b[0m\u001b[0;34m\u001b[0m\u001b[0m\n\u001b[1;32m      5\u001b[0m \u001b[0;34m\u001b[0m\u001b[0m\n",
      "\u001b[0;31mImportError\u001b[0m: No module named forecastio"
     ]
    }
   ],
   "source": [
    "import datetime\n",
    "import pandas as pd\n",
    "import forecastio\n",
    "import getpass\n",
    "import \n",
    "\n",
    "# Enter your API here\n",
    "api_key = getpass.getpass()\n",
    "print len(api_key)\n",
    "\n",
    "lat = 45.8\n",
    "lng = 15.98\n",
    "\n",
    "date = datetime.datetime(2015,1,1)\n",
    "forecast = forecastio.load_forecast(api_key, lat, lng, time=date, units=\"us\")\n",
    "\n",
    "\n",
    "hourly = forecast.hourly()\n",
    "hourly.data\n",
    "\n",
    "print hourly.data[0].d"
   ]
  },
  {
   "cell_type": "code",
   "execution_count": null,
   "metadata": {
    "collapsed": true
   },
   "outputs": [],
   "source": []
  }
 ],
 "metadata": {
  "kernelspec": {
   "display_name": "Python 2",
   "language": "python",
   "name": "python2"
  },
  "language_info": {
   "codemirror_mode": {
    "name": "ipython",
    "version": 2
   },
   "file_extension": ".py",
   "mimetype": "text/x-python",
   "name": "python",
   "nbconvert_exporter": "python",
   "pygments_lexer": "ipython2",
   "version": "2.7.10"
  }
 },
 "nbformat": 4,
 "nbformat_minor": 0
}
