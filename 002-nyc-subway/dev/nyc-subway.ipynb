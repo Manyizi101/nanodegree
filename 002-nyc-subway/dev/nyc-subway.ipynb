{
 "cells": [
  {
   "cell_type": "markdown",
   "metadata": {},
   "source": [
    "# NYC Subway Dataset Analysis"
   ]
  },
  {
   "cell_type": "markdown",
   "metadata": {},
   "source": [
    "## Assignment"
   ]
  },
  {
   "cell_type": "markdown",
   "metadata": {},
   "source": [
    "Purpose of this assignment is to analyze subway ridership dataset and see if external elements like rain significantly influence the number of passengers.  \n",
    "Also, we need to predict number of passengers based on parameters we previously analyzed."
   ]
  },
  {
   "cell_type": "markdown",
   "metadata": {},
   "source": [
    "## Disclaimers"
   ]
  },
  {
   "cell_type": "markdown",
   "metadata": {},
   "source": [
    "Part of the this assigment are also questions in Problem Sets 2, 3, and 4 in the Introduction to Data Science course.  \n",
    "I have resolved all of those.  \n",
    "On couple of them, server would return some unrelated errors and my submission would fail even though I did get required plots.  \n",
    "This only happens when dealing with ggplot."
   ]
  },
  {
   "cell_type": "markdown",
   "metadata": {},
   "source": [
    "## Loading Data and Defining Functions"
   ]
  },
  {
   "cell_type": "markdown",
   "metadata": {},
   "source": [
    "## Section 0. References"
   ]
  },
  {
   "cell_type": "markdown",
   "metadata": {},
   "source": [
    "1. Udacity \"Intro to Data Science\" videos\n",
    "2. pandas, numpy, sklearn, ggplot documentation\n",
    "3. http://matplotlib.org/users/pyplot_tutorial.html\n",
    "4. http://matplotlib.org/examples/api/barchart_demo.html\n",
    "5. https://www.youtube.com/watch?v=pHrwqLhAaMw\n",
    "6. http://stackoverflow.com/questions/2546016/how-to-define-fill-colours-in-ggplot-histogram"
   ]
  },
  {
   "cell_type": "markdown",
   "metadata": {},
   "source": [
    "## Section 1. Statistical Test"
   ]
  },
  {
   "cell_type": "markdown",
   "metadata": {},
   "source": [
    "### Question 1.1\n",
    "Which statistical test did you use to analyze the NYC subway data? Did you use a one-tail or a two-tail P value? What is the null hypothesis? What is your p-critical value?"
   ]
  },
  {
   "cell_type": "markdown",
   "metadata": {
    "collapsed": true
   },
   "source": [
    "#### Answer\n",
    "**H0: µ_entries_rain = µ_entries_no_rain**  \n",
    "Mean of entries on the days it rains is the same as the mean of entries on the days when it doesn't rain  \n",
    "**H1: µ_entries_rain ≠ µ_entries_no_rain**  \n",
    "Mean of entries on the days it rains is different than the mean of entries on the days when it doesn't rain  \n",
    "  \n",
    "I am using one-tail p value.\n",
    "\n",
    "p_critical = 0.05  \n",
    "  \n",
    "I used Mann-Whitney u-test since the data was not normally distributed."
   ]
  },
  {
   "cell_type": "markdown",
   "metadata": {},
   "source": [
    "#### Calculation\n",
    "First we need to agregate *entries* and *rain* by days."
   ]
  },
  {
   "cell_type": "code",
   "execution_count": 1,
   "metadata": {
    "collapsed": false
   },
   "outputs": [],
   "source": [
    "import numpy as np\n",
    "import pandas\n",
    "import pandasql\n",
    "from sklearn.linear_model import SGDRegressor\n",
    "import scipy\n",
    "from ggplot import *\n",
    "%matplotlib inline \n",
    "\n",
    "pandas.set_option('display.max_columns', None)\n",
    "data = pandas.read_csv('data/weather.csv')\n",
    "#print data.iloc[0]"
   ]
  },
  {
   "cell_type": "code",
   "execution_count": 2,
   "metadata": {
    "collapsed": false
   },
   "outputs": [],
   "source": [
    "q = \"\"\"\n",
    "select UNIT, DATEn, max(rain) as rain, weekday, sum(ENTRIESn_hourly) as entries\n",
    "from data\n",
    "group by UNIT, DATEn\n",
    "\"\"\"\n",
    "\n",
    "daily_data = pandasql.sqldf(q, locals())"
   ]
  },
  {
   "cell_type": "markdown",
   "metadata": {},
   "source": [
    "Now we can compare entries on the days that rains vs. the ones that don't.  \n",
    "Also, we should compare only weekdays with themselves since ridership may vary for weekends."
   ]
  },
  {
   "cell_type": "code",
   "execution_count": 3,
   "metadata": {
    "collapsed": false
   },
   "outputs": [],
   "source": [
    "rains_weekday_data = daily_data['entries'][(daily_data.rain == 1) & (daily_data.weekday == 1)]\n",
    "no_rain_weekday_data = daily_data['entries'][(daily_data.rain == 0) & (daily_data.weekday == 1)]\n",
    "rains_weekend_data = daily_data['entries'][(daily_data.rain == 1) & (daily_data.weekday == 0)]\n",
    "no_rain_weekend_data = daily_data['entries'][(daily_data.rain == 0) & (daily_data.weekday == 0)]"
   ]
  },
  {
   "cell_type": "markdown",
   "metadata": {},
   "source": [
    "To detect which test we should use we first need to confirm or deny some assumptions we have about data.\n",
    "First we use Shapiro-Wilk test to see weather our data is normally distributed."
   ]
  },
  {
   "cell_type": "code",
   "execution_count": 4,
   "metadata": {
    "collapsed": false
   },
   "outputs": [
    {
     "name": "stdout",
     "output_type": "stream",
     "text": [
      "p = 0.0\n"
     ]
    },
    {
     "name": "stderr",
     "output_type": "stream",
     "text": [
      "/home/veich/installations/anaconda2/lib/python2.7/site-packages/scipy/stats/morestats.py:1082: UserWarning: p-value may not be accurate for N > 5000.\n",
      "  warnings.warn(\"p-value may not be accurate for N > 5000.\")\n"
     ]
    }
   ],
   "source": [
    "w,p = scipy.stats.shapiro(daily_data['entries'])\n",
    "print \"p = \" + str(p)"
   ]
  },
  {
   "cell_type": "markdown",
   "metadata": {},
   "source": [
    "Since p = 0.0 we can conclude that our data is not normally distributed."
   ]
  },
  {
   "cell_type": "code",
   "execution_count": 5,
   "metadata": {
    "collapsed": false
   },
   "outputs": [
    {
     "name": "stderr",
     "output_type": "stream",
     "text": [
      "stat_bin: binwidth defaulted to range/30.\n",
      "    Use 'binwidth = x' to adjust this.\n"
     ]
    },
    {
     "data": {
      "image/png": "[encoded data removed]",
      "text/plain": [
       "<matplotlib.figure.Figure at 0x7f16aa4d5790>"
      ]
     },
     "metadata": {},
     "output_type": "display_data"
    },
    {
     "data": {
      "text/plain": [
       "<ggplot: (8733458719949)>"
      ]
     },
     "execution_count": 5,
     "metadata": {},
     "output_type": "execute_result"
    }
   ],
   "source": [
    "ggplot(daily_data, aes(x=\"entries\")) + geom_histogram() + \\\n",
    "ggtitle(\"Hourly entries histogram\") + \\\n",
    "xlab('No. of entries')"
   ]
  },
  {
   "cell_type": "markdown",
   "metadata": {},
   "source": [
    "Because our data is not normally distributed Mann-Whitney u-test seems appropriate to compare data samples.  \n",
    "This test doesn't assume any particular probability distribution."
   ]
  },
  {
   "cell_type": "markdown",
   "metadata": {},
   "source": [
    "### Question 1.2\n",
    "Why is this statistical test applicable to the dataset? In particular, consider the assumptions that the test is making about the distribution of ridership in the two samples."
   ]
  },
  {
   "cell_type": "markdown",
   "metadata": {
    "collapsed": true
   },
   "source": [
    "#### Answer\n",
    "Mann-Whitney u-test doesn't assume any particular sample distribution which makes it suitable for this data set which is not normally distributed."
   ]
  },
  {
   "cell_type": "markdown",
   "metadata": {},
   "source": [
    "### Question 1.3\n",
    "What results did you get from this statistical test? These should include the following numerical values: p-values, as well as the means for each of the two samples under test."
   ]
  },
  {
   "cell_type": "code",
   "execution_count": 6,
   "metadata": {
    "collapsed": false
   },
   "outputs": [
    {
     "name": "stdout",
     "output_type": "stream",
     "text": [
      "p = 0.0496887782637\n",
      "entries_mean_weekday_rains_ridership = 12970.4450995\n",
      "entries_mean_weekday_no_rain_ridership = 12328.3840246\n"
     ]
    }
   ],
   "source": [
    "u,p = scipy.stats.mannwhitneyu(rains_weekday_data, no_rain_weekday_data)\n",
    "print 'p = ' + str(p)\n",
    "print \"entries_mean_weekday_rains_ridership = \" + str(np.mean(rains_weekday_data))\n",
    "print \"entries_mean_weekday_no_rain_ridership = \" + str(np.mean(no_rain_weekday_data))"
   ]
  },
  {
   "cell_type": "markdown",
   "metadata": {},
   "source": [
    "Calculated p value is less than our p_critical value (0.05) which means rain has significant impact on ridership on weekdays."
   ]
  },
  {
   "cell_type": "code",
   "execution_count": 7,
   "metadata": {
    "collapsed": false
   },
   "outputs": [
    {
     "name": "stdout",
     "output_type": "stream",
     "text": [
      "p = 0.0829950888061\n",
      "entries_mean_weekend_rains_ridership = 6193.14814815\n",
      "entries_mean_weekend_no_rain_ridership = 6939.72384035\n"
     ]
    }
   ],
   "source": [
    "u,p = scipy.stats.mannwhitneyu(rains_weekend_data, no_rain_weekend_data)\n",
    "print 'p = ' + str(p)\n",
    "print \"entries_mean_weekend_rains_ridership = \" + str(np.mean(rains_weekend_data))\n",
    "print \"entries_mean_weekend_no_rain_ridership = \" + str(np.mean(no_rain_weekend_data))"
   ]
  },
  {
   "cell_type": "markdown",
   "metadata": {},
   "source": [
    "p value in this test suggests that rain has no significant impact on subway ridership during the weekend."
   ]
  },
  {
   "cell_type": "code",
   "execution_count": 8,
   "metadata": {
    "collapsed": false
   },
   "outputs": [
    {
     "name": "stdout",
     "output_type": "stream",
     "text": [
      "p = 7.68162246312e-32\n",
      "entries_mean_weekday_rains_ridership = 12970.4450995\n",
      "entries_mean_weekend_rains_ridership = 6193.14814815\n",
      "p = 7.60085459706e-103\n",
      "entries_mean_weekday_no_rain_ridership = 12328.3840246\n",
      "entries_mean_weekend_no_rain_ridership = 6939.72384035\n"
     ]
    }
   ],
   "source": [
    "u,p = scipy.stats.mannwhitneyu(rains_weekday_data, rains_weekend_data)\n",
    "print 'p = ' + str(p)\n",
    "print \"entries_mean_weekday_rains_ridership = \" + str(np.mean(rains_weekday_data))\n",
    "print \"entries_mean_weekend_rains_ridership = \" + str(np.mean(rains_weekend_data))\n",
    "u,p = scipy.stats.mannwhitneyu(no_rain_weekend_data, no_rain_weekday_data)\n",
    "print 'p = ' + str(p)\n",
    "print \"entries_mean_weekday_no_rain_ridership = \" + str(np.mean(no_rain_weekday_data))\n",
    "print \"entries_mean_weekend_no_rain_ridership = \" + str(np.mean(no_rain_weekend_data))"
   ]
  },
  {
   "cell_type": "markdown",
   "metadata": {},
   "source": [
    "Calculated p values suggest weekday vs. weekend has significant impact on the subway ridership (accounted for the possible rain impact on the results)."
   ]
  },
  {
   "cell_type": "markdown",
   "metadata": {},
   "source": [
    "### Question 1.4\n",
    "What is the significance and interpretation of these results?"
   ]
  },
  {
   "cell_type": "markdown",
   "metadata": {
    "collapsed": true
   },
   "source": [
    "#### Answer\n",
    "Statistical significance of these results is 0.05"
   ]
  },
  {
   "cell_type": "markdown",
   "metadata": {},
   "source": [
    "## Section 2. Linear Regression"
   ]
  },
  {
   "cell_type": "markdown",
   "metadata": {},
   "source": [
    "### Question 2.1\n",
    "What approach did you use to compute the coefficients theta and produce prediction for ENTRIESn_hourly in your regression model:\n",
    "- OLS using Statsmodels or Scikit Learn\n",
    "- Gradient descent using Scikit Learn\n",
    "- Or something different?"
   ]
  },
  {
   "cell_type": "markdown",
   "metadata": {
    "collapsed": true
   },
   "source": [
    "#### Answer\n",
    "I used gradient descent from scikit learn."
   ]
  },
  {
   "cell_type": "markdown",
   "metadata": {},
   "source": [
    "### Question 2.2\n",
    "What features (input variables) did you use in your model? Did you use any dummy variables as part of your features?"
   ]
  },
  {
   "cell_type": "markdown",
   "metadata": {
    "collapsed": true
   },
   "source": [
    "#### Answer\n",
    "In my model I used the following variables:\n",
    "- rain\n",
    "- hour\n",
    "- weekday\n",
    "- fog\n",
    "- day_week\n",
    "\n",
    "I used *UNIT* dummy variable as part of my features"
   ]
  },
  {
   "cell_type": "markdown",
   "metadata": {},
   "source": [
    "#### Calculation"
   ]
  },
  {
   "cell_type": "code",
   "execution_count": 9,
   "metadata": {
    "collapsed": true
   },
   "outputs": [],
   "source": [
    "def linear_regression(features, values):\n",
    "    model = SGDRegressor()\n",
    "    model.fit(features, values)\n",
    "\n",
    "    intercept = model.intercept_\n",
    "    params = model.coef_\n",
    "    \n",
    "    return intercept, params"
   ]
  },
  {
   "cell_type": "code",
   "execution_count": 10,
   "metadata": {
    "collapsed": true
   },
   "outputs": [],
   "source": [
    "def normalize_features(features):\n",
    "    ''' \n",
    "    Returns the means and standard deviations of the given features, along with a normalized feature\n",
    "    matrix.\n",
    "    ''' \n",
    "    means = np.mean(features, axis=0)\n",
    "    std_devs = np.std(features, axis=0)\n",
    "    normalized_features = (features - means) / std_devs\n",
    "    \n",
    "    return means, std_devs, normalized_features"
   ]
  },
  {
   "cell_type": "code",
   "execution_count": 11,
   "metadata": {
    "collapsed": true
   },
   "outputs": [],
   "source": [
    "def recover_params(means, std_devs, norm_intercept, norm_params):\n",
    "    ''' \n",
    "    Recovers the weights for a linear model given parameters that were fitted using\n",
    "    normalized features. Takes the means and standard deviations of the original\n",
    "    features, along with the intercept and parameters computed using the normalized\n",
    "    features, and returns the intercept and parameters that correspond to the original\n",
    "    features.\n",
    "    ''' \n",
    "    intercept = norm_intercept - np.sum(means * norm_params / std_devs)\n",
    "    params = norm_params / std_devs\n",
    "    \n",
    "    return intercept, params"
   ]
  },
  {
   "cell_type": "code",
   "execution_count": 12,
   "metadata": {
    "collapsed": true
   },
   "outputs": [],
   "source": [
    "def compute_r_squared(data, predicted_data):\n",
    "    \n",
    "    y = data['ENTRIESn_hourly'].tolist()\n",
    "    avg_y = np.mean(y)\n",
    "    \n",
    "    \n",
    "    top_diff = y - predicted_data\n",
    "    top_diff_squared = top_diff * top_diff\n",
    "    top_total_sum = np.sum(top_diff_squared)\n",
    "    \n",
    "    bottom_diff = y - avg_y\n",
    "    bottom_diff_squared = bottom_diff * bottom_diff\n",
    "    bottom_total_sum = np.sum(bottom_diff_squared)\n",
    "    \n",
    "    r_squared = 1 - (top_total_sum / bottom_total_sum)\n",
    "    \n",
    "    \n",
    "    return r_squared"
   ]
  },
  {
   "cell_type": "code",
   "execution_count": 13,
   "metadata": {
    "collapsed": false
   },
   "outputs": [],
   "source": [
    "def predictions(dataframe): \n",
    "    \n",
    "    features = dataframe[['meantempi']]\n",
    "    \n",
    "    \n",
    "    dummy_units = pandas.get_dummies(dataframe['UNIT'], prefix='unit')\n",
    "    features = features.join(dummy_units)\n",
    "    dummy_units = pandas.get_dummies(dataframe['rain'], prefix='rain')\n",
    "    print dummy_units.iloc[0]\n",
    "    #features = features.join(dummy_units)\n",
    "    dummy_units = pandas.get_dummies(dataframe['day_week'], prefix='day_week')\n",
    "    features = features.join(dummy_units)\n",
    "    dummy_units = pandas.get_dummies(dataframe['hour'], prefix='hour')\n",
    "    features = features.join(dummy_units)\n",
    "    \n",
    "    \n",
    "    #print dummy_units\n",
    "    \n",
    "    # Values\n",
    "    values = dataframe['ENTRIESn_hourly']\n",
    "    \n",
    "    # Get numpy arrays\n",
    "    features_array = features.values\n",
    "    values_array = values.values\n",
    "    \n",
    "    means, std_devs, normalized_features_array = normalize_features(features_array)\n",
    "\n",
    "    # Perform gradient descent\n",
    "    norm_intercept, norm_params = linear_regression(normalized_features_array, values_array)\n",
    "    \n",
    "    intercept, params = recover_params(means, std_devs, norm_intercept, norm_params)\n",
    "    \n",
    "    predictions = intercept + np.dot(features_array, params)\n",
    "    # The following line would be equivalent:\n",
    "    # predictions = norm_intercept + np.dot(normalized_features_array, norm_params)\n",
    "    \n",
    "    global data_intercept\n",
    "    data_intercept = intercept\n",
    "    \n",
    "    global data_params\n",
    "    data_params = params\n",
    "    \n",
    "    return predictions"
   ]
  },
  {
   "cell_type": "code",
   "execution_count": 14,
   "metadata": {
    "collapsed": false
   },
   "outputs": [
    {
     "name": "stdout",
     "output_type": "stream",
     "text": [
      "rain_0.0    1\n",
      "rain_1.0    0\n",
      "Name: 0, dtype: float64\n",
      "r_squared: 0.517089954369\n",
      "UNIT                              R003\n",
      "DATEn                         05-01-11\n",
      "TIMEn                         00:00:00\n",
      "ENTRIESn                       4388333\n",
      "EXITSn                         2911002\n",
      "ENTRIESn_hourly                      0\n",
      "EXITSn_hourly                        0\n",
      "datetime           2011-05-01 00:00:00\n",
      "hour                                 0\n",
      "day_week                             6\n",
      "weekday                              0\n",
      "station                  CYPRESS HILLS\n",
      "latitude                      40.68995\n",
      "longitude                    -73.87256\n",
      "conds                            Clear\n",
      "fog                                  0\n",
      "precipi                              0\n",
      "pressurei                        30.22\n",
      "rain                                 0\n",
      "tempi                             55.9\n",
      "wspdi                              3.5\n",
      "meanprecipi                          0\n",
      "meanpressurei                   30.258\n",
      "meantempi                        55.98\n",
      "meanwspdi                         7.86\n",
      "weather_lat                   40.70035\n",
      "weather_lon                  -73.88718\n",
      "Name: 0, dtype: object\n"
     ]
    }
   ],
   "source": [
    "data_intercept = []\n",
    "data_params = []\n",
    "entries_predictions = predictions(data)\n",
    "\n",
    "r_squared = compute_r_squared(data, entries_predictions)\n",
    "print \"r_squared: \" + str(r_squared)\n",
    "print data.iloc[0]"
   ]
  },
  {
   "cell_type": "markdown",
   "metadata": {},
   "source": [
    "### Question 2.3\n",
    "Why did you select these features in your model? We are looking for specific reasons that lead you to believe that\n",
    "the selected features will contribute to the predictive power of your model.\n",
    "- Your reasons might be based on intuition. For example, response for fog might be: “I decided to use fog because I thought that when it is very foggy outside people might decide to use the subway more often.”\n",
    "- Your reasons might also be based on data exploration and experimentation, for example: “I used feature X because as soon as I included it in my model, it drastically improved my R2 value.”"
   ]
  },
  {
   "cell_type": "markdown",
   "metadata": {
    "collapsed": true
   },
   "source": [
    "#### Answer\n",
    "\n",
    "Feature selection was based both on data analysis and experimentation.  \n",
    "  \n",
    "Variables based on analysis:\n",
    "- rain\n",
    "- hour\n",
    "- weekday\n",
    "  \n",
    "Features based on experimentation and incresasing R^2 value:\n",
    "- fog\n",
    "- day_week\n"
   ]
  },
  {
   "cell_type": "markdown",
   "metadata": {},
   "source": [
    "### Question 2.4\n",
    "What are the parameters (also known as \"coefficients\" or \"weights\") of the non-dummy features in your linear regression model?"
   ]
  },
  {
   "cell_type": "code",
   "execution_count": 15,
   "metadata": {
    "collapsed": false
   },
   "outputs": [
    {
     "name": "stdout",
     "output_type": "stream",
     "text": [
      "intercept: \n",
      "[ 3114.46701252]\n",
      "params: \n",
      "[ -1.95411801e+01  -1.96739139e+03  -1.11467618e+03  -1.23233285e+03\n",
      "  -1.30092578e+03  -1.90184120e+03  -1.84163112e+03  -1.92201053e+03\n",
      "   5.28129524e+03   6.95749931e+03   3.12770624e+02  -8.35715301e+02\n",
      "   2.80944734e+03   5.44894973e+03   1.23318101e+03   6.15297165e+03\n",
      "   2.37373892e+03   1.01153237e+04   4.23574299e+03   1.59026668e+03\n",
      "   5.77679756e+03   4.92343237e+02   4.39660652e+03   2.06235820e+03\n",
      "   2.53209657e+03   4.12354338e+03   4.42418874e+03  -8.83783406e+02\n",
      "   7.78842532e+02  -1.03165078e+03  -1.17660471e+03  -1.46902957e+03\n",
      "  -1.08860801e+03  -5.75976621e+02   3.16918732e+01  -1.50405815e+03\n",
      "   9.72978344e+02   2.03908228e+03   9.03417761e+03   2.08678554e+03\n",
      "   2.19132443e+03   3.91490956e+03  -4.94383240e+02   1.46920488e+03\n",
      "  -2.97662815e+02   8.50007901e+03  -3.85198443e+02   3.34627285e+03\n",
      "  -1.09546433e+03  -5.43258271e+02  -1.22437812e+03  -1.27903042e+03\n",
      "   3.37423140e+02  -1.19135652e+03  -1.09909082e+03  -1.15577496e+03\n",
      "  -2.06561130e+03  -8.96941550e+02  -1.35731864e+03  -8.15860924e+02\n",
      "  -4.69395120e+02   1.89062578e+03   7.44809060e+02  -2.39875947e+02\n",
      "   1.76834219e+03   6.46880349e+03   7.82226576e+02   1.36812998e+03\n",
      "  -6.74158242e+02  -1.69991899e+03  -1.35191384e+03  -8.55593810e+02\n",
      "  -3.62164849e+02   3.94739950e+02  -4.64336210e+01   2.99065181e+02\n",
      "   4.44850989e+02   7.82636388e+02   9.71141923e+01   4.25182459e+02\n",
      "  -1.51021768e+03   1.03738148e+03   1.50920035e+03  -2.60733616e+02\n",
      "  -4.36593125e+02   1.32345322e+03  -1.97099579e+02  -1.29858184e+03\n",
      "   3.92227753e+03   1.51899697e+03  -2.01913797e+02  -8.92593708e+02\n",
      "  -4.06300326e+02   1.78897229e+03  -9.09965687e+02  -3.46060465e+01\n",
      "  -3.02557040e+02  -4.47654965e+02   6.63950069e+02  -1.96573803e+02\n",
      "  -1.38149835e+03   2.98744931e+02   2.63630179e+03   6.00312330e+02\n",
      "   8.98056119e+02   1.69243889e+03   3.01322063e+01   5.62422716e+03\n",
      "   1.59301442e+02  -8.32229419e+02  -6.79150890e+02  -8.01194394e+02\n",
      "   9.19573633e+02  -6.80902396e+02   3.52111077e+02  -8.34669199e+02\n",
      "   3.36946541e+02  -1.22330668e+03  -6.03257756e+02   2.77794682e+02\n",
      "  -3.99077788e+02  -2.15847661e+02  -2.12068514e+02   3.89232818e+02\n",
      "   2.36906259e+02  -1.13372565e+03  -6.61195419e+02   1.08855190e+03\n",
      "  -2.67464635e+02  -2.58852552e+02  -9.58249020e+02  -6.56340143e+01\n",
      "  -9.14176629e+02  -7.33367484e+02   2.47146216e+02  -6.11285281e+02\n",
      "  -2.35004807e+02  -4.65581007e+02   9.21685238e+02  -9.92918114e+02\n",
      "  -1.25831286e+03  -5.70476245e+02  -4.86734760e+02  -5.07488227e+02\n",
      "  -1.16828365e+03  -9.49983161e+02  -9.43073493e+02  -1.05990598e+03\n",
      "  -9.38742157e+02  -1.46642178e+03   3.55525583e+02  -1.24143222e+02\n",
      "  -1.10761619e+03   1.80182891e+02  -1.28081069e+03   9.62993773e+02\n",
      "  -1.05556533e+03  -4.74192895e+02  -3.25756154e+02  -1.15173692e+03\n",
      "  -1.61116243e+03   1.19465019e+03  -4.40652845e+02  -1.12151503e+03\n",
      "  -9.17767406e+02  -8.79867119e+02  -1.11915916e+03   9.85438458e+02\n",
      "  -1.13086857e+03  -6.52770227e+02  -3.89477381e+00  -4.77411527e+02\n",
      "  -6.48481925e+02  -4.85996516e+02  -3.87973714e+02  -1.43745722e+03\n",
      "  -2.02177148e+03  -1.15363492e+03  -8.03881872e+02  -6.15893392e+02\n",
      "  -1.03725963e+03  -1.20603746e+03  -1.08585346e+03  -7.26529298e+02\n",
      "  -1.25183002e+03  -8.94395163e+02  -4.19549187e+02  -1.62191836e+03\n",
      "  -1.73852756e+03  -8.56403657e+02  -1.33601780e+03  -3.27524697e+02\n",
      "  -4.23467646e+02  -1.33658170e+03  -1.43422331e+03  -1.08192627e+03\n",
      "  -2.46886965e+02  -6.01266354e+02  -1.17309742e+03   2.61137272e+02\n",
      "  -4.62811485e+02  -1.06273826e+03  -1.16404371e+03  -1.13306639e+03\n",
      "  -9.99255857e+02  -7.87438528e+02  -1.49065693e+03  -1.52372006e+03\n",
      "  -1.92420362e+03  -1.30661228e+03  -6.92990662e+02  -1.01894935e+03\n",
      "   1.48340103e+02  -3.53981353e+02  -1.79269347e+03  -5.04368030e+02\n",
      "  -1.53052230e+03  -2.05061335e+03  -1.87254643e+03  -2.33312560e+03\n",
      "  -1.27262828e+03  -1.43438614e+03  -1.29466363e+03  -6.19185526e+02\n",
      "  -2.02215401e+03  -2.11595107e+03  -4.44233654e+02  -1.77493728e+03\n",
      "  -1.06998800e+03  -8.40235224e+02  -1.09893939e+03  -1.39261739e+03\n",
      "  -1.30526046e+03  -1.51590511e+03  -1.00619620e+03   1.08976184e+02\n",
      "  -2.45712307e+03  -2.07298243e+03  -1.29398803e+03  -2.04296315e+03\n",
      "  -2.46634869e+03  -7.08698296e+01   4.38859019e+02   4.82251385e+02\n",
      "   4.22329422e+02   3.83273973e+02  -6.80431507e+02  -8.94784230e+02\n",
      "  -4.28060021e+02  -1.61293250e+03  -1.32309914e+03   1.19433704e+03\n",
      "   4.42744969e+02   1.52405475e+03]\n"
     ]
    }
   ],
   "source": [
    "print 'intercept: '\n",
    "print data_intercept\n",
    "print 'params: '\n",
    "print data_params"
   ]
  },
  {
   "cell_type": "markdown",
   "metadata": {},
   "source": [
    "### Question 2.5\n",
    "What is your model’s R2 (coefficients of determination) value?"
   ]
  },
  {
   "cell_type": "markdown",
   "metadata": {},
   "source": [
    "#### Answer"
   ]
  },
  {
   "cell_type": "code",
   "execution_count": 16,
   "metadata": {
    "collapsed": false
   },
   "outputs": [
    {
     "name": "stdout",
     "output_type": "stream",
     "text": [
      "R2 coefficient: 0.517089954369\n"
     ]
    }
   ],
   "source": [
    "print \"R2 coefficient: \" + str(r_squared)"
   ]
  },
  {
   "cell_type": "markdown",
   "metadata": {},
   "source": [
    "### Question 2.6\n",
    "What does this R2 value mean for the goodness of fit for your regression model? Do you think this linear model to predict ridership is appropriate for this dataset, given this R2  value?"
   ]
  },
  {
   "cell_type": "markdown",
   "metadata": {},
   "source": [
    "#### Answer\n",
    "This R^2 value is not very bad but there is a lot of room for improvement.  \n",
    "I think that this linear model is not very appropriate for this dataset, and that some other non-linear model might be better."
   ]
  },
  {
   "cell_type": "markdown",
   "metadata": {},
   "source": [
    "## Section 3. Visualization"
   ]
  },
  {
   "cell_type": "markdown",
   "metadata": {},
   "source": [
    "Please include two visualizations that show the relationships between two or more variables in the NYC subway data.\n",
    "Remember to add appropriate titles and axes labels to your plots. Also, please add a short description below each figure commenting on the key insights depicted in the figure."
   ]
  },
  {
   "cell_type": "markdown",
   "metadata": {},
   "source": [
    "### Question 3.1\n",
    "One visualization should contain two histograms: one of  ENTRIESn_hourly for rainy days and one of ENTRIESn_hourly for non-rainy days.\n",
    "- You can combine the two histograms in a single plot or you can use two separate plots.\n",
    "- If you decide to use to two separate plots for the two histograms, please ensure that the x-axis limits for both of the plots are identical. It is much easier to compare the two in that case.\n",
    "- For the histograms, you should have intervals representing the volume of ridership (value of ENTRIESn_hourly) on the x-axis and the frequency of occurrence on the y-axis. For example, each interval (along the x-axis), the height of the bar for this interval will represent the number of records (rows in our data) that have ENTRIESn_hourly that falls in this interval.\n",
    "- Remember to increase the number of bins in the histogram (by having larger number of bars). The default bin width is not sufficient to capture the variability in the two samples."
   ]
  },
  {
   "cell_type": "markdown",
   "metadata": {},
   "source": [
    "#### Answer"
   ]
  },
  {
   "cell_type": "code",
   "execution_count": 17,
   "metadata": {
    "collapsed": false
   },
   "outputs": [
    {
     "name": "stderr",
     "output_type": "stream",
     "text": [
      "/home/veich/installations/anaconda2/lib/python2.7/site-packages/ggplot/geoms/geom_bar.py:47: FutureWarning: comparison to `None` will result in an elementwise object comparison in the future.\n",
      "  _reset = self.bottom == None or (self.ax != None and self.ax != ax)\n"
     ]
    },
    {
     "data": {
      "image/png": "[encoded data removed]",
      "text/plain": [
       "<matplotlib.figure.Figure at 0x7f16ab478f50>"
      ]
     },
     "metadata": {},
     "output_type": "display_data"
    },
    {
     "data": {
      "text/plain": [
       "<ggplot: (8733457477081)>"
      ]
     },
     "execution_count": 17,
     "metadata": {},
     "output_type": "execute_result"
    }
   ],
   "source": [
    "ggplot(data[data['ENTRIESn_hourly'] < 10000], aes(x=\"ENTRIESn_hourly\", fill=\"rain\")) + geom_histogram(binwidth=200) + \\\n",
    "ggtitle(\"Histogram containing entries for rainy (blue) and non-rainy days (red)\") + \\\n",
    "xlab('No. of entries')"
   ]
  },
  {
   "cell_type": "markdown",
   "metadata": {},
   "source": [
    "### Question 3.2\n",
    "One visualization can be more freeform. You should feel free to implement something that we discussed in class (e.g., scatter plots, line plots) or attempt to implement something more advanced if you'd like. Some suggestions are:\n",
    "- Ridership by time-of-day\n",
    "- Ridership by day-of-week"
   ]
  },
  {
   "cell_type": "markdown",
   "metadata": {},
   "source": [
    "#### Answer"
   ]
  },
  {
   "cell_type": "code",
   "execution_count": 18,
   "metadata": {
    "collapsed": false
   },
   "outputs": [
    {
     "data": {
      "image/png": "[encoded data removed]",
      "text/plain": [
       "<matplotlib.figure.Figure at 0x7f16aae8d390>"
      ]
     },
     "metadata": {},
     "output_type": "display_data"
    },
    {
     "data": {
      "text/plain": [
       "<ggplot: (8733457479457)>"
      ]
     },
     "execution_count": 18,
     "metadata": {},
     "output_type": "execute_result"
    }
   ],
   "source": [
    "q = \"\"\"\n",
    "select day_week, avg(ENTRIESn_hourly) as entries\n",
    "from data\n",
    "group by day_week\n",
    "\"\"\"\n",
    "\n",
    "day_of_week_data = pandasql.sqldf(q, locals())\n",
    "\n",
    "ggplot(day_of_week_data, aes(\"day_week\", \"entries\")) + geom_bar(stat=\"bar\", fill=\"blue\") + \\\n",
    "ggtitle('Average ridership by day of the week') + \\\n",
    "ylab('No. of entries') + xlab('') + \\\n",
    "scale_x_continuous(breaks=range(0,7), labels=[\"Monday\", \"Tuesday\", \"Wednesday\", \"Thursday\", \"Friday\", \"Saturday\", \"Sunday\"])"
   ]
  },
  {
   "cell_type": "code",
   "execution_count": 19,
   "metadata": {
    "collapsed": false
   },
   "outputs": [
    {
     "name": "stderr",
     "output_type": "stream",
     "text": [
      "/home/veich/installations/anaconda2/lib/python2.7/site-packages/matplotlib/collections.py:590: FutureWarning: elementwise comparison failed; returning scalar instead, but in the future will perform elementwise comparison\n",
      "  if self._edgecolors == str('face'):\n"
     ]
    },
    {
     "data": {
      "image/png": "[encoded data removed]",
      "text/plain": [
       "<matplotlib.figure.Figure at 0x7f16aaef1190>"
      ]
     },
     "metadata": {},
     "output_type": "display_data"
    },
    {
     "data": {
      "text/plain": [
       "<ggplot: (8733457471989)>"
      ]
     },
     "execution_count": 19,
     "metadata": {},
     "output_type": "execute_result"
    }
   ],
   "source": [
    "q = \"\"\"\n",
    "select hour, avg(ENTRIESn_hourly) as entries\n",
    "from data\n",
    "group by hour\n",
    "\"\"\"\n",
    "\n",
    "time_of_day_data = pandasql.sqldf(q, locals())\n",
    "\n",
    "ggplot(time_of_day_data, aes(\"hour\", \"entries\")) + geom_line(color=\"blue\") + stat_smooth(color=\"gray\", size=\"3\") + \\\n",
    "ggtitle('Average ridership by time of day') + \\\n",
    "xlab(\"Time of day\") + ylab('No. of entries')"
   ]
  },
  {
   "cell_type": "code",
   "execution_count": 46,
   "metadata": {
    "collapsed": false
   },
   "outputs": [
    {
     "ename": "NameError",
     "evalue": "name 'scale_fill_discrete' is not defined",
     "output_type": "error",
     "traceback": [
      "\u001b[1;31m---------------------------------------------------------------------------\u001b[0m",
      "\u001b[1;31mNameError\u001b[0m                                 Traceback (most recent call last)",
      "\u001b[1;32m<ipython-input-46-fdb3a17a4120>\u001b[0m in \u001b[0;36m<module>\u001b[1;34m()\u001b[0m\n\u001b[0;32m      7\u001b[0m \u001b[0mrain_data\u001b[0m \u001b[1;33m=\u001b[0m \u001b[0mpandasql\u001b[0m\u001b[1;33m.\u001b[0m\u001b[0msqldf\u001b[0m\u001b[1;33m(\u001b[0m\u001b[0mq\u001b[0m\u001b[1;33m,\u001b[0m \u001b[0mlocals\u001b[0m\u001b[1;33m(\u001b[0m\u001b[1;33m)\u001b[0m\u001b[1;33m)\u001b[0m\u001b[1;33m\u001b[0m\u001b[0m\n\u001b[0;32m      8\u001b[0m \u001b[1;33m\u001b[0m\u001b[0m\n\u001b[1;32m----> 9\u001b[1;33m \u001b[0mggplot\u001b[0m\u001b[1;33m(\u001b[0m\u001b[0mrain_data\u001b[0m\u001b[1;33m,\u001b[0m \u001b[0maes\u001b[0m\u001b[1;33m(\u001b[0m\u001b[1;34m'day_week'\u001b[0m\u001b[1;33m,\u001b[0m \u001b[1;34m'entries'\u001b[0m\u001b[1;33m,\u001b[0m \u001b[0mcolor\u001b[0m\u001b[1;33m=\u001b[0m\u001b[1;34m'rain'\u001b[0m\u001b[1;33m)\u001b[0m\u001b[1;33m)\u001b[0m \u001b[1;33m+\u001b[0m \u001b[0mgeom_line\u001b[0m\u001b[1;33m(\u001b[0m\u001b[1;33m)\u001b[0m \u001b[1;33m+\u001b[0m \u001b[0mgeom_point\u001b[0m\u001b[1;33m(\u001b[0m\u001b[1;33m)\u001b[0m \u001b[1;33m+\u001b[0m \u001b[0mggtitle\u001b[0m\u001b[1;33m(\u001b[0m\u001b[1;34m\"Comparing daily ridership when it rains (blue) and when it's not (red)\"\u001b[0m\u001b[1;33m)\u001b[0m \u001b[1;33m+\u001b[0m \u001b[0mylab\u001b[0m\u001b[1;33m(\u001b[0m\u001b[1;34m'No. of entries'\u001b[0m\u001b[1;33m)\u001b[0m \u001b[1;33m+\u001b[0m \u001b[0mxlab\u001b[0m\u001b[1;33m(\u001b[0m\u001b[1;34m''\u001b[0m\u001b[1;33m)\u001b[0m \u001b[1;33m+\u001b[0m \u001b[0mscale_x_continuous\u001b[0m\u001b[1;33m(\u001b[0m\u001b[0mbreaks\u001b[0m\u001b[1;33m=\u001b[0m\u001b[0mrange\u001b[0m\u001b[1;33m(\u001b[0m\u001b[1;36m0\u001b[0m\u001b[1;33m,\u001b[0m\u001b[1;36m7\u001b[0m\u001b[1;33m)\u001b[0m\u001b[1;33m,\u001b[0m \u001b[0mlabels\u001b[0m\u001b[1;33m=\u001b[0m\u001b[1;33m[\u001b[0m\u001b[1;34m\"Monday\"\u001b[0m\u001b[1;33m,\u001b[0m \u001b[1;34m\"Tuesday\"\u001b[0m\u001b[1;33m,\u001b[0m \u001b[1;34m\"Wednesday\"\u001b[0m\u001b[1;33m,\u001b[0m \u001b[1;34m\"Thursday\"\u001b[0m\u001b[1;33m,\u001b[0m \u001b[1;34m\"Friday\"\u001b[0m\u001b[1;33m,\u001b[0m \u001b[1;34m\"Saturday\"\u001b[0m\u001b[1;33m,\u001b[0m \u001b[1;34m\"Sunday\"\u001b[0m\u001b[1;33m]\u001b[0m\u001b[1;33m)\u001b[0m \u001b[1;33m+\u001b[0m \u001b[0mscale_fill_discrete\u001b[0m\u001b[1;33m(\u001b[0m\u001b[1;33m)\u001b[0m\u001b[1;33m\u001b[0m\u001b[0m\n\u001b[0m",
      "\u001b[1;31mNameError\u001b[0m: name 'scale_fill_discrete' is not defined"
     ]
    }
   ],
   "source": [
    "q = \"\"\"\n",
    "select rain, day_week, avg(ENTRIESn_hourly) as entries\n",
    "from data\n",
    "group by day_week, rain\n",
    "\"\"\"\n",
    "\n",
    "rain_data = pandasql.sqldf(q, locals())\n",
    "\n",
    "ggplot(rain_data, aes('day_week', 'entries', color='rain')) + geom_line() + geom_point() + \\\n",
    "ggtitle(\"Comparing daily ridership when it rains (blue) and when it's not (red)\") + \\\n",
    "ylab('No. of entries') + xlab('') + \\\n",
    "scale_x_continuous(breaks=range(0,7), labels=[\"Monday\", \"Tuesday\", \"Wednesday\", \"Thursday\", \"Friday\", \"Saturday\", \"Sunday\"]) + \\\n",
    "scale_fill_discrete()"
   ]
  },
  {
   "cell_type": "markdown",
   "metadata": {},
   "source": [
    "## Section 4. Conclusion"
   ]
  },
  {
   "cell_type": "markdown",
   "metadata": {},
   "source": [
    "Please address the following questions in detail. Your answers should be 1-2 paragraphs long."
   ]
  },
  {
   "cell_type": "markdown",
   "metadata": {},
   "source": [
    "### Question 4.1\n",
    "From your analysis and interpretation of the data, do more people ride the NYC subway when it is raining or when it is not raining?"
   ]
  },
  {
   "cell_type": "markdown",
   "metadata": {},
   "source": [
    "#### Answer\n",
    "Based on my analysis more people ride NYC when it's raining.  \n",
    "We can see this especially during the weekday.  \n",
    "  \n",
    "On weekend there is no significant change in ridership although we can see that the ridership median is actually lower on the days when it rains."
   ]
  },
  {
   "cell_type": "markdown",
   "metadata": {},
   "source": [
    "### Question 4.2\n",
    "What analyses lead you to this conclusion? You should use results from both your statistical tests and your linear regression to support your analysis."
   ]
  },
  {
   "cell_type": "markdown",
   "metadata": {
    "collapsed": true
   },
   "source": [
    "#### Answer\n",
    "First thing that led me to this conclusion was Mann-Whitney u-test I performed on the dataset.\n",
    "This test returned p value which was less than p_critical and this led me to conclusion that rain does have significant influence on the ridership.\n",
    "\n",
    "Secondly, when performing linear regression nad calculating R^2 - result accuracy increased when including *rain* feature into the model.  \n",
    "From this conclude that there is correlation between rain and the ridership."
   ]
  },
  {
   "cell_type": "markdown",
   "metadata": {},
   "source": [
    "## Section 5. Reflection"
   ]
  },
  {
   "cell_type": "markdown",
   "metadata": {},
   "source": [
    "Please address the following questions in detail. Your answers should be 1-2 paragraphs long."
   ]
  },
  {
   "cell_type": "markdown",
   "metadata": {},
   "source": [
    "### Question 5.1\n",
    "Please discuss potential shortcomings of the methods of your analysis, including:\n",
    "- Dataset,\n",
    "- Analysis, such as the linear regression model or statistical test."
   ]
  },
  {
   "cell_type": "markdown",
   "metadata": {
    "collapsed": true
   },
   "source": [
    "#### Answer\n",
    "Dataset:\n",
    "- dataset covers only the month of May - other months can have different riderships\n",
    "- dataset covers only one year - this may not be representative enough for every year\n",
    "  \n",
    "Analysis:\n",
    "- we assume that the right approximation of our model is linear (hence the linear regression) when that doesn't need to be true\n",
    "- R^2 value suggests that we didn't get particularly precise model"
   ]
  },
  {
   "cell_type": "markdown",
   "metadata": {},
   "source": [
    "### Question 5.2\n",
    "(Optional) Do you have any other insight about the dataset that you would like to share with us?"
   ]
  },
  {
   "cell_type": "markdown",
   "metadata": {
    "collapsed": true
   },
   "source": [
    "#### Answer\n",
    "There are many datapoints with ridership equal to zero for entire day which is perhaps only data missing and not ridership zero"
   ]
  }
 ],
 "metadata": {
  "kernelspec": {
   "display_name": "Python 2",
   "language": "python",
   "name": "python2"
  },
  "language_info": {
   "codemirror_mode": {
    "name": "ipython",
    "version": 2
   },
   "file_extension": ".py",
   "mimetype": "text/x-python",
   "name": "python",
   "nbconvert_exporter": "python",
   "pygments_lexer": "ipython2",
   "version": "2.7.11"
  }
 },
 "nbformat": 4,
 "nbformat_minor": 0
}
