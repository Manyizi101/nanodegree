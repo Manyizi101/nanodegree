{
 "cells": [
  {
   "cell_type": "markdown",
   "metadata": {},
   "source": [
    "# NYC Subway Dataset Analysis"
   ]
  },
  {
   "cell_type": "markdown",
   "metadata": {},
   "source": [
    "## Assignment"
   ]
  },
  {
   "cell_type": "markdown",
   "metadata": {},
   "source": [
    "Purpose of this assignment is to analyze subway ridership dataset and see if external elements like rain significantly influence the number of passengers.  \n",
    "Also, we need to predict number of passengers based on parameters we previously analyzed."
   ]
  },
  {
   "cell_type": "markdown",
   "metadata": {},
   "source": [
    "## Disclaimers"
   ]
  },
  {
   "cell_type": "markdown",
   "metadata": {},
   "source": [
    "Part of the this assigment are also questions in Problem Sets 2, 3, and 4 in the Introduction to Data Science course.  \n",
    "I have resolved all of those.  \n",
    "On couple of them, server would return some unrelated errors and my submission would fail even though I did get required plots.  \n",
    "This only happens when dealing with ggplot."
   ]
  },
  {
   "cell_type": "markdown",
   "metadata": {},
   "source": [
    "## Loading Data and Defining Functions"
   ]
  },
  {
   "cell_type": "markdown",
   "metadata": {},
   "source": [
    "## Section 0. References"
   ]
  },
  {
   "cell_type": "markdown",
   "metadata": {},
   "source": [
    "1. Udacity \"Intro to Data Science\" videos\n",
    "2. pandas, numpy, sklearn, ggplot documentation\n",
    "3. http://matplotlib.org/users/pyplot_tutorial.html\n",
    "4. http://matplotlib.org/examples/api/barchart_demo.html\n",
    "5. https://www.youtube.com/watch?v=pHrwqLhAaMw\n",
    "6. http://stackoverflow.com/questions/2546016/how-to-define-fill-colours-in-ggplot-histogram"
   ]
  },
  {
   "cell_type": "markdown",
   "metadata": {},
   "source": [
    "## Section 1. Statistical Test"
   ]
  },
  {
   "cell_type": "markdown",
   "metadata": {},
   "source": [
    "### Question 1.1\n",
    "Which statistical test did you use to analyze the NYC subway data? Did you use a one-tail or a two-tail P value? What is the null hypothesis? What is your p-critical value?"
   ]
  },
  {
   "cell_type": "markdown",
   "metadata": {
    "collapsed": true
   },
   "source": [
    "#### Answer\n",
    "**H0: µ_entries_rain = µ_entries_no_rain**  \n",
    "Mean of entries on the days it rains is the same as the mean of entries on the days when it doesn't rain  \n",
    "**H1: µ_entries_rain ≠ µ_entries_no_rain**  \n",
    "Mean of entries on the days it rains is different than the mean of entries on the days when it doesn't rain  \n",
    "  \n",
    "I am using two-tail p value.\n",
    "\n",
    "p_critical = 0.05  \n",
    "  \n",
    "I used Mann-Whitney u-test since the data was not normally distributed."
   ]
  },
  {
   "cell_type": "markdown",
   "metadata": {},
   "source": [
    "#### Calculation\n",
    "First we need to agregate *entries* and *rain* by days."
   ]
  },
  {
   "cell_type": "code",
   "execution_count": 1,
   "metadata": {
    "collapsed": false
   },
   "outputs": [],
   "source": [
    "import numpy as np\n",
    "import pandas\n",
    "import pandasql\n",
    "from sklearn.linear_model import SGDRegressor\n",
    "import scipy\n",
    "from ggplot import *\n",
    "%matplotlib inline \n",
    "\n",
    "pandas.set_option('display.max_columns', None)\n",
    "data = pandas.read_csv('data/weather.csv')\n",
    "#print data.iloc[0]"
   ]
  },
  {
   "cell_type": "code",
   "execution_count": 2,
   "metadata": {
    "collapsed": false
   },
   "outputs": [],
   "source": [
    "q = \"\"\"\n",
    "select UNIT, DATEn, max(rain) as rain, weekday, sum(ENTRIESn_hourly) as entries\n",
    "from data\n",
    "group by UNIT, DATEn\n",
    "\"\"\"\n",
    "\n",
    "daily_data = pandasql.sqldf(q, locals())"
   ]
  },
  {
   "cell_type": "markdown",
   "metadata": {},
   "source": [
    "Now we can compare entries on the days that rains vs. the ones that don't.  \n",
    "Also, we should compare only weekdays with themselves since ridership may vary for weekends."
   ]
  },
  {
   "cell_type": "code",
   "execution_count": 3,
   "metadata": {
    "collapsed": false
   },
   "outputs": [],
   "source": [
    "rains_weekday_data = daily_data['entries'][(daily_data.rain == 1) & (daily_data.weekday == 1)]\n",
    "no_rain_weekday_data = daily_data['entries'][(daily_data.rain == 0) & (daily_data.weekday == 1)]\n",
    "rains_weekend_data = daily_data['entries'][(daily_data.rain == 1) & (daily_data.weekday == 0)]\n",
    "no_rain_weekend_data = daily_data['entries'][(daily_data.rain == 0) & (daily_data.weekday == 0)]"
   ]
  },
  {
   "cell_type": "markdown",
   "metadata": {},
   "source": [
    "To detect which test we should use we first need to confirm or deny some assumptions we have about data.\n",
    "First we use Shapiro-Wilk test to see weather our data is normally distributed."
   ]
  },
  {
   "cell_type": "code",
   "execution_count": 4,
   "metadata": {
    "collapsed": false
   },
   "outputs": [
    {
     "name": "stdout",
     "output_type": "stream",
     "text": [
      "p = 0.0\n"
     ]
    },
    {
     "name": "stderr",
     "output_type": "stream",
     "text": [
      "/home/veich/installations/anaconda2/lib/python2.7/site-packages/scipy/stats/morestats.py:1082: UserWarning: p-value may not be accurate for N > 5000.\n",
      "  warnings.warn(\"p-value may not be accurate for N > 5000.\")\n"
     ]
    }
   ],
   "source": [
    "w,p = scipy.stats.shapiro(daily_data['entries'])\n",
    "print \"p = \" + str(p)"
   ]
  },
  {
   "cell_type": "markdown",
   "metadata": {},
   "source": [
    "Since p = 0.0 we can conclude that our data is not normally distributed."
   ]
  },
  {
   "cell_type": "code",
   "execution_count": 5,
   "metadata": {
    "collapsed": false
   },
   "outputs": [
    {
     "name": "stderr",
     "output_type": "stream",
     "text": [
      "stat_bin: binwidth defaulted to range/30.\n",
      "    Use 'binwidth = x' to adjust this.\n"
     ]
    },
    {
     "data": {
      "image/png": "[encoded data removed]",
      "text/plain": [
       "<matplotlib.figure.Figure at 0x7fe888d56710>"
      ]
     },
     "metadata": {},
     "output_type": "display_data"
    },
    {
     "data": {
      "text/plain": [
       "<ggplot: (8789795076837)>"
      ]
     },
     "execution_count": 5,
     "metadata": {},
     "output_type": "execute_result"
    }
   ],
   "source": [
    "ggplot(daily_data, aes(x=\"entries\")) + geom_histogram() + \\\n",
    "ggtitle(\"Hourly entries histogram\") + \\\n",
    "xlab('No. of entries')"
   ]
  },
  {
   "cell_type": "markdown",
   "metadata": {},
   "source": [
    "Because our data is not normally distributed Mann-Whitney u-test seems appropriate to compare data samples.  \n",
    "This test doesn't assume any particular probability distribution."
   ]
  },
  {
   "cell_type": "markdown",
   "metadata": {},
   "source": [
    "### Question 1.2\n",
    "Why is this statistical test applicable to the dataset? In particular, consider the assumptions that the test is making about the distribution of ridership in the two samples."
   ]
  },
  {
   "cell_type": "markdown",
   "metadata": {
    "collapsed": true
   },
   "source": [
    "#### Answer\n",
    "Mann-Whitney u-test doesn't assume any particular sample distribution which makes it suitable for this data set which is not normally distributed."
   ]
  },
  {
   "cell_type": "markdown",
   "metadata": {},
   "source": [
    "### Question 1.3\n",
    "What results did you get from this statistical test? These should include the following numerical values: p-values, as well as the means for each of the two samples under test."
   ]
  },
  {
   "cell_type": "code",
   "execution_count": 23,
   "metadata": {
    "collapsed": false
   },
   "outputs": [
    {
     "name": "stdout",
     "output_type": "stream",
     "text": [
      "p = 0.0993775565274\n",
      "entries_mean_weekday_rains_ridership = 12970.4450995\n",
      "entries_mean_weekday_no_rain_ridership = 12328.3840246\n"
     ]
    }
   ],
   "source": [
    "u,p = scipy.stats.mannwhitneyu(rains_weekday_data, no_rain_weekday_data)\n",
    "two_tail_test_multiplier = 2.0\n",
    "print 'p = ' + str(p * two_tail_test_multiplier)\n",
    "print \"entries_mean_weekday_rains_ridership = \" + str(np.mean(rains_weekday_data))\n",
    "print \"entries_mean_weekday_no_rain_ridership = \" + str(np.mean(no_rain_weekday_data))"
   ]
  },
  {
   "cell_type": "markdown",
   "metadata": {},
   "source": [
    "Calculated p value is higher than our p_critical value (0.05) which means rain has no significant impact on ridership on weekdays."
   ]
  },
  {
   "cell_type": "code",
   "execution_count": 24,
   "metadata": {
    "collapsed": false
   },
   "outputs": [
    {
     "name": "stdout",
     "output_type": "stream",
     "text": [
      "p = 0.165990177612\n",
      "entries_mean_weekend_rains_ridership = 6193.14814815\n",
      "entries_mean_weekend_no_rain_ridership = 6939.72384035\n"
     ]
    }
   ],
   "source": [
    "u,p = scipy.stats.mannwhitneyu(rains_weekend_data, no_rain_weekend_data)\n",
    "print 'p = ' + str(p * two_tail_test_multiplier)\n",
    "print \"entries_mean_weekend_rains_ridership = \" + str(np.mean(rains_weekend_data))\n",
    "print \"entries_mean_weekend_no_rain_ridership = \" + str(np.mean(no_rain_weekend_data))"
   ]
  },
  {
   "cell_type": "markdown",
   "metadata": {},
   "source": [
    "p value in this test suggests that rain has no significant impact on subway ridership during the weekend."
   ]
  },
  {
   "cell_type": "code",
   "execution_count": 25,
   "metadata": {
    "collapsed": false
   },
   "outputs": [
    {
     "name": "stdout",
     "output_type": "stream",
     "text": [
      "p = 1.53632449262e-31\n",
      "entries_mean_weekday_rains_ridership = 12970.4450995\n",
      "entries_mean_weekend_rains_ridership = 6193.14814815\n",
      "p = 1.52017091941e-102\n",
      "entries_mean_weekday_no_rain_ridership = 12328.3840246\n",
      "entries_mean_weekend_no_rain_ridership = 6939.72384035\n"
     ]
    }
   ],
   "source": [
    "u,p = scipy.stats.mannwhitneyu(rains_weekday_data, rains_weekend_data)\n",
    "print 'p = ' + str(p * two_tail_test_multiplier)\n",
    "print \"entries_mean_weekday_rains_ridership = \" + str(np.mean(rains_weekday_data))\n",
    "print \"entries_mean_weekend_rains_ridership = \" + str(np.mean(rains_weekend_data))\n",
    "u,p = scipy.stats.mannwhitneyu(no_rain_weekend_data, no_rain_weekday_data)\n",
    "print 'p = ' + str(p * two_tail_test_multiplier)\n",
    "print \"entries_mean_weekday_no_rain_ridership = \" + str(np.mean(no_rain_weekday_data))\n",
    "print \"entries_mean_weekend_no_rain_ridership = \" + str(np.mean(no_rain_weekend_data))"
   ]
  },
  {
   "cell_type": "markdown",
   "metadata": {},
   "source": [
    "Calculated p values suggest weekday vs. weekend has significant impact on the subway ridership (accounted for the possible rain impact on the results)."
   ]
  },
  {
   "cell_type": "markdown",
   "metadata": {},
   "source": [
    "### Question 1.4\n",
    "What is the significance and interpretation of these results?"
   ]
  },
  {
   "cell_type": "markdown",
   "metadata": {
    "collapsed": true
   },
   "source": [
    "#### Answer\n",
    "Statistical significance of these results is 0.05"
   ]
  },
  {
   "cell_type": "markdown",
   "metadata": {},
   "source": [
    "## Section 2. Linear Regression"
   ]
  },
  {
   "cell_type": "markdown",
   "metadata": {},
   "source": [
    "### Question 2.1\n",
    "What approach did you use to compute the coefficients theta and produce prediction for ENTRIESn_hourly in your regression model:\n",
    "- OLS using Statsmodels or Scikit Learn\n",
    "- Gradient descent using Scikit Learn\n",
    "- Or something different?"
   ]
  },
  {
   "cell_type": "markdown",
   "metadata": {
    "collapsed": true
   },
   "source": [
    "#### Answer\n",
    "I used gradient descent from scikit learn."
   ]
  },
  {
   "cell_type": "markdown",
   "metadata": {},
   "source": [
    "### Question 2.2\n",
    "What features (input variables) did you use in your model? Did you use any dummy variables as part of your features?"
   ]
  },
  {
   "cell_type": "markdown",
   "metadata": {
    "collapsed": true
   },
   "source": [
    "#### Answer\n",
    "In my model I used the following variables (all of them as dummy variables):\n",
    "- UNIT\n",
    "- hour\n",
    "- day_week"
   ]
  },
  {
   "cell_type": "markdown",
   "metadata": {},
   "source": [
    "#### Calculation"
   ]
  },
  {
   "cell_type": "code",
   "execution_count": 9,
   "metadata": {
    "collapsed": true
   },
   "outputs": [],
   "source": [
    "def linear_regression(features, values):\n",
    "    model = SGDRegressor()\n",
    "    model.fit(features, values)\n",
    "\n",
    "    intercept = model.intercept_\n",
    "    params = model.coef_\n",
    "    \n",
    "    return intercept, params"
   ]
  },
  {
   "cell_type": "code",
   "execution_count": 10,
   "metadata": {
    "collapsed": true
   },
   "outputs": [],
   "source": [
    "def normalize_features(features):\n",
    "    ''' \n",
    "    Returns the means and standard deviations of the given features, along with a normalized feature\n",
    "    matrix.\n",
    "    ''' \n",
    "    means = np.mean(features, axis=0)\n",
    "    std_devs = np.std(features, axis=0)\n",
    "    normalized_features = (features - means) / std_devs\n",
    "    \n",
    "    return means, std_devs, normalized_features"
   ]
  },
  {
   "cell_type": "code",
   "execution_count": 11,
   "metadata": {
    "collapsed": true
   },
   "outputs": [],
   "source": [
    "def recover_params(means, std_devs, norm_intercept, norm_params):\n",
    "    ''' \n",
    "    Recovers the weights for a linear model given parameters that were fitted using\n",
    "    normalized features. Takes the means and standard deviations of the original\n",
    "    features, along with the intercept and parameters computed using the normalized\n",
    "    features, and returns the intercept and parameters that correspond to the original\n",
    "    features.\n",
    "    ''' \n",
    "    intercept = norm_intercept - np.sum(means * norm_params / std_devs)\n",
    "    params = norm_params / std_devs\n",
    "    \n",
    "    return intercept, params"
   ]
  },
  {
   "cell_type": "code",
   "execution_count": 12,
   "metadata": {
    "collapsed": true
   },
   "outputs": [],
   "source": [
    "def compute_r_squared(data, predicted_data):\n",
    "    \n",
    "    y = data['ENTRIESn_hourly'].tolist()\n",
    "    avg_y = np.mean(y)\n",
    "    \n",
    "    \n",
    "    top_diff = y - predicted_data\n",
    "    top_diff_squared = top_diff * top_diff\n",
    "    top_total_sum = np.sum(top_diff_squared)\n",
    "    \n",
    "    bottom_diff = y - avg_y\n",
    "    bottom_diff_squared = bottom_diff * bottom_diff\n",
    "    bottom_total_sum = np.sum(bottom_diff_squared)\n",
    "    \n",
    "    r_squared = 1 - (top_total_sum / bottom_total_sum)\n",
    "    \n",
    "    \n",
    "    return r_squared"
   ]
  },
  {
   "cell_type": "code",
   "execution_count": 37,
   "metadata": {
    "collapsed": false
   },
   "outputs": [],
   "source": [
    "def predictions(dataframe): \n",
    "    \n",
    "    features = pandas.get_dummies(dataframe['UNIT'], prefix='unit')\n",
    "    dummy_units = pandas.get_dummies(dataframe['day_week'], prefix='day_week')\n",
    "    features = features.join(dummy_units)\n",
    "    dummy_units = pandas.get_dummies(dataframe['hour'], prefix='hour')\n",
    "    features = features.join(dummy_units)\n",
    "    \n",
    "    \n",
    "    #print dummy_units\n",
    "    \n",
    "    # Values\n",
    "    values = dataframe['ENTRIESn_hourly']\n",
    "    \n",
    "    # Get numpy arrays\n",
    "    features_array = features.values\n",
    "    values_array = values.values\n",
    "    \n",
    "    means, std_devs, normalized_features_array = normalize_features(features_array)\n",
    "\n",
    "    # Perform gradient descent\n",
    "    norm_intercept, norm_params = linear_regression(normalized_features_array, values_array)\n",
    "    \n",
    "    intercept, params = recover_params(means, std_devs, norm_intercept, norm_params)\n",
    "    \n",
    "    predictions = intercept + np.dot(features_array, params)\n",
    "    # The following line would be equivalent:\n",
    "    # predictions = norm_intercept + np.dot(normalized_features_array, norm_params)\n",
    "    \n",
    "    global data_intercept\n",
    "    data_intercept = intercept\n",
    "    \n",
    "    global data_params\n",
    "    data_params = params\n",
    "    \n",
    "    return predictions"
   ]
  },
  {
   "cell_type": "code",
   "execution_count": 38,
   "metadata": {
    "collapsed": false
   },
   "outputs": [
    {
     "name": "stdout",
     "output_type": "stream",
     "text": [
      "r_squared: 0.5275874932\n"
     ]
    }
   ],
   "source": [
    "data_intercept = []\n",
    "data_params = []\n",
    "entries_predictions = predictions(data)\n",
    "\n",
    "r_squared = compute_r_squared(data, entries_predictions)\n",
    "print \"r_squared: \" + str(r_squared)\n",
    "#print data.iloc[0]"
   ]
  },
  {
   "cell_type": "markdown",
   "metadata": {},
   "source": [
    "### Question 2.3\n",
    "Why did you select these features in your model? We are looking for specific reasons that lead you to believe that\n",
    "the selected features will contribute to the predictive power of your model.\n",
    "- Your reasons might be based on intuition. For example, response for fog might be: “I decided to use fog because I thought that when it is very foggy outside people might decide to use the subway more often.”\n",
    "- Your reasons might also be based on data exploration and experimentation, for example: “I used feature X because as soon as I included it in my model, it drastically improved my R2 value.”"
   ]
  },
  {
   "cell_type": "markdown",
   "metadata": {
    "collapsed": true
   },
   "source": [
    "#### Answer\n",
    "\n",
    "Feature selection was based both on data analysis and experimentation.  \n",
    "  \n",
    "Variables based on analysis:\n",
    "- weekday (which later turned out to be redundant to day_week variable)\n",
    "  \n",
    "Features based on experimentation and incresasing R^2 value:\n",
    "- hour\n",
    "- day_week\n"
   ]
  },
  {
   "cell_type": "markdown",
   "metadata": {},
   "source": [
    "### Question 2.4\n",
    "What are the parameters (also known as \"coefficients\" or \"weights\") of the non-dummy features in your linear regression model?"
   ]
  },
  {
   "cell_type": "code",
   "execution_count": 15,
   "metadata": {
    "collapsed": false
   },
   "outputs": [
    {
     "name": "stdout",
     "output_type": "stream",
     "text": [
      "intercept: \n",
      "[ 2389.20203747]\n",
      "params: \n",
      "[ -7.71847093e+00  -1.42720189e+03  -1.19618447e+03  -1.24296455e+03\n",
      "  -1.33869534e+03  -1.09946308e+03  -1.87003549e+03  -1.87718297e+03\n",
      "   5.77156847e+03   5.49263772e+03   8.25431965e+02  -1.13472599e+03\n",
      "   1.50693061e+03   5.48138828e+03   2.15400901e+03   5.63577165e+03\n",
      "   4.47178337e+03   8.06108113e+03   5.11057810e+03   1.65987759e+03\n",
      "   2.19532298e+03   2.15234662e+03   6.48509164e+03   8.59287025e+02\n",
      "   2.30768215e+03   5.10189189e+03   5.92669298e+03  -6.59085849e+02\n",
      "   8.25372345e+02  -1.49266495e+03  -1.12322495e+03  -1.57520773e+03\n",
      "  -7.59384662e+02  -4.48702501e+02   1.11117746e+03  -9.78371754e+02\n",
      "   7.59089998e+02   3.43718169e+03   7.36189604e+03   3.80815347e+02\n",
      "   2.06972753e+03   2.62342227e+03  -6.29139286e+02   1.38957386e+03\n",
      "  -6.75676668e+02   6.54721446e+03  -3.24625438e+02   2.26524243e+03\n",
      "  -1.29066123e+03  -9.04692380e+02  -1.15640799e+03  -9.92252929e+02\n",
      "   8.05079403e+02  -9.52264857e+02  -1.18805372e+03  -1.39733575e+03\n",
      "  -1.96186308e+03  -5.74839697e+02  -8.77684481e+02  -5.81238220e+02\n",
      "   1.20694174e+02   2.24292133e+03   1.50093150e+03  -1.90074484e+02\n",
      "   9.81768502e+02   7.46068424e+03   9.92822641e+02   1.28740672e+03\n",
      "  -6.09253382e+02  -1.25969112e+03  -1.22724839e+03  -8.97283886e+02\n",
      "  -5.46010378e+02   2.38867474e-01   6.51578348e+01   3.81314908e+02\n",
      "   2.22681753e+02   7.11472825e+02  -1.91277631e+02   5.89286699e+02\n",
      "  -1.55664639e+03   1.48180207e+03   2.08359669e+03  -1.29275967e+02\n",
      "  -2.10082568e+02   1.46217313e+03  -1.21064736e+03  -1.10988991e+03\n",
      "   2.84303962e+03   1.37563665e+03   1.41739422e+02  -4.61497670e+02\n",
      "  -5.31330332e+02   1.46958133e+03  -7.71122481e+02  -6.10648303e+02\n",
      "  -3.63711295e+02  -5.29976712e+02   1.58673601e+03  -8.63330382e+01\n",
      "  -9.91857085e+02  -9.68449071e+01   1.18889300e+03   1.03182429e+03\n",
      "   1.09426524e+03   1.50985898e+03  -2.84805584e+02   3.97372067e+03\n",
      "  -3.34253595e+02  -1.11673525e+03  -5.99501664e+02  -8.30215893e+02\n",
      "   5.85946251e+02  -1.74002404e+02  -8.02091759e+01  -4.87260445e+02\n",
      "   3.91021508e+02  -1.11188344e+03  -8.99084350e+02   4.74200980e+02\n",
      "  -2.12487074e+02  -2.52710923e+02  -3.58801310e+02   7.73584262e+02\n",
      "   2.22079169e+03  -1.09190280e+03  -1.43919984e+03   1.26826124e+03\n",
      "  -2.40709421e+02  -9.95358280e+02  -8.98625631e+02  -4.18607330e+02\n",
      "  -8.43956719e+02  -8.46728057e+02   2.06306012e+02  -3.57106547e+02\n",
      "  -5.96682861e+02  -5.26472399e+01   6.81240799e+02  -1.09582860e+03\n",
      "  -1.20084719e+03  -1.38905208e+03  -8.25440330e+02  -5.63982260e+02\n",
      "  -1.51776665e+03  -1.81936736e+03  -8.49455298e+02  -8.28985902e+02\n",
      "  -7.32174706e+02  -1.44050785e+03   6.26757766e+02  -4.78677877e+02\n",
      "  -1.48231649e+03   4.51375509e+02  -6.37654280e+02   7.79035719e+02\n",
      "  -1.31855385e+03  -5.12546205e+02   5.70762158e+01  -1.16611439e+03\n",
      "  -1.76142279e+03   1.14037611e+03  -2.11631066e+02  -9.80939128e+02\n",
      "  -4.84936919e+02  -1.00457777e+03  -1.49717493e+03   9.93803363e+02\n",
      "  -1.31204122e+03  -7.38534597e+02   1.48647356e+02  -8.41246887e+00\n",
      "  -1.06672363e+03  -4.19058506e+02  -6.95684935e+02  -1.06942140e+03\n",
      "  -1.23887984e+03  -1.31122666e+03  -9.09083668e+02  -8.16559679e+02\n",
      "  -4.88671443e+02  -1.47723658e+03  -1.33062024e+03  -2.29788827e+02\n",
      "  -6.14186971e+02  -1.30847803e+03  -7.72851276e+02  -1.69367199e+03\n",
      "  -1.14532021e+03  -5.96658200e+02  -1.12798508e+03  -3.99170307e+02\n",
      "   3.62877068e+01  -1.05868138e+03  -1.53424048e+03  -1.24602485e+03\n",
      "   2.11140360e+02  -1.10929064e+03  -1.70225533e+03   3.79952683e+02\n",
      "  -8.26941160e+02  -8.49132640e+02  -1.61372992e+03  -8.45184005e+02\n",
      "  -1.32969973e+03  -8.04867897e+02  -1.27802326e+03  -1.36365779e+03\n",
      "  -1.85543291e+03  -1.58413848e+03  -4.56156245e+02  -7.66843604e+02\n",
      "  -1.21466231e+02  -1.91956448e+02  -1.54346168e+03  -7.12422679e+02\n",
      "  -1.59638937e+03  -1.62291065e+03  -1.80945453e+03  -1.81696415e+03\n",
      "  -1.26122161e+03  -1.29781623e+03  -1.20601322e+03  -5.20722582e+02\n",
      "  -1.91558101e+03  -1.69068659e+03  -4.66042311e+02  -1.41861372e+03\n",
      "  -1.47482922e+03  -1.13263234e+03  -1.04201465e+03  -1.35445076e+03\n",
      "  -8.87934394e+02  -1.01178960e+03  -1.25435408e+03  -1.41607388e+02\n",
      "  -1.74594151e+03  -1.88859052e+03  -1.87800261e+03  -1.40602340e+03\n",
      "  -1.94750264e+03  -5.11338764e+01   3.78526559e+02   3.78812598e+02\n",
      "   4.64626543e+02   2.94192287e+02  -5.03012187e+02  -8.74324019e+02\n",
      "  -4.07222507e+02  -1.54496246e+03  -1.12893925e+03   1.10702149e+03\n",
      "   4.57811893e+02   1.34443271e+03]\n"
     ]
    }
   ],
   "source": [
    "print 'intercept: '\n",
    "print data_intercept\n",
    "print 'params: '\n",
    "print data_params"
   ]
  },
  {
   "cell_type": "markdown",
   "metadata": {},
   "source": [
    "### Question 2.5\n",
    "What is your model’s R2 (coefficients of determination) value?"
   ]
  },
  {
   "cell_type": "markdown",
   "metadata": {},
   "source": [
    "#### Answer"
   ]
  },
  {
   "cell_type": "code",
   "execution_count": 16,
   "metadata": {
    "collapsed": false
   },
   "outputs": [
    {
     "name": "stdout",
     "output_type": "stream",
     "text": [
      "R2 coefficient: 0.523685749679\n"
     ]
    }
   ],
   "source": [
    "print \"R2 coefficient: \" + str(r_squared)"
   ]
  },
  {
   "cell_type": "markdown",
   "metadata": {},
   "source": [
    "### Question 2.6\n",
    "What does this R2 value mean for the goodness of fit for your regression model? Do you think this linear model to predict ridership is appropriate for this dataset, given this R2  value?"
   ]
  },
  {
   "cell_type": "markdown",
   "metadata": {},
   "source": [
    "#### Answer\n",
    "This R^2 value is not very bad but there is a lot of room for improvement.  \n",
    "I think that this linear model is not very appropriate for this dataset, and that some other non-linear model might be better."
   ]
  },
  {
   "cell_type": "markdown",
   "metadata": {},
   "source": [
    "## Section 3. Visualization"
   ]
  },
  {
   "cell_type": "markdown",
   "metadata": {},
   "source": [
    "Please include two visualizations that show the relationships between two or more variables in the NYC subway data.\n",
    "Remember to add appropriate titles and axes labels to your plots. Also, please add a short description below each figure commenting on the key insights depicted in the figure."
   ]
  },
  {
   "cell_type": "markdown",
   "metadata": {},
   "source": [
    "### Question 3.1\n",
    "One visualization should contain two histograms: one of  ENTRIESn_hourly for rainy days and one of ENTRIESn_hourly for non-rainy days.\n",
    "- You can combine the two histograms in a single plot or you can use two separate plots.\n",
    "- If you decide to use to two separate plots for the two histograms, please ensure that the x-axis limits for both of the plots are identical. It is much easier to compare the two in that case.\n",
    "- For the histograms, you should have intervals representing the volume of ridership (value of ENTRIESn_hourly) on the x-axis and the frequency of occurrence on the y-axis. For example, each interval (along the x-axis), the height of the bar for this interval will represent the number of records (rows in our data) that have ENTRIESn_hourly that falls in this interval.\n",
    "- Remember to increase the number of bins in the histogram (by having larger number of bars). The default bin width is not sufficient to capture the variability in the two samples."
   ]
  },
  {
   "cell_type": "markdown",
   "metadata": {},
   "source": [
    "#### Answer"
   ]
  },
  {
   "cell_type": "code",
   "execution_count": 21,
   "metadata": {
    "collapsed": false
   },
   "outputs": [
    {
     "data": {
      "image/png": "[encoded data removed]",
      "text/plain": [
       "<matplotlib.figure.Figure at 0x7fe888908090>"
      ]
     },
     "metadata": {},
     "output_type": "display_data"
    },
    {
     "data": {
      "text/plain": [
       "<ggplot: (8789793791169)>"
      ]
     },
     "execution_count": 21,
     "metadata": {},
     "output_type": "execute_result"
    }
   ],
   "source": [
    "ggplot(data[data['ENTRIESn_hourly'] < 10000], aes(x=\"ENTRIESn_hourly\", fill=\"rain\")) + geom_histogram(binwidth=200) + \\\n",
    "ggtitle(\"Histogram containing entries for rainy and non-rainy days\") + \\\n",
    "xlab('No. of entries')"
   ]
  },
  {
   "cell_type": "markdown",
   "metadata": {},
   "source": [
    "### Question 3.2\n",
    "One visualization can be more freeform. You should feel free to implement something that we discussed in class (e.g., scatter plots, line plots) or attempt to implement something more advanced if you'd like. Some suggestions are:\n",
    "- Ridership by time-of-day\n",
    "- Ridership by day-of-week"
   ]
  },
  {
   "cell_type": "markdown",
   "metadata": {},
   "source": [
    "#### Answer"
   ]
  },
  {
   "cell_type": "code",
   "execution_count": 18,
   "metadata": {
    "collapsed": false
   },
   "outputs": [
    {
     "data": {
      "image/png": "[encoded data removed]",
      "text/plain": [
       "<matplotlib.figure.Figure at 0x7fe889757050>"
      ]
     },
     "metadata": {},
     "output_type": "display_data"
    },
    {
     "data": {
      "text/plain": [
       "<ggplot: (8789793839117)>"
      ]
     },
     "execution_count": 18,
     "metadata": {},
     "output_type": "execute_result"
    }
   ],
   "source": [
    "q = \"\"\"\n",
    "select day_week, avg(ENTRIESn_hourly) as entries\n",
    "from data\n",
    "group by day_week\n",
    "\"\"\"\n",
    "\n",
    "day_of_week_data = pandasql.sqldf(q, locals())\n",
    "\n",
    "ggplot(day_of_week_data, aes(\"day_week\", \"entries\")) + geom_bar(stat=\"bar\", fill=\"blue\") + \\\n",
    "ggtitle('Average ridership by day of the week') + \\\n",
    "ylab('No. of entries') + xlab('') + \\\n",
    "scale_x_continuous(breaks=range(0,7), labels=[\"Monday\", \"Tuesday\", \"Wednesday\", \"Thursday\", \"Friday\", \"Saturday\", \"Sunday\"])"
   ]
  },
  {
   "cell_type": "code",
   "execution_count": 19,
   "metadata": {
    "collapsed": false
   },
   "outputs": [
    {
     "name": "stderr",
     "output_type": "stream",
     "text": [
      "/home/veich/installations/anaconda2/lib/python2.7/site-packages/matplotlib/collections.py:590: FutureWarning: elementwise comparison failed; returning scalar instead, but in the future will perform elementwise comparison\n",
      "  if self._edgecolors == str('face'):\n"
     ]
    },
    {
     "data": {
      "image/png": "[encoded data removed]",
      "text/plain": [
       "<matplotlib.figure.Figure at 0x7fe8894d7d10>"
      ]
     },
     "metadata": {},
     "output_type": "display_data"
    },
    {
     "data": {
      "text/plain": [
       "<ggplot: (8789793951985)>"
      ]
     },
     "execution_count": 19,
     "metadata": {},
     "output_type": "execute_result"
    }
   ],
   "source": [
    "q = \"\"\"\n",
    "select hour, avg(ENTRIESn_hourly) as entries\n",
    "from data\n",
    "group by hour\n",
    "\"\"\"\n",
    "\n",
    "time_of_day_data = pandasql.sqldf(q, locals())\n",
    "\n",
    "ggplot(time_of_day_data, aes(\"hour\", \"entries\")) + geom_line(color=\"blue\") + stat_smooth(color=\"gray\", size=\"3\") + \\\n",
    "ggtitle('Average ridership by time of day') + \\\n",
    "xlab(\"Time of day\") + ylab('No. of entries')"
   ]
  },
  {
   "cell_type": "code",
   "execution_count": 22,
   "metadata": {
    "collapsed": false
   },
   "outputs": [
    {
     "data": {
      "image/png": "[encoded data removed]",
      "text/plain": [
       "<matplotlib.figure.Figure at 0x7fe88858e8d0>"
      ]
     },
     "metadata": {},
     "output_type": "display_data"
    },
    {
     "data": {
      "text/plain": [
       "<ggplot: (8789793521837)>"
      ]
     },
     "execution_count": 22,
     "metadata": {},
     "output_type": "execute_result"
    }
   ],
   "source": [
    "q = \"\"\"\n",
    "select rain, day_week, avg(ENTRIESn_hourly) as entries\n",
    "from data\n",
    "group by day_week, rain\n",
    "\"\"\"\n",
    "\n",
    "rain_data = pandasql.sqldf(q, locals())\n",
    "\n",
    "ggplot(rain_data, aes('day_week', 'entries', color='rain')) + geom_line() + geom_point() + \\\n",
    "ggtitle(\"Comparing daily ridership when it rains and when it's not\") + \\\n",
    "ylab('No. of entries') + xlab('') + \\\n",
    "scale_x_continuous(breaks=range(0,7), labels=[\"Monday\", \"Tuesday\", \"Wednesday\", \"Thursday\", \"Friday\", \"Saturday\", \"Sunday\"])"
   ]
  },
  {
   "cell_type": "markdown",
   "metadata": {},
   "source": [
    "## Section 4. Conclusion"
   ]
  },
  {
   "cell_type": "markdown",
   "metadata": {},
   "source": [
    "Please address the following questions in detail. Your answers should be 1-2 paragraphs long."
   ]
  },
  {
   "cell_type": "markdown",
   "metadata": {},
   "source": [
    "### Question 4.1\n",
    "From your analysis and interpretation of the data, do more people ride the NYC subway when it is raining or when it is not raining?"
   ]
  },
  {
   "cell_type": "markdown",
   "metadata": {},
   "source": [
    "#### Answer\n",
    "Based on my analysis there is no significant change in NYC subway ridership when it's raining as opposed to when it's not raining."
   ]
  },
  {
   "cell_type": "markdown",
   "metadata": {},
   "source": [
    "### Question 4.2\n",
    "What analyses lead you to this conclusion? You should use results from both your statistical tests and your linear regression to support your analysis."
   ]
  },
  {
   "cell_type": "markdown",
   "metadata": {
    "collapsed": true
   },
   "source": [
    "#### Answer\n",
    "First thing that led me to this conclusion was Mann-Whitney u-test I performed on the dataset.\n",
    "This test returned p value which was higher than p_critical and this led me to conclusion that rain has no significant influence on the ridership.\n",
    "\n",
    "Secondly, when performing linear regression and calculating R^2 - result did not change at all when including *rain* feature into the model.  \n",
    "From this conclude that there is no correlation between rain and the ridership."
   ]
  },
  {
   "cell_type": "markdown",
   "metadata": {},
   "source": [
    "## Section 5. Reflection"
   ]
  },
  {
   "cell_type": "markdown",
   "metadata": {},
   "source": [
    "Please address the following questions in detail. Your answers should be 1-2 paragraphs long."
   ]
  },
  {
   "cell_type": "markdown",
   "metadata": {},
   "source": [
    "### Question 5.1\n",
    "Please discuss potential shortcomings of the methods of your analysis, including:\n",
    "- Dataset,\n",
    "- Analysis, such as the linear regression model or statistical test."
   ]
  },
  {
   "cell_type": "markdown",
   "metadata": {
    "collapsed": true
   },
   "source": [
    "#### Answer\n",
    "Dataset:\n",
    "- dataset covers only the month of May - other months can have different riderships\n",
    "- dataset covers only one year - this may not be representative enough for every year\n",
    "  \n",
    "Analysis:\n",
    "- we assume that the right approximation of our model is linear (hence the linear regression) when that doesn't need to be true\n",
    "- R^2 value suggests that we didn't get particularly precise model"
   ]
  },
  {
   "cell_type": "markdown",
   "metadata": {},
   "source": [
    "### Question 5.2\n",
    "(Optional) Do you have any other insight about the dataset that you would like to share with us?"
   ]
  },
  {
   "cell_type": "markdown",
   "metadata": {
    "collapsed": true
   },
   "source": [
    "#### Answer\n",
    "There are many datapoints with ridership equal to zero for entire day which is perhaps only data missing and not ridership zero"
   ]
  }
 ],
 "metadata": {
  "kernelspec": {
   "display_name": "Python 2",
   "language": "python",
   "name": "python2"
  },
  "language_info": {
   "codemirror_mode": {
    "name": "ipython",
    "version": 2
   },
   "file_extension": ".py",
   "mimetype": "text/x-python",
   "name": "python",
   "nbconvert_exporter": "python",
   "pygments_lexer": "ipython2",
   "version": "2.7.11"
  }
 },
 "nbformat": 4,
 "nbformat_minor": 0
}
