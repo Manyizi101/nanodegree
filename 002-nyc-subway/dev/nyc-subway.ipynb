{
 "cells": [
  {
   "cell_type": "markdown",
   "metadata": {},
   "source": [
    "# NYC Subway Dataset Analysis"
   ]
  },
  {
   "cell_type": "markdown",
   "metadata": {},
   "source": [
    "## Assignment"
   ]
  },
  {
   "cell_type": "markdown",
   "metadata": {},
   "source": [
    "Purpose of this assignment is to analyze subway ridership dataset and see if external elements like rain significantly influence the number of passengers.  \n",
    "Also, we need to predict number of passengers based on parameters we previously analyzed."
   ]
  },
  {
   "cell_type": "markdown",
   "metadata": {},
   "source": [
    "## Disclaimers"
   ]
  },
  {
   "cell_type": "markdown",
   "metadata": {},
   "source": [
    "Part of the this assigment are also questions in Problem Sets 2, 3, and 4 in the Introduction to Data Science course.  \n",
    "I have resolved all of those.  \n",
    "On couple of them, server would return some unrelated errors and my submission would fail even though I did get required plots.  \n",
    "This only happens when dealing with ggplot."
   ]
  },
  {
   "cell_type": "markdown",
   "metadata": {},
   "source": [
    "## Loading Data and Defining Functions"
   ]
  },
  {
   "cell_type": "markdown",
   "metadata": {},
   "source": [
    "## Section 0. References"
   ]
  },
  {
   "cell_type": "markdown",
   "metadata": {},
   "source": [
    "1. Udacity \"Intro to Data Science\" videos\n",
    "2. pandas, numpy, sklearn, ggplot documentation\n",
    "3. http://matplotlib.org/users/pyplot_tutorial.html\n",
    "4. http://matplotlib.org/examples/api/barchart_demo.html\n",
    "5. https://www.youtube.com/watch?v=pHrwqLhAaMw\n",
    "6. http://stackoverflow.com/questions/2546016/how-to-define-fill-colours-in-ggplot-histogram"
   ]
  },
  {
   "cell_type": "markdown",
   "metadata": {},
   "source": [
    "## Section 1. Statistical Test"
   ]
  },
  {
   "cell_type": "markdown",
   "metadata": {},
   "source": [
    "### Question 1.1\n",
    "Which statistical test did you use to analyze the NYC subway data? Did you use a one-tail or a two-tail P value? What is the null hypothesis? What is your p-critical value?"
   ]
  },
  {
   "cell_type": "markdown",
   "metadata": {
    "collapsed": true
   },
   "source": [
    "#### Answer\n",
    "**H0: µ_entries_rain = µ_entries_no_rain**  \n",
    "Mean of entries on the days it rains is the same as the mean of entries on the days when it doesn't rain  \n",
    "**H1: µ_entries_rain ≠ µ_entries_no_rain**  \n",
    "Mean of entries on the days it rains is different than the mean of entries on the days when it doesn't rain  \n",
    "  \n",
    "I am using one-tail p value.\n",
    "\n",
    "p_critical = 0.05  \n",
    "  \n",
    "I used Mann-Whitney u-test since the data was not normally distributed."
   ]
  },
  {
   "cell_type": "markdown",
   "metadata": {},
   "source": [
    "#### Calculation\n",
    "First we need to agregate *entries* and *rain* by days."
   ]
  },
  {
   "cell_type": "code",
   "execution_count": 428,
   "metadata": {
    "collapsed": false
   },
   "outputs": [],
   "source": [
    "import numpy as np\n",
    "import pandas\n",
    "import pandasql\n",
    "from sklearn.linear_model import SGDRegressor\n",
    "import scipy\n",
    "from ggplot import *\n",
    "%matplotlib inline \n",
    "\n",
    "pandas.set_option('display.max_columns', None)\n",
    "data = pandas.read_csv('data/weather.csv')\n",
    "#print data.iloc[0]\n",
    "\n",
    "##ggplot(data, aes(x=\"ENTRIESn\")) + geom_histogram() #+ facet_wrap(\"hour\")"
   ]
  },
  {
   "cell_type": "code",
   "execution_count": 430,
   "metadata": {
    "collapsed": false
   },
   "outputs": [],
   "source": [
    "q = \"\"\"\n",
    "select UNIT, DATEn, max(rain) as rain, weekday, sum(ENTRIESn_hourly) as entries\n",
    "from data\n",
    "group by UNIT, DATEn\n",
    "\"\"\"\n",
    "\n",
    "daily_data = pandasql.sqldf(q, locals())\n",
    "\n",
    "#print len(daily_data['UNIT'].unique())\n",
    "#print daily_data"
   ]
  },
  {
   "cell_type": "markdown",
   "metadata": {},
   "source": [
    "Now we can compare entries on the days that rains vs. the ones that don't.  \n",
    "Also, we should compare only weekdays with themselves since ridership may vary for weekends."
   ]
  },
  {
   "cell_type": "code",
   "execution_count": 432,
   "metadata": {
    "collapsed": false
   },
   "outputs": [],
   "source": [
    "rains_weekday_data = daily_data['entries'][(daily_data.rain == 1) & (daily_data.weekday == 1)]\n",
    "no_rain_weekday_data = daily_data['entries'][(daily_data.rain == 0) & (daily_data.weekday == 1)]\n",
    "rains_weekend_data = daily_data['entries'][(daily_data.rain == 1) & (daily_data.weekday == 0)]\n",
    "no_rain_weekend_data = daily_data['entries'][(daily_data.rain == 0) & (daily_data.weekday == 0)]"
   ]
  },
  {
   "cell_type": "markdown",
   "metadata": {},
   "source": [
    "To detect which test we should use we first need to confirm or deny some assumptions we have about data.\n",
    "First we use Shapiro-Wilk test to see weather our data is normally distributed."
   ]
  },
  {
   "cell_type": "code",
   "execution_count": 433,
   "metadata": {
    "collapsed": false
   },
   "outputs": [
    {
     "name": "stdout",
     "output_type": "stream",
     "text": [
      "p = 0.0\n"
     ]
    }
   ],
   "source": [
    "w,p = scipy.stats.shapiro(daily_data['entries'])\n",
    "print \"p = \" + str(p)"
   ]
  },
  {
   "cell_type": "markdown",
   "metadata": {},
   "source": [
    "We cannot use shapito test due to too large sample size.\n",
    "But, since we have large enough data sample we can see from the histogram below that our data is not normally distributed."
   ]
  },
  {
   "cell_type": "code",
   "execution_count": 435,
   "metadata": {
    "collapsed": false
   },
   "outputs": [
    {
     "data": {
      "image/png": "[encoded data removed]",
      "text/plain": [
       "<matplotlib.figure.Figure at 0x7f0d3a5cfa50>"
      ]
     },
     "metadata": {},
     "output_type": "display_data"
    },
    {
     "data": {
      "text/plain": [
       "<ggplot: (8730924816005)>"
      ]
     },
     "execution_count": 435,
     "metadata": {},
     "output_type": "execute_result"
    }
   ],
   "source": [
    "ggplot(daily_data, aes(x=\"entries\")) + geom_histogram()"
   ]
  },
  {
   "cell_type": "markdown",
   "metadata": {},
   "source": [
    "Because our data is not normally distributed Mann-Whitney u-test seems appropriate to compare data samples.  \n",
    "This test doesn't assume any particular probability distribution."
   ]
  },
  {
   "cell_type": "markdown",
   "metadata": {},
   "source": [
    "### Question 1.2\n",
    "Why is this statistical test applicable to the dataset? In particular, consider the assumptions that the test is making about the distribution of ridership in the two samples."
   ]
  },
  {
   "cell_type": "markdown",
   "metadata": {
    "collapsed": true
   },
   "source": [
    "#### Answer\n",
    "Mann-Whitney u-test doesn't assume any particular sample distribution which makes it suitable for this data set which is not normally distributed."
   ]
  },
  {
   "cell_type": "markdown",
   "metadata": {},
   "source": [
    "### Question 1.3\n",
    "What results did you get from this statistical test? These should include the following numerical values: p-values, as well as the means for each of the two samples under test."
   ]
  },
  {
   "cell_type": "code",
   "execution_count": 436,
   "metadata": {
    "collapsed": true
   },
   "outputs": [],
   "source": [
    "#rains_weekday_data\n",
    "#no_rain_weekday_data\n",
    "#rains_weekend_data\n",
    "#no_rain_weekend_data"
   ]
  },
  {
   "cell_type": "code",
   "execution_count": 437,
   "metadata": {
    "collapsed": false
   },
   "outputs": [
    {
     "name": "stdout",
     "output_type": "stream",
     "text": [
      "p = 0.0496887782637\n",
      "entries_mean_weekday_rains_ridership = 12970.4450995\n",
      "entries_mean_weekday_no_rain_ridership = 12328.3840246\n"
     ]
    }
   ],
   "source": [
    "u,p = scipy.stats.mannwhitneyu(rains_weekday_data, no_rain_weekday_data)\n",
    "print 'p = ' + str(p)\n",
    "print \"entries_mean_weekday_rains_ridership = \" + str(np.mean(rains_weekday_data))\n",
    "print \"entries_mean_weekday_no_rain_ridership = \" + str(np.mean(no_rain_weekday_data))"
   ]
  },
  {
   "cell_type": "markdown",
   "metadata": {},
   "source": [
    "Calculated p value is less than our p_critical value (0.05) which means rain has significant impact on ridership on weekdays."
   ]
  },
  {
   "cell_type": "code",
   "execution_count": 438,
   "metadata": {
    "collapsed": false
   },
   "outputs": [
    {
     "name": "stdout",
     "output_type": "stream",
     "text": [
      "p = 0.0829950888061\n",
      "entries_mean_weekend_rains_ridership = 6193.14814815\n",
      "entries_mean_weekend_no_rain_ridership = 6939.72384035\n"
     ]
    }
   ],
   "source": [
    "u,p = scipy.stats.mannwhitneyu(rains_weekend_data, no_rain_weekend_data)\n",
    "print 'p = ' + str(p)\n",
    "print \"entries_mean_weekend_rains_ridership = \" + str(np.mean(rains_weekend_data))\n",
    "print \"entries_mean_weekend_no_rain_ridership = \" + str(np.mean(no_rain_weekend_data))"
   ]
  },
  {
   "cell_type": "markdown",
   "metadata": {},
   "source": [
    "p value in this test suggests that rain has no significant impact on subway ridership during the weekend."
   ]
  },
  {
   "cell_type": "code",
   "execution_count": 439,
   "metadata": {
    "collapsed": false
   },
   "outputs": [
    {
     "name": "stdout",
     "output_type": "stream",
     "text": [
      "p = 7.68162246312e-32\n",
      "entries_mean_weekday_rains_ridership = 12970.4450995\n",
      "entries_mean_weekend_rains_ridership = 6193.14814815\n",
      "p = 7.60085459706e-103\n",
      "entries_mean_weekday_no_rain_ridership = 12328.3840246\n",
      "entries_mean_weekend_no_rain_ridership = 6939.72384035\n"
     ]
    }
   ],
   "source": [
    "u,p = scipy.stats.mannwhitneyu(rains_weekday_data, rains_weekend_data)\n",
    "print 'p = ' + str(p)\n",
    "print \"entries_mean_weekday_rains_ridership = \" + str(np.mean(rains_weekday_data))\n",
    "print \"entries_mean_weekend_rains_ridership = \" + str(np.mean(rains_weekend_data))\n",
    "u,p = scipy.stats.mannwhitneyu(no_rain_weekend_data, no_rain_weekday_data)\n",
    "print 'p = ' + str(p)\n",
    "print \"entries_mean_weekday_no_rain_ridership = \" + str(np.mean(no_rain_weekday_data))\n",
    "print \"entries_mean_weekend_no_rain_ridership = \" + str(np.mean(no_rain_weekend_data))"
   ]
  },
  {
   "cell_type": "markdown",
   "metadata": {},
   "source": [
    "Calculated p values suggest weekday vs. weekend has significant impact on the subway ridership (accounted for the possible rain impact on the results)."
   ]
  },
  {
   "cell_type": "markdown",
   "metadata": {},
   "source": [
    "### Question 1.4\n",
    "What is the significance and interpretation of these results?"
   ]
  },
  {
   "cell_type": "markdown",
   "metadata": {
    "collapsed": true
   },
   "source": [
    "#### Answer\n",
    "Statistical significance of these results is 0.05"
   ]
  },
  {
   "cell_type": "markdown",
   "metadata": {},
   "source": [
    "## Section 2. Linear Regression"
   ]
  },
  {
   "cell_type": "markdown",
   "metadata": {},
   "source": [
    "### Question 2.1\n",
    "What approach did you use to compute the coefficients theta and produce prediction for ENTRIESn_hourly in your regression model:\n",
    "- OLS using Statsmodels or Scikit Learn\n",
    "- Gradient descent using Scikit Learn\n",
    "- Or something different?"
   ]
  },
  {
   "cell_type": "markdown",
   "metadata": {
    "collapsed": true
   },
   "source": [
    "#### Answer\n",
    "I used gradient descent from scikit learn."
   ]
  },
  {
   "cell_type": "markdown",
   "metadata": {},
   "source": [
    "### Question 2.2\n",
    "What features (input variables) did you use in your model? Did you use any dummy variables as part of your features?"
   ]
  },
  {
   "cell_type": "markdown",
   "metadata": {
    "collapsed": true
   },
   "source": [
    "#### Answer\n",
    "In my model I used the following variables:\n",
    "- rain\n",
    "- hour\n",
    "- weekday\n",
    "- fog\n",
    "- day_week\n",
    "\n",
    "I used *UNIT* dummy variable as part of my features"
   ]
  },
  {
   "cell_type": "markdown",
   "metadata": {},
   "source": [
    "#### Calculation"
   ]
  },
  {
   "cell_type": "code",
   "execution_count": 440,
   "metadata": {
    "collapsed": true
   },
   "outputs": [],
   "source": [
    "def linear_regression(features, values):\n",
    "    model = SGDRegressor()\n",
    "    model.fit(features, values)\n",
    "\n",
    "    intercept = model.intercept_\n",
    "    params = model.coef_\n",
    "    \n",
    "    return intercept, params"
   ]
  },
  {
   "cell_type": "code",
   "execution_count": 441,
   "metadata": {
    "collapsed": true
   },
   "outputs": [],
   "source": [
    "def normalize_features(features):\n",
    "    ''' \n",
    "    Returns the means and standard deviations of the given features, along with a normalized feature\n",
    "    matrix.\n",
    "    ''' \n",
    "    means = np.mean(features, axis=0)\n",
    "    std_devs = np.std(features, axis=0)\n",
    "    normalized_features = (features - means) / std_devs\n",
    "    \n",
    "    return means, std_devs, normalized_features"
   ]
  },
  {
   "cell_type": "code",
   "execution_count": 442,
   "metadata": {
    "collapsed": true
   },
   "outputs": [],
   "source": [
    "def recover_params(means, std_devs, norm_intercept, norm_params):\n",
    "    ''' \n",
    "    Recovers the weights for a linear model given parameters that were fitted using\n",
    "    normalized features. Takes the means and standard deviations of the original\n",
    "    features, along with the intercept and parameters computed using the normalized\n",
    "    features, and returns the intercept and parameters that correspond to the original\n",
    "    features.\n",
    "    ''' \n",
    "    intercept = norm_intercept - np.sum(means * norm_params / std_devs)\n",
    "    params = norm_params / std_devs\n",
    "    \n",
    "    return intercept, params"
   ]
  },
  {
   "cell_type": "code",
   "execution_count": 443,
   "metadata": {
    "collapsed": true
   },
   "outputs": [],
   "source": [
    "def compute_r_squared(data, predicted_data):\n",
    "    \n",
    "    y = data['ENTRIESn_hourly'].tolist()\n",
    "    avg_y = np.mean(y)\n",
    "    \n",
    "    \n",
    "    top_diff = y - predicted_data\n",
    "    top_diff_squared = top_diff * top_diff\n",
    "    top_total_sum = np.sum(top_diff_squared)\n",
    "    \n",
    "    bottom_diff = y - avg_y\n",
    "    bottom_diff_squared = bottom_diff * bottom_diff\n",
    "    bottom_total_sum = np.sum(bottom_diff_squared)\n",
    "    \n",
    "    r_squared = 1 - (top_total_sum / bottom_total_sum)\n",
    "    \n",
    "    \n",
    "    return r_squared"
   ]
  },
  {
   "cell_type": "code",
   "execution_count": 444,
   "metadata": {
    "collapsed": false
   },
   "outputs": [],
   "source": [
    "def predictions(dataframe): \n",
    "    \n",
    "    features = dataframe[['rain', 'hour', 'weekday', 'fog', 'day_week']]\n",
    "    \n",
    "    \n",
    "    dummy_units = pandas.get_dummies(dataframe['UNIT'], prefix='unit')\n",
    "    features = features.join(dummy_units)\n",
    "    \n",
    "    # Values\n",
    "    values = dataframe['ENTRIESn_hourly']\n",
    "    \n",
    "    # Get numpy arrays\n",
    "    features_array = features.values\n",
    "    values_array = values.values\n",
    "    \n",
    "    means, std_devs, normalized_features_array = normalize_features(features_array)\n",
    "\n",
    "    # Perform gradient descent\n",
    "    norm_intercept, norm_params = linear_regression(normalized_features_array, values_array)\n",
    "    \n",
    "    intercept, params = recover_params(means, std_devs, norm_intercept, norm_params)\n",
    "    \n",
    "    predictions = intercept + np.dot(features_array, params)\n",
    "    # The following line would be equivalent:\n",
    "    # predictions = norm_intercept + np.dot(normalized_features_array, norm_params)\n",
    "    \n",
    "    global data_intercept\n",
    "    data_intercept = intercept\n",
    "    \n",
    "    global data_params\n",
    "    data_params = params\n",
    "    \n",
    "    return predictions"
   ]
  },
  {
   "cell_type": "code",
   "execution_count": 445,
   "metadata": {
    "collapsed": false
   },
   "outputs": [
    {
     "name": "stdout",
     "output_type": "stream",
     "text": [
      "r_squared: 0.445551391026\n"
     ]
    }
   ],
   "source": [
    "data_intercept = []\n",
    "data_params = []\n",
    "entries_predictions = predictions(data)\n",
    "\n",
    "r_squared = compute_r_squared(data, entries_predictions)\n",
    "print \"r_squared: \" + str(r_squared)"
   ]
  },
  {
   "cell_type": "markdown",
   "metadata": {},
   "source": [
    "### Question 2.3\n",
    "Why did you select these features in your model? We are looking for specific reasons that lead you to believe that\n",
    "the selected features will contribute to the predictive power of your model.\n",
    "- Your reasons might be based on intuition. For example, response for fog might be: “I decided to use fog because I thought that when it is very foggy outside people might decide to use the subway more often.”\n",
    "- Your reasons might also be based on data exploration and experimentation, for example: “I used feature X because as soon as I included it in my model, it drastically improved my R2 value.”"
   ]
  },
  {
   "cell_type": "markdown",
   "metadata": {
    "collapsed": true
   },
   "source": [
    "#### Answer\n",
    "\n",
    "Feature selection was based both on data analysis and experimentation.  \n",
    "  \n",
    "Variables based on analysis:\n",
    "- rain\n",
    "- hour\n",
    "- weekday\n",
    "  \n",
    "Features based on experimentation and incresasing R^2 value:\n",
    "- fog\n",
    "- day_week\n"
   ]
  },
  {
   "cell_type": "markdown",
   "metadata": {},
   "source": [
    "### Question 2.4\n",
    "What are the parameters (also known as \"coefficients\" or \"weights\") of the non-dummy features in your linear regression model?"
   ]
  },
  {
   "cell_type": "code",
   "execution_count": 446,
   "metadata": {
    "collapsed": false
   },
   "outputs": [
    {
     "name": "stdout",
     "output_type": "stream",
     "text": [
      "intercept: \n",
      "[-474.47472691]\n",
      "params: \n",
      "[   162.16307698    122.04833699   1232.21208432  -1059.23394291\n",
      "     87.91712974  -1934.31328292  -1102.61902175  -1532.8203713\n",
      "  -1253.53192597  -1519.16793087  -1668.29032493  -1415.43713173\n",
      "   5205.35032116  10359.8836903    1014.37634454  -1229.41303074\n",
      "   1620.760307     3801.00473579   1464.59778622   1270.92541343\n",
      "   4867.64942949   6639.74694061   6083.68971681    899.63487655\n",
      "   3342.32930556   2173.33937897   6346.66464033    768.10610746\n",
      "   2404.39849758   4821.00247201   7116.9886562    -678.76305339\n",
      "    834.00523979  -1190.89061605   -870.8414048   -1734.09191465\n",
      "  -1149.10443422    -12.22056442   1805.44003324  -1376.89405817\n",
      "   1526.3100215    2793.83612758   9256.94283253    675.8106062\n",
      "   2591.20035262   2458.58515107   -561.6198169     934.57316376\n",
      "   -520.08877593   7113.44680016   -500.36317375   3403.83421728\n",
      "  -1188.63278004   -642.46424407   -901.59472722  -1015.56326657\n",
      "    361.63186658   -719.04352232   -768.26809485  -1219.15029851\n",
      "  -1476.59209789  -1008.93381912  -1615.55443388   -804.41873162\n",
      "    -54.84101258   1349.80660304   2121.2367305    -488.49144977\n",
      "   1618.9722638    8510.87963768     39.23014668    987.51478387\n",
      "   -458.84259594  -1274.12035645  -1569.73752287   -690.61877095\n",
      "    240.84822236    580.90922716   -362.21132362    856.99056321\n",
      "    178.66963445    238.09909014   -396.12179678   -193.63310567\n",
      "  -1359.89721666   1068.94778197   1952.002208     -487.75496873\n",
      "   -691.36586809   1731.73269603   -382.979044     -970.56667075\n",
      "   3931.80580728   1057.20215671    -69.80784309   -901.53207969\n",
      "   -965.43659397   2337.67203825   -826.17429467    -48.90986069\n",
      "   -398.92378997   -274.22390103    754.86996969   -699.09426404\n",
      "  -1280.27654438   -487.13884414   2584.57611715    320.55841312\n",
      "   1035.40852595   1590.39909033   -377.51338632   3030.91764315\n",
      "    -96.82652547   -894.15487178   -298.46515226   -763.67421786\n",
      "    794.95268945    110.81996775    375.89328746   -444.86158682\n",
      "   -180.7166765   -1270.73322676   -974.16813037    923.61253439\n",
      "   -352.05616069   -204.01608568   -397.70684312     40.75183695\n",
      "    -61.22866629   -659.34259581  -1815.35171547    889.62004606\n",
      "   -474.34883932   -711.13488443  -1165.93983786   -208.28284235\n",
      "  -1009.9834857    -784.44961501    281.79363819   -491.66602786\n",
      "   -328.76423667   -133.46132487    941.44004802   -963.94532879\n",
      "  -1373.41418198  -1436.48821218   -658.59027956   -564.41886611\n",
      "  -1373.20575499  -1394.71510918  -1019.57352921   -123.45215536\n",
      "   -344.65205175  -1769.97401828    516.92343502   -385.43571329\n",
      "  -1249.22855458    357.66247041  -1049.84131749    451.26637482\n",
      "   -993.70958634   -889.01622183   -191.49500292  -1259.0893049\n",
      "  -1499.48502012   1002.28864304   -815.02318368  -1197.62316192\n",
      "   -413.6012961    -879.34529374  -1357.05543651    480.86067787\n",
      "   -958.84352132   -366.19169546    -15.90196156   -336.85345679\n",
      "  -1280.13536769   -443.80538201   -130.07346485  -1334.70907351\n",
      "  -1584.16713058  -1375.41022238   -881.59841741  -1159.4705351\n",
      "   -945.64195829  -1535.00980727  -1500.87131859   -486.42328308\n",
      "  -1049.72386077   -755.94230542   -571.71134267  -1463.00169026\n",
      "  -1086.27920165  -1085.60045028   -968.34665621   -441.2711599\n",
      "   -435.67298805  -1295.39510607  -1217.66807015  -1346.21942711\n",
      "   -321.13324117  -1273.25736468  -1422.09661659    436.46460297\n",
      "    -49.18046309   -621.25728912  -1408.18906875  -1199.94368574\n",
      "  -1380.21473341   -379.97740174  -1412.71861932  -1531.43691673\n",
      "  -1706.9470369   -1300.50296184   -470.41434242   -453.30998646\n",
      "    161.52854955   -753.53748158  -1670.29542661   -368.56662141\n",
      "  -1258.96930365  -1931.89348524  -2097.69075692  -2029.46924161\n",
      "  -1564.96485373  -1301.03458846  -1370.93742633   -446.07290887\n",
      "  -1597.55071599  -1676.25422838   -458.24868232  -1860.35489592\n",
      "  -1150.39129506   -743.52873553   -958.33774181   -623.18642716\n",
      "   -716.36437353  -1499.44604163   -905.78936569    -42.56989609\n",
      "  -1767.10921956  -1682.02906759  -1635.92931976  -1539.59925741\n",
      "  -1780.08087657]\n"
     ]
    }
   ],
   "source": [
    "print 'intercept: '\n",
    "print data_intercept\n",
    "print 'params: '\n",
    "print data_params"
   ]
  },
  {
   "cell_type": "markdown",
   "metadata": {},
   "source": [
    "### Question 2.5\n",
    "What is your model’s R2 (coefficients of determination) value?"
   ]
  },
  {
   "cell_type": "markdown",
   "metadata": {},
   "source": [
    "#### Answer"
   ]
  },
  {
   "cell_type": "code",
   "execution_count": 447,
   "metadata": {
    "collapsed": false
   },
   "outputs": [
    {
     "name": "stdout",
     "output_type": "stream",
     "text": [
      "R2 coefficient: 0.445551391026\n"
     ]
    }
   ],
   "source": [
    "print \"R2 coefficient: \" + str(r_squared)"
   ]
  },
  {
   "cell_type": "markdown",
   "metadata": {},
   "source": [
    "### Question 2.6\n",
    "What does this R2 value mean for the goodness of fit for your regression model? Do you think this linear model to predict ridership is appropriate for this dataset, given this R2  value?"
   ]
  },
  {
   "cell_type": "markdown",
   "metadata": {},
   "source": [
    "#### Answer\n",
    "This R^2 value is not very bad but there is a lot of room for improvement.  \n",
    "I think that this linear model is not very appropriate for this dataset, and that some other non-linear model might be better."
   ]
  },
  {
   "cell_type": "markdown",
   "metadata": {},
   "source": [
    "## Section 3. Visualization"
   ]
  },
  {
   "cell_type": "markdown",
   "metadata": {},
   "source": [
    "Please include two visualizations that show the relationships between two or more variables in the NYC subway data.\n",
    "Remember to add appropriate titles and axes labels to your plots. Also, please add a short description below each figure commenting on the key insights depicted in the figure."
   ]
  },
  {
   "cell_type": "markdown",
   "metadata": {},
   "source": [
    "### Question 3.1\n",
    "One visualization should contain two histograms: one of  ENTRIESn_hourly for rainy days and one of ENTRIESn_hourly for non-rainy days.\n",
    "- You can combine the two histograms in a single plot or you can use two separate plots.\n",
    "- If you decide to use to two separate plots for the two histograms, please ensure that the x-axis limits for both of the plots are identical. It is much easier to compare the two in that case.\n",
    "- For the histograms, you should have intervals representing the volume of ridership (value of ENTRIESn_hourly) on the x-axis and the frequency of occurrence on the y-axis. For example, each interval (along the x-axis), the height of the bar for this interval will represent the number of records (rows in our data) that have ENTRIESn_hourly that falls in this interval.\n",
    "- Remember to increase the number of bins in the histogram (by having larger number of bars). The default bin width is not sufficient to capture the variability in the two samples."
   ]
  },
  {
   "cell_type": "markdown",
   "metadata": {},
   "source": [
    "#### Answer"
   ]
  },
  {
   "cell_type": "code",
   "execution_count": 455,
   "metadata": {
    "collapsed": false
   },
   "outputs": [
    {
     "data": {
      "image/png": "[encoded data removed]",
      "text/plain": [
       "<matplotlib.figure.Figure at 0x7f0d37d28cd0>"
      ]
     },
     "metadata": {},
     "output_type": "display_data"
    },
    {
     "data": {
      "text/plain": [
       "<ggplot: (8730924981933)>"
      ]
     },
     "execution_count": 455,
     "metadata": {},
     "output_type": "execute_result"
    }
   ],
   "source": [
    "ggplot(data[data['ENTRIESn_hourly'] < 10000], aes(x=\"ENTRIESn_hourly\", fill=\"rain\")) + geom_histogram(binwidth=200)"
   ]
  },
  {
   "cell_type": "markdown",
   "metadata": {},
   "source": [
    "### Question 3.2\n",
    "One visualization can be more freeform. You should feel free to implement something that we discussed in class (e.g., scatter plots, line plots) or attempt to implement something more advanced if you'd like. Some suggestions are:\n",
    "- Ridership by time-of-day\n",
    "- Ridership by day-of-week"
   ]
  },
  {
   "cell_type": "markdown",
   "metadata": {},
   "source": [
    "#### Answer"
   ]
  },
  {
   "cell_type": "code",
   "execution_count": 526,
   "metadata": {
    "collapsed": false
   },
   "outputs": [
    {
     "data": {
      "image/png": "[encoded data removed]",
      "text/plain": [
       "<matplotlib.figure.Figure at 0x7f0d368bc650>"
      ]
     },
     "metadata": {},
     "output_type": "display_data"
    },
    {
     "data": {
      "text/plain": [
       "<ggplot: (8730922664337)>"
      ]
     },
     "execution_count": 526,
     "metadata": {},
     "output_type": "execute_result"
    }
   ],
   "source": [
    "q = \"\"\"\n",
    "select day_week, avg(ENTRIESn_hourly) as entries\n",
    "from data\n",
    "group by day_week\n",
    "\"\"\"\n",
    "\n",
    "day_of_week_data = pandasql.sqldf(q, locals())\n",
    "\n",
    "ggplot(day_of_week_data, aes(\"day_week\", \"entries\")) + geom_bar(stat=\"bar\", fill=\"blue\") + \\\n",
    "ggtitle('Average ridership by day of the week') + \\\n",
    "ylab('No. of entries') + xlab('Monday through Sunday')"
   ]
  },
  {
   "cell_type": "code",
   "execution_count": 528,
   "metadata": {
    "collapsed": false
   },
   "outputs": [
    {
     "data": {
      "image/png": "[encoded data removed]",
      "text/plain": [
       "<matplotlib.figure.Figure at 0x7f0d3206ced0>"
      ]
     },
     "metadata": {},
     "output_type": "display_data"
    },
    {
     "data": {
      "text/plain": [
       "<ggplot: (8730920860025)>"
      ]
     },
     "execution_count": 528,
     "metadata": {},
     "output_type": "execute_result"
    }
   ],
   "source": [
    "q = \"\"\"\n",
    "select hour, avg(ENTRIESn_hourly) as entries\n",
    "from data\n",
    "group by hour\n",
    "\"\"\"\n",
    "\n",
    "time_of_day_data = pandasql.sqldf(q, locals())\n",
    "\n",
    "ggplot(time_of_day_data, aes(\"hour\", \"entries\")) + geom_line(color=\"blue\") + stat_smooth(color=\"gray\", size=\"3\") + \\\n",
    "ggtitle('Average ridership by time of day') + \\\n",
    "xlab(\"Time of day\") + ylab('No. of entries')"
   ]
  },
  {
   "cell_type": "code",
   "execution_count": 531,
   "metadata": {
    "collapsed": false
   },
   "outputs": [
    {
     "data": {
      "image/png": "[encoded data removed]",
      "text/plain": [
       "<matplotlib.figure.Figure at 0x7f0d31895890>"
      ]
     },
     "metadata": {},
     "output_type": "display_data"
    },
    {
     "data": {
      "text/plain": [
       "<ggplot: (8730915840425)>"
      ]
     },
     "execution_count": 531,
     "metadata": {},
     "output_type": "execute_result"
    }
   ],
   "source": [
    "q = \"\"\"\n",
    "select rain, day_week, avg(ENTRIESn_hourly) as entries\n",
    "from data\n",
    "group by day_week, rain\n",
    "\"\"\"\n",
    "\n",
    "rain_data = pandasql.sqldf(q, locals())\n",
    "\n",
    "ggplot(rain_data, aes('day_week', 'entries', color='rain')) + geom_line() + geom_point() + \\\n",
    "ggtitle(\"Comparing daily ridership when it rains (blue) and when it's not (red)\") + \\\n",
    "ylab('No. of entries') + xlab('Monday through Sunday')"
   ]
  },
  {
   "cell_type": "markdown",
   "metadata": {},
   "source": [
    "## Section 4. Conclusion"
   ]
  },
  {
   "cell_type": "markdown",
   "metadata": {},
   "source": [
    "Please address the following questions in detail. Your answers should be 1-2 paragraphs long."
   ]
  },
  {
   "cell_type": "markdown",
   "metadata": {},
   "source": [
    "### Question 4.1\n",
    "From your analysis and interpretation of the data, do more people ride the NYC subway when it is raining or when it is not raining?"
   ]
  },
  {
   "cell_type": "markdown",
   "metadata": {},
   "source": [
    "#### Answer\n",
    "Based on my analysis more people ride "
   ]
  },
  {
   "cell_type": "markdown",
   "metadata": {
    "collapsed": true
   },
   "source": [
    "#### Answer\n",
    "More people ride the NYC subway when it rains during weekday."
   ]
  },
  {
   "cell_type": "markdown",
   "metadata": {},
   "source": [
    "### Question 4.2\n",
    "What analyses lead you to this conclusion? You should use results from both your statistical tests and your linear regression to support your analysis."
   ]
  },
  {
   "cell_type": "code",
   "execution_count": null,
   "metadata": {
    "collapsed": true
   },
   "outputs": [],
   "source": []
  },
  {
   "cell_type": "markdown",
   "metadata": {},
   "source": [
    "## Section 5. Reflection"
   ]
  },
  {
   "cell_type": "markdown",
   "metadata": {},
   "source": [
    "Please address the following questions in detail. Your answers should be 1-2 paragraphs long."
   ]
  },
  {
   "cell_type": "markdown",
   "metadata": {},
   "source": [
    "### Question 5.1\n",
    "Please discuss potential shortcomings of the methods of your analysis, including:\n",
    "- Dataset,\n",
    "- Analysis, such as the linear regression model or statistical test."
   ]
  },
  {
   "cell_type": "code",
   "execution_count": null,
   "metadata": {
    "collapsed": true
   },
   "outputs": [],
   "source": []
  },
  {
   "cell_type": "markdown",
   "metadata": {},
   "source": [
    "### Question 5.2\n",
    "(Optional) Do you have any other insight about the dataset that you would like to share with us?"
   ]
  },
  {
   "cell_type": "code",
   "execution_count": null,
   "metadata": {
    "collapsed": true
   },
   "outputs": [],
   "source": []
  },
  {
   "cell_type": "code",
   "execution_count": null,
   "metadata": {
    "collapsed": true
   },
   "outputs": [],
   "source": []
  },
  {
   "cell_type": "code",
   "execution_count": null,
   "metadata": {
    "collapsed": true
   },
   "outputs": [],
   "source": []
  },
  {
   "cell_type": "code",
   "execution_count": null,
   "metadata": {
    "collapsed": true
   },
   "outputs": [],
   "source": []
  },
  {
   "cell_type": "code",
   "execution_count": null,
   "metadata": {
    "collapsed": true
   },
   "outputs": [],
   "source": []
  },
  {
   "cell_type": "code",
   "execution_count": null,
   "metadata": {
    "collapsed": true
   },
   "outputs": [],
   "source": []
  },
  {
   "cell_type": "code",
   "execution_count": null,
   "metadata": {
    "collapsed": true
   },
   "outputs": [],
   "source": []
  }
 ],
 "metadata": {
  "kernelspec": {
   "display_name": "Python 2",
   "language": "python",
   "name": "python2"
  },
  "language_info": {
   "codemirror_mode": {
    "name": "ipython",
    "version": 2
   },
   "file_extension": ".py",
   "mimetype": "text/x-python",
   "name": "python",
   "nbconvert_exporter": "python",
   "pygments_lexer": "ipython2",
   "version": "2.7.11"
  }
 },
 "nbformat": 4,
 "nbformat_minor": 0
}
