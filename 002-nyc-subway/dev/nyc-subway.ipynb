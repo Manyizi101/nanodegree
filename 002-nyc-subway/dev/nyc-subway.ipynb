{
 "cells": [
  {
   "cell_type": "markdown",
   "metadata": {},
   "source": [
    "# NYC Subway Dataset Analysis"
   ]
  },
  {
   "cell_type": "markdown",
   "metadata": {},
   "source": [
    "## Assignment"
   ]
  },
  {
   "cell_type": "markdown",
   "metadata": {},
   "source": [
    "Purpose of this assignment is to analyze subway ridership dataset and see if external elements like rain significantly influence the number of passengers.  \n",
    "Also, we need to predict number of passengers based on parameters we previously analyzed."
   ]
  },
  {
   "cell_type": "markdown",
   "metadata": {},
   "source": [
    "## Disclaimers"
   ]
  },
  {
   "cell_type": "markdown",
   "metadata": {},
   "source": [
    "Part of the this assigment are also questions in Problem Sets 2, 3, and 4 in the Introduction to Data Science course.  \n",
    "I have resolved all of those.  \n",
    "On couple of them, server would return some unrelated errors and my submission would fail even though I did get required plots.  \n",
    "This only happens when dealing with ggplot."
   ]
  },
  {
   "cell_type": "markdown",
   "metadata": {},
   "source": [
    "## Loading Data and Defining Functions"
   ]
  },
  {
   "cell_type": "markdown",
   "metadata": {},
   "source": [
    "## Section 0. References"
   ]
  },
  {
   "cell_type": "markdown",
   "metadata": {},
   "source": [
    "1. Udacity \"Intro to Data Science\" videos\n",
    "2. pandas, numpy, sklearn, ggplot documentation\n",
    "3. http://matplotlib.org/users/pyplot_tutorial.html\n",
    "4. http://matplotlib.org/examples/api/barchart_demo.html\n",
    "5. https://www.youtube.com/watch?v=pHrwqLhAaMw\n",
    "6. http://stackoverflow.com/questions/2546016/how-to-define-fill-colours-in-ggplot-histogram"
   ]
  },
  {
   "cell_type": "markdown",
   "metadata": {},
   "source": [
    "## Section 1. Statistical Test"
   ]
  },
  {
   "cell_type": "markdown",
   "metadata": {},
   "source": [
    "### Question 1.1\n",
    "Which statistical test did you use to analyze the NYC subway data? Did you use a one-tail or a two-tail P value? What is the null hypothesis? What is your p-critical value?"
   ]
  },
  {
   "cell_type": "markdown",
   "metadata": {
    "collapsed": true
   },
   "source": [
    "#### Answer\n",
    "**H0: µ_entries_rain = µ_entries_no_rain**  \n",
    "Mean of entries on the days it rains is the same as the mean of entries on the days when it doesn't rain  \n",
    "**H1: µ_entries_rain ≠ µ_entries_no_rain**  \n",
    "Mean of entries on the days it rains is different than the mean of entries on the days when it doesn't rain  \n",
    "  \n",
    "I am using one-tail p value.\n",
    "\n",
    "p_critical = 0.05  \n",
    "  \n",
    "I used Mann-Whitney u-test since the data was not normally distributed."
   ]
  },
  {
   "cell_type": "markdown",
   "metadata": {},
   "source": [
    "#### Calculation\n",
    "First we need to agregate *entries* and *rain* by days."
   ]
  },
  {
   "cell_type": "code",
   "execution_count": 1,
   "metadata": {
    "collapsed": false
   },
   "outputs": [],
   "source": [
    "import numpy as np\n",
    "import pandas\n",
    "import pandasql\n",
    "from sklearn.linear_model import SGDRegressor\n",
    "import scipy\n",
    "from ggplot import *\n",
    "%matplotlib inline \n",
    "\n",
    "pandas.set_option('display.max_columns', None)\n",
    "data = pandas.read_csv('data/weather.csv')\n",
    "#print data.iloc[0]"
   ]
  },
  {
   "cell_type": "code",
   "execution_count": 2,
   "metadata": {
    "collapsed": false
   },
   "outputs": [],
   "source": [
    "q = \"\"\"\n",
    "select UNIT, DATEn, max(rain) as rain, weekday, sum(ENTRIESn_hourly) as entries\n",
    "from data\n",
    "group by UNIT, DATEn\n",
    "\"\"\"\n",
    "\n",
    "daily_data = pandasql.sqldf(q, locals())"
   ]
  },
  {
   "cell_type": "markdown",
   "metadata": {},
   "source": [
    "Now we can compare entries on the days that rains vs. the ones that don't.  \n",
    "Also, we should compare only weekdays with themselves since ridership may vary for weekends."
   ]
  },
  {
   "cell_type": "code",
   "execution_count": 3,
   "metadata": {
    "collapsed": false
   },
   "outputs": [],
   "source": [
    "rains_weekday_data = daily_data['entries'][(daily_data.rain == 1) & (daily_data.weekday == 1)]\n",
    "no_rain_weekday_data = daily_data['entries'][(daily_data.rain == 0) & (daily_data.weekday == 1)]\n",
    "rains_weekend_data = daily_data['entries'][(daily_data.rain == 1) & (daily_data.weekday == 0)]\n",
    "no_rain_weekend_data = daily_data['entries'][(daily_data.rain == 0) & (daily_data.weekday == 0)]"
   ]
  },
  {
   "cell_type": "markdown",
   "metadata": {},
   "source": [
    "To detect which test we should use we first need to confirm or deny some assumptions we have about data.\n",
    "First we use Shapiro-Wilk test to see weather our data is normally distributed."
   ]
  },
  {
   "cell_type": "code",
   "execution_count": 4,
   "metadata": {
    "collapsed": false
   },
   "outputs": [
    {
     "name": "stdout",
     "output_type": "stream",
     "text": [
      "p = 0.0\n"
     ]
    },
    {
     "name": "stderr",
     "output_type": "stream",
     "text": [
      "/home/veich/installations/anaconda2/lib/python2.7/site-packages/scipy/stats/morestats.py:1082: UserWarning: p-value may not be accurate for N > 5000.\n",
      "  warnings.warn(\"p-value may not be accurate for N > 5000.\")\n"
     ]
    }
   ],
   "source": [
    "w,p = scipy.stats.shapiro(daily_data['entries'])\n",
    "print \"p = \" + str(p)"
   ]
  },
  {
   "cell_type": "markdown",
   "metadata": {},
   "source": [
    "Since p = 0.0 we can conclude that our data is not normally distributed."
   ]
  },
  {
   "cell_type": "code",
   "execution_count": 5,
   "metadata": {
    "collapsed": false
   },
   "outputs": [
    {
     "name": "stderr",
     "output_type": "stream",
     "text": [
      "stat_bin: binwidth defaulted to range/30.\n",
      "    Use 'binwidth = x' to adjust this.\n"
     ]
    },
    {
     "data": {
      "image/png": "[encoded data removed]",
      "text/plain": [
       "<matplotlib.figure.Figure at 0x7f9cf79cb0d0>"
      ]
     },
     "metadata": {},
     "output_type": "display_data"
    },
    {
     "data": {
      "text/plain": [
       "<ggplot: (8769509863589)>"
      ]
     },
     "execution_count": 5,
     "metadata": {},
     "output_type": "execute_result"
    }
   ],
   "source": [
    "ggplot(daily_data, aes(x=\"entries\")) + geom_histogram() + \\\n",
    "ggtitle(\"Hourly entries histogram\") + \\\n",
    "xlab('No. of entries')"
   ]
  },
  {
   "cell_type": "markdown",
   "metadata": {},
   "source": [
    "Because our data is not normally distributed Mann-Whitney u-test seems appropriate to compare data samples.  \n",
    "This test doesn't assume any particular probability distribution."
   ]
  },
  {
   "cell_type": "markdown",
   "metadata": {},
   "source": [
    "### Question 1.2\n",
    "Why is this statistical test applicable to the dataset? In particular, consider the assumptions that the test is making about the distribution of ridership in the two samples."
   ]
  },
  {
   "cell_type": "markdown",
   "metadata": {
    "collapsed": true
   },
   "source": [
    "#### Answer\n",
    "Mann-Whitney u-test doesn't assume any particular sample distribution which makes it suitable for this data set which is not normally distributed."
   ]
  },
  {
   "cell_type": "markdown",
   "metadata": {},
   "source": [
    "### Question 1.3\n",
    "What results did you get from this statistical test? These should include the following numerical values: p-values, as well as the means for each of the two samples under test."
   ]
  },
  {
   "cell_type": "code",
   "execution_count": 6,
   "metadata": {
    "collapsed": false
   },
   "outputs": [
    {
     "name": "stdout",
     "output_type": "stream",
     "text": [
      "p = 0.0496887782637\n",
      "entries_mean_weekday_rains_ridership = 12970.4450995\n",
      "entries_mean_weekday_no_rain_ridership = 12328.3840246\n"
     ]
    }
   ],
   "source": [
    "u,p = scipy.stats.mannwhitneyu(rains_weekday_data, no_rain_weekday_data)\n",
    "print 'p = ' + str(p)\n",
    "print \"entries_mean_weekday_rains_ridership = \" + str(np.mean(rains_weekday_data))\n",
    "print \"entries_mean_weekday_no_rain_ridership = \" + str(np.mean(no_rain_weekday_data))"
   ]
  },
  {
   "cell_type": "markdown",
   "metadata": {},
   "source": [
    "Calculated p value is less than our p_critical value (0.05) which means rain has significant impact on ridership on weekdays."
   ]
  },
  {
   "cell_type": "code",
   "execution_count": 7,
   "metadata": {
    "collapsed": false
   },
   "outputs": [
    {
     "name": "stdout",
     "output_type": "stream",
     "text": [
      "p = 0.0829950888061\n",
      "entries_mean_weekend_rains_ridership = 6193.14814815\n",
      "entries_mean_weekend_no_rain_ridership = 6939.72384035\n"
     ]
    }
   ],
   "source": [
    "u,p = scipy.stats.mannwhitneyu(rains_weekend_data, no_rain_weekend_data)\n",
    "print 'p = ' + str(p)\n",
    "print \"entries_mean_weekend_rains_ridership = \" + str(np.mean(rains_weekend_data))\n",
    "print \"entries_mean_weekend_no_rain_ridership = \" + str(np.mean(no_rain_weekend_data))"
   ]
  },
  {
   "cell_type": "markdown",
   "metadata": {},
   "source": [
    "p value in this test suggests that rain has no significant impact on subway ridership during the weekend."
   ]
  },
  {
   "cell_type": "code",
   "execution_count": 8,
   "metadata": {
    "collapsed": false
   },
   "outputs": [
    {
     "name": "stdout",
     "output_type": "stream",
     "text": [
      "p = 7.68162246312e-32\n",
      "entries_mean_weekday_rains_ridership = 12970.4450995\n",
      "entries_mean_weekend_rains_ridership = 6193.14814815\n",
      "p = 7.60085459706e-103\n",
      "entries_mean_weekday_no_rain_ridership = 12328.3840246\n",
      "entries_mean_weekend_no_rain_ridership = 6939.72384035\n"
     ]
    }
   ],
   "source": [
    "u,p = scipy.stats.mannwhitneyu(rains_weekday_data, rains_weekend_data)\n",
    "print 'p = ' + str(p)\n",
    "print \"entries_mean_weekday_rains_ridership = \" + str(np.mean(rains_weekday_data))\n",
    "print \"entries_mean_weekend_rains_ridership = \" + str(np.mean(rains_weekend_data))\n",
    "u,p = scipy.stats.mannwhitneyu(no_rain_weekend_data, no_rain_weekday_data)\n",
    "print 'p = ' + str(p)\n",
    "print \"entries_mean_weekday_no_rain_ridership = \" + str(np.mean(no_rain_weekday_data))\n",
    "print \"entries_mean_weekend_no_rain_ridership = \" + str(np.mean(no_rain_weekend_data))"
   ]
  },
  {
   "cell_type": "markdown",
   "metadata": {},
   "source": [
    "Calculated p values suggest weekday vs. weekend has significant impact on the subway ridership (accounted for the possible rain impact on the results)."
   ]
  },
  {
   "cell_type": "markdown",
   "metadata": {},
   "source": [
    "### Question 1.4\n",
    "What is the significance and interpretation of these results?"
   ]
  },
  {
   "cell_type": "markdown",
   "metadata": {
    "collapsed": true
   },
   "source": [
    "#### Answer\n",
    "Statistical significance of these results is 0.05"
   ]
  },
  {
   "cell_type": "markdown",
   "metadata": {},
   "source": [
    "## Section 2. Linear Regression"
   ]
  },
  {
   "cell_type": "markdown",
   "metadata": {},
   "source": [
    "### Question 2.1\n",
    "What approach did you use to compute the coefficients theta and produce prediction for ENTRIESn_hourly in your regression model:\n",
    "- OLS using Statsmodels or Scikit Learn\n",
    "- Gradient descent using Scikit Learn\n",
    "- Or something different?"
   ]
  },
  {
   "cell_type": "markdown",
   "metadata": {
    "collapsed": true
   },
   "source": [
    "#### Answer\n",
    "I used gradient descent from scikit learn."
   ]
  },
  {
   "cell_type": "markdown",
   "metadata": {},
   "source": [
    "### Question 2.2\n",
    "What features (input variables) did you use in your model? Did you use any dummy variables as part of your features?"
   ]
  },
  {
   "cell_type": "markdown",
   "metadata": {
    "collapsed": true
   },
   "source": [
    "#### Answer\n",
    "In my model I used the following variables:\n",
    "- rain\n",
    "- hour\n",
    "- weekday\n",
    "- fog\n",
    "- day_week\n",
    "\n",
    "I used *UNIT* dummy variable as part of my features"
   ]
  },
  {
   "cell_type": "markdown",
   "metadata": {},
   "source": [
    "#### Calculation"
   ]
  },
  {
   "cell_type": "code",
   "execution_count": 9,
   "metadata": {
    "collapsed": true
   },
   "outputs": [],
   "source": [
    "def linear_regression(features, values):\n",
    "    model = SGDRegressor()\n",
    "    model.fit(features, values)\n",
    "\n",
    "    intercept = model.intercept_\n",
    "    params = model.coef_\n",
    "    \n",
    "    return intercept, params"
   ]
  },
  {
   "cell_type": "code",
   "execution_count": 10,
   "metadata": {
    "collapsed": true
   },
   "outputs": [],
   "source": [
    "def normalize_features(features):\n",
    "    ''' \n",
    "    Returns the means and standard deviations of the given features, along with a normalized feature\n",
    "    matrix.\n",
    "    ''' \n",
    "    means = np.mean(features, axis=0)\n",
    "    std_devs = np.std(features, axis=0)\n",
    "    normalized_features = (features - means) / std_devs\n",
    "    \n",
    "    return means, std_devs, normalized_features"
   ]
  },
  {
   "cell_type": "code",
   "execution_count": 11,
   "metadata": {
    "collapsed": true
   },
   "outputs": [],
   "source": [
    "def recover_params(means, std_devs, norm_intercept, norm_params):\n",
    "    ''' \n",
    "    Recovers the weights for a linear model given parameters that were fitted using\n",
    "    normalized features. Takes the means and standard deviations of the original\n",
    "    features, along with the intercept and parameters computed using the normalized\n",
    "    features, and returns the intercept and parameters that correspond to the original\n",
    "    features.\n",
    "    ''' \n",
    "    intercept = norm_intercept - np.sum(means * norm_params / std_devs)\n",
    "    params = norm_params / std_devs\n",
    "    \n",
    "    return intercept, params"
   ]
  },
  {
   "cell_type": "code",
   "execution_count": 12,
   "metadata": {
    "collapsed": true
   },
   "outputs": [],
   "source": [
    "def compute_r_squared(data, predicted_data):\n",
    "    \n",
    "    y = data['ENTRIESn_hourly'].tolist()\n",
    "    avg_y = np.mean(y)\n",
    "    \n",
    "    \n",
    "    top_diff = y - predicted_data\n",
    "    top_diff_squared = top_diff * top_diff\n",
    "    top_total_sum = np.sum(top_diff_squared)\n",
    "    \n",
    "    bottom_diff = y - avg_y\n",
    "    bottom_diff_squared = bottom_diff * bottom_diff\n",
    "    bottom_total_sum = np.sum(bottom_diff_squared)\n",
    "    \n",
    "    r_squared = 1 - (top_total_sum / bottom_total_sum)\n",
    "    \n",
    "    \n",
    "    return r_squared"
   ]
  },
  {
   "cell_type": "code",
   "execution_count": 163,
   "metadata": {
    "collapsed": false
   },
   "outputs": [],
   "source": [
    "def predictions(dataframe): \n",
    "    \n",
    "    features = dataframe[['meantempi']]\n",
    "    \n",
    "    \n",
    "    dummy_units = pandas.get_dummies(dataframe['UNIT'], prefix='unit')\n",
    "    features = features.join(dummy_units)\n",
    "    dummy_units = pandas.get_dummies(dataframe['rain'], prefix='rain')\n",
    "    print dummy_units.iloc[0]\n",
    "    #features = features.join(dummy_units)\n",
    "    dummy_units = pandas.get_dummies(dataframe['day_week'], prefix='day_week')\n",
    "    features = features.join(dummy_units)\n",
    "    dummy_units = pandas.get_dummies(dataframe['hour'], prefix='hour')\n",
    "    features = features.join(dummy_units)\n",
    "    \n",
    "    \n",
    "    #print dummy_units\n",
    "    \n",
    "    # Values\n",
    "    values = dataframe['ENTRIESn_hourly']\n",
    "    \n",
    "    # Get numpy arrays\n",
    "    features_array = features.values\n",
    "    values_array = values.values\n",
    "    \n",
    "    means, std_devs, normalized_features_array = normalize_features(features_array)\n",
    "\n",
    "    # Perform gradient descent\n",
    "    norm_intercept, norm_params = linear_regression(normalized_features_array, values_array)\n",
    "    \n",
    "    intercept, params = recover_params(means, std_devs, norm_intercept, norm_params)\n",
    "    \n",
    "    predictions = intercept + np.dot(features_array, params)\n",
    "    # The following line would be equivalent:\n",
    "    # predictions = norm_intercept + np.dot(normalized_features_array, norm_params)\n",
    "    \n",
    "    global data_intercept\n",
    "    data_intercept = intercept\n",
    "    \n",
    "    global data_params\n",
    "    data_params = params\n",
    "    \n",
    "    return predictions"
   ]
  },
  {
   "cell_type": "code",
   "execution_count": 164,
   "metadata": {
    "collapsed": false
   },
   "outputs": [
    {
     "name": "stdout",
     "output_type": "stream",
     "text": [
      "rain_0.0    1\n",
      "rain_1.0    0\n",
      "Name: 0, dtype: float64\n",
      "r_squared: 0.524518911952\n",
      "UNIT                              R003\n",
      "DATEn                         05-01-11\n",
      "TIMEn                         00:00:00\n",
      "ENTRIESn                       4388333\n",
      "EXITSn                         2911002\n",
      "ENTRIESn_hourly                      0\n",
      "EXITSn_hourly                        0\n",
      "datetime           2011-05-01 00:00:00\n",
      "hour                                 0\n",
      "day_week                             6\n",
      "weekday                              0\n",
      "station                  CYPRESS HILLS\n",
      "latitude                      40.68995\n",
      "longitude                    -73.87256\n",
      "conds                            Clear\n",
      "fog                                  0\n",
      "precipi                              0\n",
      "pressurei                        30.22\n",
      "rain                                 0\n",
      "tempi                             55.9\n",
      "wspdi                              3.5\n",
      "meanprecipi                          0\n",
      "meanpressurei                   30.258\n",
      "meantempi                        55.98\n",
      "meanwspdi                         7.86\n",
      "weather_lat                   40.70035\n",
      "weather_lon                  -73.88718\n",
      "Name: 0, dtype: object\n"
     ]
    }
   ],
   "source": [
    "data_intercept = []\n",
    "data_params = []\n",
    "entries_predictions = predictions(data)\n",
    "\n",
    "r_squared = compute_r_squared(data, entries_predictions)\n",
    "print \"r_squared: \" + str(r_squared)\n",
    "print data.iloc[0]"
   ]
  },
  {
   "cell_type": "markdown",
   "metadata": {},
   "source": [
    "### Question 2.3\n",
    "Why did you select these features in your model? We are looking for specific reasons that lead you to believe that\n",
    "the selected features will contribute to the predictive power of your model.\n",
    "- Your reasons might be based on intuition. For example, response for fog might be: “I decided to use fog because I thought that when it is very foggy outside people might decide to use the subway more often.”\n",
    "- Your reasons might also be based on data exploration and experimentation, for example: “I used feature X because as soon as I included it in my model, it drastically improved my R2 value.”"
   ]
  },
  {
   "cell_type": "markdown",
   "metadata": {
    "collapsed": true
   },
   "source": [
    "#### Answer\n",
    "\n",
    "Feature selection was based both on data analysis and experimentation.  \n",
    "  \n",
    "Variables based on analysis:\n",
    "- rain\n",
    "- hour\n",
    "- weekday\n",
    "  \n",
    "Features based on experimentation and incresasing R^2 value:\n",
    "- fog\n",
    "- day_week\n"
   ]
  },
  {
   "cell_type": "markdown",
   "metadata": {},
   "source": [
    "### Question 2.4\n",
    "What are the parameters (also known as \"coefficients\" or \"weights\") of the non-dummy features in your linear regression model?"
   ]
  },
  {
   "cell_type": "code",
   "execution_count": 15,
   "metadata": {
    "collapsed": false
   },
   "outputs": [
    {
     "name": "stdout",
     "output_type": "stream",
     "text": [
      "intercept: \n",
      "[-564.9812189]\n",
      "params: \n",
      "[ -2.67040009e+01   1.21453177e+02   1.36573573e+03  -8.36769425e+02\n",
      "   9.48002850e+01  -1.71535700e+03  -1.15435487e+03  -1.25665582e+03\n",
      "  -1.54648968e+03  -1.23314203e+03  -1.51227506e+03  -1.73742179e+03\n",
      "   6.77453858e+03   7.70225132e+03   1.29860732e+03  -7.98356697e+02\n",
      "   3.87906848e+03   5.72761861e+03   4.30918394e+02   5.08288025e+03\n",
      "   1.13124865e+03   4.92861318e+03   4.75015363e+03   9.94183554e+02\n",
      "   3.31090786e+03   1.35387617e+03   2.67925230e+03   1.85954018e+03\n",
      "   2.00253185e+03   2.86639812e+03   6.85444556e+03  -8.53140961e+02\n",
      "   1.03941489e+03  -1.05066911e+03  -9.62087177e+02  -1.51169794e+03\n",
      "  -7.60539372e+02  -3.32199590e+02   2.03485844e+03  -1.09392788e+03\n",
      "   1.83105021e+03   3.74418477e+03   4.28317176e+03   1.64241710e+03\n",
      "   1.82461884e+03   3.66946463e+03  -6.11099234e+02   1.46147157e+03\n",
      "  -8.59428595e+02   6.11433879e+03  -4.93122414e+02   3.15693324e+03\n",
      "  -1.27339946e+03  -4.96778475e+02  -1.04398383e+03  -1.41993344e+03\n",
      "   1.07429302e+03  -9.25764325e+02  -1.06596255e+03  -6.73803495e+02\n",
      "  -1.26636516e+03  -1.17758674e+03  -1.77135522e+03  -2.27704184e+02\n",
      "  -4.27122565e+02   9.86789012e+02   1.90362420e+03  -3.61535207e+02\n",
      "   8.77652810e+02   9.37003144e+03   5.85751061e+02   8.30682528e+02\n",
      "  -6.08545343e+02  -1.12801750e+03  -1.27803437e+03  -6.97202212e+02\n",
      "   3.34804449e+02   4.18167383e+02   1.31064558e+02   3.11198583e+02\n",
      "   2.76680337e+02   1.86480675e+03  -5.96473565e+00   1.09011558e+03\n",
      "  -1.53538481e+03   6.74837387e+02   2.40816141e+03  -6.46126333e+02\n",
      "  -8.47994743e+02   1.66505242e+03  -6.81882597e+02  -1.09559648e+03\n",
      "   2.89878084e+03   4.03951858e+02  -3.24286530e+01  -4.44052771e+02\n",
      "  -4.03203403e+02   1.77811282e+03  -9.37706493e+02   1.86102983e+02\n",
      "  -3.96135043e+02  -5.06546019e+00   7.84815769e+02  -4.79789321e+01\n",
      "  -1.05182129e+03   2.83100487e+02   2.70236761e+03   3.32931806e+02\n",
      "   1.45280303e+03   1.38710603e+03  -2.48008522e+02   4.70422211e+03\n",
      "  -2.19401312e+02  -1.19627558e+03  -9.74045192e+02  -6.96722880e+02\n",
      "  -7.17134617e+01  -6.09425296e+02  -2.53543891e+02  -4.68804527e+02\n",
      "   3.03612301e+02  -7.57472956e+02  -9.66444176e+02   5.44785689e+00\n",
      "   1.45764743e+02  -7.95217315e+02  -5.85471892e+02   9.32488698e+02\n",
      "   9.96650153e+02  -5.64362876e+02  -1.28589015e+03   1.08658456e+03\n",
      "  -3.12081079e+02  -4.72235736e+02  -1.25401923e+03   1.82405641e+02\n",
      "  -1.16509382e+03  -8.28056984e+02   3.69805491e+02  -7.13442950e+02\n",
      "  -4.28046056e+02  -6.59446439e+02   6.98767221e+02  -1.01803017e+03\n",
      "  -1.10942668e+03  -1.09784696e+03  -5.34656268e+02  -6.92866814e+02\n",
      "  -1.19258597e+03  -1.07803909e+03  -2.71044272e+02  -8.37259419e+02\n",
      "  -1.16052261e+02  -1.26590748e+03   9.65509032e+02  -1.91255544e+02\n",
      "  -1.12861610e+03   8.90888984e+02  -8.22177599e+02   9.93478840e+02\n",
      "  -1.17660940e+03  -2.11088067e+02  -5.11135236e+02  -1.12160147e+03\n",
      "  -1.36999808e+03   1.15172599e+03  -7.41836776e+02  -8.36913930e+02\n",
      "  -5.89524573e+02  -9.04195190e+02  -7.28427795e+02   3.82877801e+02\n",
      "  -9.19053937e+02  -9.84394488e+02  -3.17579305e+02  -4.21289546e+02\n",
      "  -8.33258100e+02  -9.33699727e+02  -5.28030700e+02  -1.44911284e+03\n",
      "  -1.54283271e+03  -1.37824038e+03  -8.68088336e+02  -9.92357228e+02\n",
      "  -8.65349049e+02  -1.50282510e+03  -1.54319437e+03  -1.65689448e+02\n",
      "  -1.21078019e+03  -1.00978602e+03  -9.50096826e+02  -1.02205132e+03\n",
      "  -1.42276982e+03  -9.36840161e+02  -9.59772576e+02  -3.19634463e+02\n",
      "  -1.03040686e+02  -8.39519742e+02  -1.06660581e+03  -1.46303317e+03\n",
      "  -3.69243949e+02  -8.26390251e+02  -9.55194895e+02   3.27261029e+02\n",
      "  -1.51735593e+02  -7.94620729e+02  -1.46984609e+03  -1.28414208e+03\n",
      "  -1.36073313e+03  -2.42682580e+02  -1.33994549e+03  -1.52189367e+03\n",
      "  -1.91120534e+03  -1.37318448e+03  -2.27644897e+02  -9.34982745e+02\n",
      "   1.53188236e+02  -7.12045823e+02  -1.58193245e+03  -9.34663333e+02\n",
      "  -1.47925775e+03  -1.98210089e+03  -1.85452589e+03  -1.62537119e+03\n",
      "  -1.16942698e+03  -1.18787858e+03  -1.34595916e+03  -4.71985843e+02\n",
      "  -1.42881232e+03  -1.88884587e+03  -7.68026363e+02  -1.25679357e+03\n",
      "  -1.06182460e+03  -1.36471600e+03  -1.07202739e+03  -1.05737657e+03\n",
      "  -9.46823023e+02  -1.32788514e+03  -9.06009687e+02  -4.51006859e+02\n",
      "  -2.17363475e+03  -1.69030827e+03  -1.68413787e+03  -1.10984895e+03\n",
      "  -1.78242188e+03]\n"
     ]
    }
   ],
   "source": [
    "print 'intercept: '\n",
    "print data_intercept\n",
    "print 'params: '\n",
    "print data_params"
   ]
  },
  {
   "cell_type": "markdown",
   "metadata": {},
   "source": [
    "### Question 2.5\n",
    "What is your model’s R2 (coefficients of determination) value?"
   ]
  },
  {
   "cell_type": "markdown",
   "metadata": {},
   "source": [
    "#### Answer"
   ]
  },
  {
   "cell_type": "code",
   "execution_count": 16,
   "metadata": {
    "collapsed": false
   },
   "outputs": [
    {
     "name": "stdout",
     "output_type": "stream",
     "text": [
      "R2 coefficient: 0.457751725503\n"
     ]
    }
   ],
   "source": [
    "print \"R2 coefficient: \" + str(r_squared)"
   ]
  },
  {
   "cell_type": "markdown",
   "metadata": {},
   "source": [
    "### Question 2.6\n",
    "What does this R2 value mean for the goodness of fit for your regression model? Do you think this linear model to predict ridership is appropriate for this dataset, given this R2  value?"
   ]
  },
  {
   "cell_type": "markdown",
   "metadata": {},
   "source": [
    "#### Answer\n",
    "This R^2 value is not very bad but there is a lot of room for improvement.  \n",
    "I think that this linear model is not very appropriate for this dataset, and that some other non-linear model might be better."
   ]
  },
  {
   "cell_type": "markdown",
   "metadata": {},
   "source": [
    "## Section 3. Visualization"
   ]
  },
  {
   "cell_type": "markdown",
   "metadata": {},
   "source": [
    "Please include two visualizations that show the relationships between two or more variables in the NYC subway data.\n",
    "Remember to add appropriate titles and axes labels to your plots. Also, please add a short description below each figure commenting on the key insights depicted in the figure."
   ]
  },
  {
   "cell_type": "markdown",
   "metadata": {},
   "source": [
    "### Question 3.1\n",
    "One visualization should contain two histograms: one of  ENTRIESn_hourly for rainy days and one of ENTRIESn_hourly for non-rainy days.\n",
    "- You can combine the two histograms in a single plot or you can use two separate plots.\n",
    "- If you decide to use to two separate plots for the two histograms, please ensure that the x-axis limits for both of the plots are identical. It is much easier to compare the two in that case.\n",
    "- For the histograms, you should have intervals representing the volume of ridership (value of ENTRIESn_hourly) on the x-axis and the frequency of occurrence on the y-axis. For example, each interval (along the x-axis), the height of the bar for this interval will represent the number of records (rows in our data) that have ENTRIESn_hourly that falls in this interval.\n",
    "- Remember to increase the number of bins in the histogram (by having larger number of bars). The default bin width is not sufficient to capture the variability in the two samples."
   ]
  },
  {
   "cell_type": "markdown",
   "metadata": {},
   "source": [
    "#### Answer"
   ]
  },
  {
   "cell_type": "code",
   "execution_count": 17,
   "metadata": {
    "collapsed": false
   },
   "outputs": [
    {
     "name": "stderr",
     "output_type": "stream",
     "text": [
      "/home/veich/installations/anaconda2/lib/python2.7/site-packages/ggplot/geoms/geom_bar.py:47: FutureWarning: comparison to `None` will result in an elementwise object comparison in the future.\n",
      "  _reset = self.bottom == None or (self.ax != None and self.ax != ax)\n"
     ]
    },
    {
     "data": {
      "image/png": "[encoded data removed]",
      "text/plain": [
       "<matplotlib.figure.Figure at 0x7f9cf8530990>"
      ]
     },
     "metadata": {},
     "output_type": "display_data"
    },
    {
     "data": {
      "text/plain": [
       "<ggplot: (8769508634237)>"
      ]
     },
     "execution_count": 17,
     "metadata": {},
     "output_type": "execute_result"
    }
   ],
   "source": [
    "ggplot(data[data['ENTRIESn_hourly'] < 10000], aes(x=\"ENTRIESn_hourly\", fill=\"rain\")) + geom_histogram(binwidth=200) + \\\n",
    "ggtitle(\"Histogram containing entries for rainy (blue) and non-rainy days (red)\") + \\\n",
    "xlab('No. of entries')"
   ]
  },
  {
   "cell_type": "markdown",
   "metadata": {},
   "source": [
    "### Question 3.2\n",
    "One visualization can be more freeform. You should feel free to implement something that we discussed in class (e.g., scatter plots, line plots) or attempt to implement something more advanced if you'd like. Some suggestions are:\n",
    "- Ridership by time-of-day\n",
    "- Ridership by day-of-week"
   ]
  },
  {
   "cell_type": "markdown",
   "metadata": {},
   "source": [
    "#### Answer"
   ]
  },
  {
   "cell_type": "code",
   "execution_count": 18,
   "metadata": {
    "collapsed": false
   },
   "outputs": [
    {
     "data": {
      "image/png": "[encoded data removed]",
      "text/plain": [
       "<matplotlib.figure.Figure at 0x7f9cf7f6e510>"
      ]
     },
     "metadata": {},
     "output_type": "display_data"
    },
    {
     "data": {
      "text/plain": [
       "<ggplot: (8769509486265)>"
      ]
     },
     "execution_count": 18,
     "metadata": {},
     "output_type": "execute_result"
    }
   ],
   "source": [
    "q = \"\"\"\n",
    "select day_week, avg(ENTRIESn_hourly) as entries\n",
    "from data\n",
    "group by day_week\n",
    "\"\"\"\n",
    "\n",
    "day_of_week_data = pandasql.sqldf(q, locals())\n",
    "\n",
    "ggplot(day_of_week_data, aes(\"day_week\", \"entries\")) + geom_bar(stat=\"bar\", fill=\"blue\") + \\\n",
    "ggtitle('Average ridership by day of the week') + \\\n",
    "ylab('No. of entries') + xlab('Monday through Sunday')"
   ]
  },
  {
   "cell_type": "code",
   "execution_count": 19,
   "metadata": {
    "collapsed": false
   },
   "outputs": [
    {
     "name": "stderr",
     "output_type": "stream",
     "text": [
      "/home/veich/installations/anaconda2/lib/python2.7/site-packages/matplotlib/collections.py:590: FutureWarning: elementwise comparison failed; returning scalar instead, but in the future will perform elementwise comparison\n",
      "  if self._edgecolors == str('face'):\n"
     ]
    },
    {
     "data": {
      "image/png": "[encoded data removed]",
      "text/plain": [
       "<matplotlib.figure.Figure at 0x7f9cf7d0a910>"
      ]
     },
     "metadata": {},
     "output_type": "display_data"
    },
    {
     "data": {
      "text/plain": [
       "<ggplot: (8769508744365)>"
      ]
     },
     "execution_count": 19,
     "metadata": {},
     "output_type": "execute_result"
    }
   ],
   "source": [
    "q = \"\"\"\n",
    "select hour, avg(ENTRIESn_hourly) as entries\n",
    "from data\n",
    "group by hour\n",
    "\"\"\"\n",
    "\n",
    "time_of_day_data = pandasql.sqldf(q, locals())\n",
    "\n",
    "ggplot(time_of_day_data, aes(\"hour\", \"entries\")) + geom_line(color=\"blue\") + stat_smooth(color=\"gray\", size=\"3\") + \\\n",
    "ggtitle('Average ridership by time of day') + \\\n",
    "xlab(\"Time of day\") + ylab('No. of entries')"
   ]
  },
  {
   "cell_type": "code",
   "execution_count": 20,
   "metadata": {
    "collapsed": false
   },
   "outputs": [
    {
     "data": {
      "image/png": "[encoded data removed]",
      "text/plain": [
       "<matplotlib.figure.Figure at 0x7f9cf724b150>"
      ]
     },
     "metadata": {},
     "output_type": "display_data"
    },
    {
     "data": {
      "text/plain": [
       "<ggplot: (8769509541265)>"
      ]
     },
     "execution_count": 20,
     "metadata": {},
     "output_type": "execute_result"
    }
   ],
   "source": [
    "q = \"\"\"\n",
    "select rain, day_week, avg(ENTRIESn_hourly) as entries\n",
    "from data\n",
    "group by day_week, rain\n",
    "\"\"\"\n",
    "\n",
    "rain_data = pandasql.sqldf(q, locals())\n",
    "\n",
    "ggplot(rain_data, aes('day_week', 'entries', color='rain')) + geom_line() + geom_point() + \\\n",
    "ggtitle(\"Comparing daily ridership when it rains (blue) and when it's not (red)\") + \\\n",
    "ylab('No. of entries') + xlab('Monday through Sunday')"
   ]
  },
  {
   "cell_type": "markdown",
   "metadata": {},
   "source": [
    "## Section 4. Conclusion"
   ]
  },
  {
   "cell_type": "markdown",
   "metadata": {},
   "source": [
    "Please address the following questions in detail. Your answers should be 1-2 paragraphs long."
   ]
  },
  {
   "cell_type": "markdown",
   "metadata": {},
   "source": [
    "### Question 4.1\n",
    "From your analysis and interpretation of the data, do more people ride the NYC subway when it is raining or when it is not raining?"
   ]
  },
  {
   "cell_type": "markdown",
   "metadata": {},
   "source": [
    "#### Answer\n",
    "Based on my analysis more people ride NYC when it's raining.  \n",
    "We can see this especially during the weekday.  \n",
    "  \n",
    "On weekend there is no significant change in ridership although we can see that the ridership median is actually lower on the days when it rains."
   ]
  },
  {
   "cell_type": "markdown",
   "metadata": {},
   "source": [
    "### Question 4.2\n",
    "What analyses lead you to this conclusion? You should use results from both your statistical tests and your linear regression to support your analysis."
   ]
  },
  {
   "cell_type": "markdown",
   "metadata": {
    "collapsed": true
   },
   "source": [
    "#### Answer\n",
    "First thing that led me to this conclusion was Mann-Whitney u-test I performed on the dataset.\n",
    "This test returned p value which was less than p_critical and this led me to conclusion that rain does have significant influence on the ridership.\n",
    "\n",
    "Secondly, when performing linear regression nad calculating R^2 - result accuracy increased when including *rain* feature into the model.  \n",
    "From this conclude that there is correlation between rain and the ridership."
   ]
  },
  {
   "cell_type": "markdown",
   "metadata": {},
   "source": [
    "## Section 5. Reflection"
   ]
  },
  {
   "cell_type": "markdown",
   "metadata": {},
   "source": [
    "Please address the following questions in detail. Your answers should be 1-2 paragraphs long."
   ]
  },
  {
   "cell_type": "markdown",
   "metadata": {},
   "source": [
    "### Question 5.1\n",
    "Please discuss potential shortcomings of the methods of your analysis, including:\n",
    "- Dataset,\n",
    "- Analysis, such as the linear regression model or statistical test."
   ]
  },
  {
   "cell_type": "markdown",
   "metadata": {
    "collapsed": true
   },
   "source": [
    "#### Answer\n",
    "Dataset:\n",
    "- dataset covers only the month of May - other months can have different riderships\n",
    "- dataset covers only one year - this may not be representative enough for every year\n",
    "  \n",
    "Analysis:\n",
    "- we assume that the right approximation of our model is linear (hence the linear regression) when that doesn't need to be true\n",
    "- R^2 value suggests that we didn't get particularly precise model"
   ]
  },
  {
   "cell_type": "markdown",
   "metadata": {},
   "source": [
    "### Question 5.2\n",
    "(Optional) Do you have any other insight about the dataset that you would like to share with us?"
   ]
  },
  {
   "cell_type": "markdown",
   "metadata": {
    "collapsed": true
   },
   "source": [
    "#### Answer\n",
    "There are many datapoints with ridership equal to zero for entire day which is perhaps only data missing and not ridership zero"
   ]
  }
 ],
 "metadata": {
  "kernelspec": {
   "display_name": "Python 2",
   "language": "python",
   "name": "python2"
  },
  "language_info": {
   "codemirror_mode": {
    "name": "ipython",
    "version": 2
   },
   "file_extension": ".py",
   "mimetype": "text/x-python",
   "name": "python",
   "nbconvert_exporter": "python",
   "pygments_lexer": "ipython2",
   "version": "2.7.11"
  }
 },
 "nbformat": 4,
 "nbformat_minor": 0
}
