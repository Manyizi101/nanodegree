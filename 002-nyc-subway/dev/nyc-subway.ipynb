{
 "cells": [
  {
   "cell_type": "markdown",
   "metadata": {},
   "source": [
    "# NYC Subway Dataset Analysis"
   ]
  },
  {
   "cell_type": "markdown",
   "metadata": {},
   "source": [
    "## Assignment"
   ]
  },
  {
   "cell_type": "markdown",
   "metadata": {},
   "source": [
    "Purpose of this assignment is to analyze subway ridership dataset and see if external elements like rain significantly influence the number of passengers.  \n",
    "Also, we need to predict number of passengers based on parameters we previously analyzed."
   ]
  },
  {
   "cell_type": "markdown",
   "metadata": {},
   "source": [
    "## Disclaimers"
   ]
  },
  {
   "cell_type": "markdown",
   "metadata": {},
   "source": [
    "Part of the this assigment are also questions in Problem Sets 2, 3, and 4 in the Introduction to Data Science course.  \n",
    "I have resolved all of those.  \n",
    "On couple of them, server would return some unrelated errors and my submission would fail even though I did get required plots.  \n",
    "This only happens when dealing with ggplot."
   ]
  },
  {
   "cell_type": "markdown",
   "metadata": {},
   "source": [
    "## Loading Data and Defining Functions"
   ]
  },
  {
   "cell_type": "markdown",
   "metadata": {},
   "source": [
    "## Section 0. References"
   ]
  },
  {
   "cell_type": "markdown",
   "metadata": {},
   "source": [
    "1. Udacity \"Intro to Data Science\" videos\n",
    "2. pandas, numpy, sklearn, ggplot documentation\n",
    "3. http://matplotlib.org/users/pyplot_tutorial.html\n",
    "4. http://matplotlib.org/examples/api/barchart_demo.html\n",
    "5. https://www.youtube.com/watch?v=pHrwqLhAaMw"
   ]
  },
  {
   "cell_type": "markdown",
   "metadata": {},
   "source": [
    "## Section 1. Statistical Test"
   ]
  },
  {
   "cell_type": "markdown",
   "metadata": {},
   "source": [
    "### Question 1.1\n",
    "Which statistical test did you use to analyze the NYC subway data? Did you use a one-tail or a two-tail P value? What is the null hypothesis? What is your p-critical value?"
   ]
  },
  {
   "cell_type": "markdown",
   "metadata": {
    "collapsed": true
   },
   "source": [
    "#### Answer\n",
    "**H0: µ_entries_rain = µ_entries_no_rain**  \n",
    "Mean of entries on the days it rains is the same as the mean of entries on the days when it doesn't rain  \n",
    "**H1: µ_entries_rain ≠ µ_entries_no_rain**  \n",
    "Mean of entries on the days it rains is different than the mean of entries on the days when it doesn't rain  \n",
    "  \n",
    "I am using one-tail p value.\n",
    "\n",
    "p_critical = 0.05  \n",
    "  \n",
    "I used Mann-Whitney u-test since the data was not normally distributed."
   ]
  },
  {
   "cell_type": "markdown",
   "metadata": {},
   "source": [
    "#### Calculation\n",
    "First we need to agregate *entries* and *rain* by days."
   ]
  },
  {
   "cell_type": "code",
   "execution_count": 152,
   "metadata": {
    "collapsed": false
   },
   "outputs": [
    {
     "name": "stdout",
     "output_type": "stream",
     "text": [
      "UNIT                              R003\n",
      "DATEn                         05-01-11\n",
      "TIMEn                         00:00:00\n",
      "ENTRIESn                       4388333\n",
      "EXITSn                         2911002\n",
      "ENTRIESn_hourly                      0\n",
      "EXITSn_hourly                        0\n",
      "datetime           2011-05-01 00:00:00\n",
      "hour                                 0\n",
      "day_week                             6\n",
      "weekday                              0\n",
      "station                  CYPRESS HILLS\n",
      "latitude                      40.68995\n",
      "longitude                    -73.87256\n",
      "conds                            Clear\n",
      "fog                                  0\n",
      "precipi                              0\n",
      "pressurei                        30.22\n",
      "rain                                 0\n",
      "tempi                             55.9\n",
      "wspdi                              3.5\n",
      "meanprecipi                          0\n",
      "meanpressurei                   30.258\n",
      "meantempi                        55.98\n",
      "meanwspdi                         7.86\n",
      "weather_lat                   40.70035\n",
      "weather_lon                  -73.88718\n",
      "Name: 0, dtype: object\n"
     ]
    }
   ],
   "source": [
    "import numpy as np\n",
    "import pandas\n",
    "import pandasql\n",
    "from sklearn.linear_model import SGDRegressor\n",
    "import scipy\n",
    "from ggplot import *\n",
    "%matplotlib inline \n",
    "\n",
    "pandas.set_option('display.max_columns', None)\n",
    "data = pandas.read_csv('data/weather.csv')\n",
    "print data.iloc[0]\n",
    "\n",
    "##ggplot(data, aes(x=\"ENTRIESn\")) + geom_histogram() #+ facet_wrap(\"hour\")"
   ]
  },
  {
   "cell_type": "code",
   "execution_count": 187,
   "metadata": {
    "collapsed": false
   },
   "outputs": [],
   "source": [
    "q = \"\"\"\n",
    "select UNIT, DATEn, max(rain) as rain, weekday, sum(ENTRIESn_hourly) as entries\n",
    "from data\n",
    "group by UNIT, DATEn\n",
    "\"\"\"\n",
    "\n",
    "daily_data = pandasql.sqldf(q, locals())\n",
    "\n",
    "#print len(daily_data['UNIT'].unique())\n",
    "#print daily_data"
   ]
  },
  {
   "cell_type": "markdown",
   "metadata": {},
   "source": [
    "Now we can compare entries on the days that rains vs. the ones that don't.  \n",
    "Also, we should compare only weekdays with themselves since ridership may vary for weekends."
   ]
  },
  {
   "cell_type": "code",
   "execution_count": 174,
   "metadata": {
    "collapsed": false
   },
   "outputs": [],
   "source": [
    "rains_weekday_data = daily_data['entries'][(daily_data.rain == 1) & (daily_data.weekday == 1)]\n",
    "no_rain_weekday_data = daily_data['entries'][(daily_data.rain == 0) & (daily_data.weekday == 1)]\n",
    "rains_weekend_data = daily_data['entries'][(daily_data.rain == 1) & (daily_data.weekday == 0)]\n",
    "no_rain_weekend_data = daily_data['entries'][(daily_data.rain == 0) & (daily_data.weekday == 0)]"
   ]
  },
  {
   "cell_type": "markdown",
   "metadata": {},
   "source": [
    "To detect which test we should use we first need to confirm or deny some assumptions we have about data.\n",
    "First we use Shapiro-Wilk test to see weather our data is normally distributed."
   ]
  },
  {
   "cell_type": "code",
   "execution_count": 175,
   "metadata": {
    "collapsed": false
   },
   "outputs": [
    {
     "name": "stdout",
     "output_type": "stream",
     "text": [
      "p = 0.0\n"
     ]
    },
    {
     "name": "stderr",
     "output_type": "stream",
     "text": [
      "/home/veich/installations/anaconda2/lib/python2.7/site-packages/scipy/stats/morestats.py:1082: UserWarning: p-value may not be accurate for N > 5000.\n",
      "  warnings.warn(\"p-value may not be accurate for N > 5000.\")\n"
     ]
    }
   ],
   "source": [
    "w,p = scipy.stats.shapiro(daily_data['entries'])\n",
    "print \"p = \" + str(p)"
   ]
  },
  {
   "cell_type": "markdown",
   "metadata": {},
   "source": [
    "We cannot use shapito test due to too large sample size.\n",
    "But, since we have large enough data sample we can see from the histogram below that our data is not normally distributed."
   ]
  },
  {
   "cell_type": "code",
   "execution_count": 176,
   "metadata": {
    "collapsed": false
   },
   "outputs": [
    {
     "data": {
      "image/png": "[encoded data removed]",
      "text/plain": [
       "<matplotlib.figure.Figure at 0x7f0d348a8c90>"
      ]
     },
     "metadata": {},
     "output_type": "display_data"
    },
    {
     "data": {
      "text/plain": [
       "<ggplot: (8730947844153)>"
      ]
     },
     "execution_count": 176,
     "metadata": {},
     "output_type": "execute_result"
    }
   ],
   "source": [
    "ggplot(daily_data, aes(x=\"entries\")) + geom_histogram()"
   ]
  },
  {
   "cell_type": "markdown",
   "metadata": {},
   "source": [
    "Because our data is not normally distributed Mann-Whitney u-test seems appropriate to compare data samples.  \n",
    "This test doesn't assume any particular probability distribution."
   ]
  },
  {
   "cell_type": "markdown",
   "metadata": {},
   "source": [
    "### Question 1.2\n",
    "Why is this statistical test applicable to the dataset? In particular, consider the assumptions that the test is making about the distribution of ridership in the two samples."
   ]
  },
  {
   "cell_type": "markdown",
   "metadata": {
    "collapsed": true
   },
   "source": [
    "#### Answer\n",
    "Mann-Whitney u-test doesn't assume any particular sample distribution which makes it suitable for this data set which is not normally distributed."
   ]
  },
  {
   "cell_type": "markdown",
   "metadata": {},
   "source": [
    "### Question 1.3\n",
    "What results did you get from this statistical test? These should include the following numerical values: p-values, as well as the means for each of the two samples under test."
   ]
  },
  {
   "cell_type": "code",
   "execution_count": 188,
   "metadata": {
    "collapsed": true
   },
   "outputs": [],
   "source": [
    "#rains_weekday_data\n",
    "#no_rain_weekday_data\n",
    "#rains_weekend_data\n",
    "#no_rain_weekend_data"
   ]
  },
  {
   "cell_type": "code",
   "execution_count": 197,
   "metadata": {
    "collapsed": false
   },
   "outputs": [
    {
     "name": "stdout",
     "output_type": "stream",
     "text": [
      "p = 0.0496887782637\n",
      "entries_mean_weekday_rains_ridership = 12970.4450995\n",
      "entries_mean_weekday_no_rain_ridership = 12328.3840246\n"
     ]
    }
   ],
   "source": [
    "u,p = scipy.stats.mannwhitneyu(rains_weekday_data, no_rain_weekday_data)\n",
    "print 'p = ' + str(p)\n",
    "print \"entries_mean_weekday_rains_ridership = \" + str(np.mean(rains_weekday_data))\n",
    "print \"entries_mean_weekday_no_rain_ridership = \" + str(np.mean(no_rain_weekday_data))"
   ]
  },
  {
   "cell_type": "markdown",
   "metadata": {},
   "source": [
    "Calculated p value is less than our p_critical value (0.05) which means rain has significant impact on ridership on weekdays."
   ]
  },
  {
   "cell_type": "code",
   "execution_count": 198,
   "metadata": {
    "collapsed": false
   },
   "outputs": [
    {
     "name": "stdout",
     "output_type": "stream",
     "text": [
      "p = 0.0829950888061\n",
      "entries_mean_weekend_rains_ridership = 6193.14814815\n",
      "entries_mean_weekend_no_rain_ridership = 6939.72384035\n"
     ]
    }
   ],
   "source": [
    "u,p = scipy.stats.mannwhitneyu(rains_weekend_data, no_rain_weekend_data)\n",
    "print 'p = ' + str(p)\n",
    "print \"entries_mean_weekend_rains_ridership = \" + str(np.mean(rains_weekend_data))\n",
    "print \"entries_mean_weekend_no_rain_ridership = \" + str(np.mean(no_rain_weekend_data))"
   ]
  },
  {
   "cell_type": "markdown",
   "metadata": {},
   "source": [
    "p value in this test suggests that rain has no significant impact on subway ridership during the weekend."
   ]
  },
  {
   "cell_type": "code",
   "execution_count": 200,
   "metadata": {
    "collapsed": false
   },
   "outputs": [
    {
     "name": "stdout",
     "output_type": "stream",
     "text": [
      "p = 7.68162246312e-32\n",
      "entries_mean_weekday_rains_ridership = 12970.4450995\n",
      "entries_mean_weekend_rains_ridership = 6193.14814815\n",
      "p = 7.60085459706e-103\n",
      "entries_mean_weekday_no_rain_ridership = 12328.3840246\n",
      "entries_mean_weekend_no_rain_ridership = 6939.72384035\n"
     ]
    }
   ],
   "source": [
    "u,p = scipy.stats.mannwhitneyu(rains_weekday_data, rains_weekend_data)\n",
    "print 'p = ' + str(p)\n",
    "print \"entries_mean_weekday_rains_ridership = \" + str(np.mean(rains_weekday_data))\n",
    "print \"entries_mean_weekend_rains_ridership = \" + str(np.mean(rains_weekend_data))\n",
    "u,p = scipy.stats.mannwhitneyu(no_rain_weekend_data, no_rain_weekday_data)\n",
    "print 'p = ' + str(p)\n",
    "print \"entries_mean_weekday_no_rain_ridership = \" + str(np.mean(no_rain_weekday_data))\n",
    "print \"entries_mean_weekend_no_rain_ridership = \" + str(np.mean(no_rain_weekend_data))"
   ]
  },
  {
   "cell_type": "markdown",
   "metadata": {},
   "source": [
    "Calculated p values suggest weekday vs. weekend has significant impact on the subway ridership (accounted for the possible rain impact on the results)."
   ]
  },
  {
   "cell_type": "markdown",
   "metadata": {},
   "source": [
    "### Question 1.4\n",
    "What is the significance and interpretation of these results?"
   ]
  },
  {
   "cell_type": "markdown",
   "metadata": {
    "collapsed": true
   },
   "source": [
    "#### Answer\n",
    "Statistical significance of these results is 0.05"
   ]
  },
  {
   "cell_type": "markdown",
   "metadata": {},
   "source": [
    "## Section 2. Linear Regression"
   ]
  },
  {
   "cell_type": "markdown",
   "metadata": {},
   "source": [
    "### Question 2.1\n",
    "What approach did you use to compute the coefficients theta and produce prediction for ENTRIESn_hourly in your regression model:\n",
    "- OLS using Statsmodels or Scikit Learn\n",
    "- Gradient descent using Scikit Learn\n",
    "- Or something different?"
   ]
  },
  {
   "cell_type": "markdown",
   "metadata": {
    "collapsed": true
   },
   "source": [
    "#### Answer\n",
    "I used gradient descent from scikit learn."
   ]
  },
  {
   "cell_type": "markdown",
   "metadata": {},
   "source": [
    "### Question 2.2\n",
    "What features (input variables) did you use in your model? Did you use any dummy variables as part of your features?"
   ]
  },
  {
   "cell_type": "markdown",
   "metadata": {
    "collapsed": true
   },
   "source": [
    "#### Answer\n",
    "In my model I used the following variables:\n",
    "- ENTRIESn_hourly\n",
    "- rain\n",
    "- weekend\n",
    "\n",
    "I didn't use dummy variables."
   ]
  },
  {
   "cell_type": "markdown",
   "metadata": {},
   "source": [
    "#### Calculation"
   ]
  },
  {
   "cell_type": "code",
   "execution_count": 6,
   "metadata": {
    "collapsed": true
   },
   "outputs": [],
   "source": [
    "def linear_regression(features, values):\n",
    "    model = SGDRegressor()\n",
    "    model.fit(features, values)\n",
    "\n",
    "    intercept = model.intercept_\n",
    "    params = model.coef_\n",
    "    \n",
    "    return intercept, params"
   ]
  },
  {
   "cell_type": "code",
   "execution_count": 7,
   "metadata": {
    "collapsed": true
   },
   "outputs": [],
   "source": [
    "def normalize_features(features):\n",
    "    ''' \n",
    "    Returns the means and standard deviations of the given features, along with a normalized feature\n",
    "    matrix.\n",
    "    ''' \n",
    "    means = np.mean(features, axis=0)\n",
    "    std_devs = np.std(features, axis=0)\n",
    "    normalized_features = (features - means) / std_devs\n",
    "    \n",
    "    return means, std_devs, normalized_features"
   ]
  },
  {
   "cell_type": "code",
   "execution_count": 8,
   "metadata": {
    "collapsed": true
   },
   "outputs": [],
   "source": [
    "def recover_params(means, std_devs, norm_intercept, norm_params):\n",
    "    ''' \n",
    "    Recovers the weights for a linear model given parameters that were fitted using\n",
    "    normalized features. Takes the means and standard deviations of the original\n",
    "    features, along with the intercept and parameters computed using the normalized\n",
    "    features, and returns the intercept and parameters that correspond to the original\n",
    "    features.\n",
    "    ''' \n",
    "    intercept = norm_intercept - np.sum(means * norm_params / std_devs)\n",
    "    params = norm_params / std_devs\n",
    "    \n",
    "    return intercept, params"
   ]
  },
  {
   "cell_type": "code",
   "execution_count": 10,
   "metadata": {
    "collapsed": true
   },
   "outputs": [],
   "source": [
    "def check_normal_distribution(data):\n",
    "    w,p = scipy.stats.shapiro(data)\n",
    "    print stats\n",
    "    if p <= 0.025:\n",
    "        return Flase\n",
    "    else:\n",
    "        return True\n",
    "        "
   ]
  },
  {
   "cell_type": "code",
   "execution_count": 11,
   "metadata": {
    "collapsed": true
   },
   "outputs": [],
   "source": [
    "def filter_data_by_hour(data):\n",
    "    entries = []\n",
    "    hours = []\n",
    "\n",
    "    midnight_value = 0\n",
    "    for i in range(24):\n",
    "        entry_sum = np.sum(data[\"ENTRIESn_hourly\"][data.hour == i])\n",
    "        if entry_sum > 0:\n",
    "\n",
    "            if i == 0:\n",
    "                entries.append(entry_sum)\n",
    "                hours.append(24)\n",
    "            else:\n",
    "                entries.insert(i/4-1,entry_sum)\n",
    "                hours.insert(i/4-1, i)\n",
    "        i = i + 1;\n",
    "\n",
    "    filtered_dict = {\"hour\":hours, \"entries\":entries}\n",
    "    filtered_data = pandas.DataFrame(filtered_dict)\n",
    "    \n",
    "    return filtered_data"
   ]
  },
  {
   "cell_type": "code",
   "execution_count": 12,
   "metadata": {
    "collapsed": false
   },
   "outputs": [
    {
     "name": "stdout",
     "output_type": "stream",
     "text": [
      "['Clear' 'Partly Cloudy' 'Mostly Cloudy' 'Overcast' 'Light Rain'\n",
      " 'Scattered Clouds' 'Rain' 'Light Drizzle' 'Haze' 'Heavy Rain' 'Fog' 'Mist']\n"
     ]
    }
   ],
   "source": [
    "print data[\"conds\"].unique()"
   ]
  },
  {
   "cell_type": "code",
   "execution_count": null,
   "metadata": {
    "collapsed": true
   },
   "outputs": [],
   "source": []
  },
  {
   "cell_type": "code",
   "execution_count": null,
   "metadata": {
    "collapsed": true
   },
   "outputs": [],
   "source": []
  },
  {
   "cell_type": "code",
   "execution_count": null,
   "metadata": {
    "collapsed": true
   },
   "outputs": [],
   "source": []
  },
  {
   "cell_type": "code",
   "execution_count": null,
   "metadata": {
    "collapsed": true
   },
   "outputs": [],
   "source": []
  },
  {
   "cell_type": "markdown",
   "metadata": {},
   "source": [
    "### Question 2.3\n",
    "Why did you select these features in your model? We are looking for specific reasons that lead you to believe that\n",
    "the selected features will contribute to the predictive power of your model.\n",
    "- Your reasons might be based on intuition. For example, response for fog might be: “I decided to use fog because I thought that when it is very foggy outside people might decide to use the subway more often.”\n",
    "- Your reasons might also be based on data exploration and experimentation, for example: “I used feature X because as soon as I included it in my model, it drastically improved my R2 value.”"
   ]
  },
  {
   "cell_type": "markdown",
   "metadata": {
    "collapsed": true
   },
   "source": [
    "Feature selection was based both on data analysis and experimentation.  \n",
    "  \n",
    "Variables based on analysis:\n",
    "- sdad\n",
    "- dasda\n",
    "- asd\n",
    "  \n",
    "Features based on experimentation and incresasing R^2 value:\n",
    "- sada\n",
    "- asdasd\n",
    "- adsd\n"
   ]
  },
  {
   "cell_type": "markdown",
   "metadata": {},
   "source": [
    "### Question 2.4\n",
    "What are the parameters (also known as \"coefficients\" or \"weights\") of the non-dummy features in your linear regression model?"
   ]
  },
  {
   "cell_type": "code",
   "execution_count": null,
   "metadata": {
    "collapsed": true
   },
   "outputs": [],
   "source": []
  },
  {
   "cell_type": "markdown",
   "metadata": {},
   "source": [
    "### Question 2.5\n",
    "What is your model’s R2 (coefficients of determination) value?"
   ]
  },
  {
   "cell_type": "code",
   "execution_count": null,
   "metadata": {
    "collapsed": true
   },
   "outputs": [],
   "source": []
  },
  {
   "cell_type": "markdown",
   "metadata": {},
   "source": [
    "### Question 2.6\n",
    "What does this R2 value mean for the goodness of fit for your regression model? Do you think this linear model to predict ridership is appropriate for this dataset, given this R2  value?"
   ]
  },
  {
   "cell_type": "code",
   "execution_count": null,
   "metadata": {
    "collapsed": true
   },
   "outputs": [],
   "source": []
  },
  {
   "cell_type": "markdown",
   "metadata": {},
   "source": [
    "## Section 3. Visualization"
   ]
  },
  {
   "cell_type": "markdown",
   "metadata": {},
   "source": [
    "Please include two visualizations that show the relationships between two or more variables in the NYC subway data.\n",
    "Remember to add appropriate titles and axes labels to your plots. Also, please add a short description below each figure commenting on the key insights depicted in the figure."
   ]
  },
  {
   "cell_type": "markdown",
   "metadata": {},
   "source": [
    "### Question 3.1\n",
    "One visualization should contain two histograms: one of  ENTRIESn_hourly for rainy days and one of ENTRIESn_hourly for non-rainy days.\n",
    "- You can combine the two histograms in a single plot or you can use two separate plots.\n",
    "- If you decide to use to two separate plots for the two histograms, please ensure that the x-axis limits for both of the plots are identical. It is much easier to compare the two in that case.\n",
    "- For the histograms, you should have intervals representing the volume of ridership (value of ENTRIESn_hourly) on the x-axis and the frequency of occurrence on the y-axis. For example, each interval (along the x-axis), the height of the bar for this interval will represent the number of records (rows in our data) that have ENTRIESn_hourly that falls in this interval.\n",
    "- Remember to increase the number of bins in the histogram (by having larger number of bars). The default bin width is not sufficient to capture the variability in the two samples."
   ]
  },
  {
   "cell_type": "code",
   "execution_count": null,
   "metadata": {
    "collapsed": true
   },
   "outputs": [],
   "source": []
  },
  {
   "cell_type": "markdown",
   "metadata": {},
   "source": [
    "### Question 3.2\n",
    "One visualization can be more freeform. You should feel free to implement something that we discussed in class (e.g., scatter plots, line plots) or attempt to implement something more advanced if you'd like. Some suggestions are:\n",
    "- Ridership by time-of-day\n",
    "- Ridership by day-of-week"
   ]
  },
  {
   "cell_type": "code",
   "execution_count": null,
   "metadata": {
    "collapsed": true
   },
   "outputs": [],
   "source": []
  },
  {
   "cell_type": "markdown",
   "metadata": {},
   "source": [
    "## Section 4. Conclusion"
   ]
  },
  {
   "cell_type": "markdown",
   "metadata": {},
   "source": [
    "Please address the following questions in detail. Your answers should be 1-2 paragraphs long."
   ]
  },
  {
   "cell_type": "markdown",
   "metadata": {},
   "source": [
    "### Question 4.1\n",
    "From your analysis and interpretation of the data, do more people ride the NYC subway when it is raining or when it is not raining?"
   ]
  },
  {
   "cell_type": "markdown",
   "metadata": {
    "collapsed": true
   },
   "source": [
    "#### Answer\n",
    "More people ride the NYC subway when it rains during weekday."
   ]
  },
  {
   "cell_type": "markdown",
   "metadata": {},
   "source": [
    "### Question 4.2\n",
    "What analyses lead you to this conclusion? You should use results from both your statistical tests and your linear regression to support your analysis."
   ]
  },
  {
   "cell_type": "code",
   "execution_count": null,
   "metadata": {
    "collapsed": true
   },
   "outputs": [],
   "source": []
  },
  {
   "cell_type": "markdown",
   "metadata": {},
   "source": [
    "## Section 5. Reflection"
   ]
  },
  {
   "cell_type": "markdown",
   "metadata": {},
   "source": [
    "Please address the following questions in detail. Your answers should be 1-2 paragraphs long."
   ]
  },
  {
   "cell_type": "markdown",
   "metadata": {},
   "source": [
    "### Question 5.1\n",
    "Please discuss potential shortcomings of the methods of your analysis, including:\n",
    "- Dataset,\n",
    "- Analysis, such as the linear regression model or statistical test."
   ]
  },
  {
   "cell_type": "code",
   "execution_count": null,
   "metadata": {
    "collapsed": true
   },
   "outputs": [],
   "source": []
  },
  {
   "cell_type": "markdown",
   "metadata": {},
   "source": [
    "### Question 5.2\n",
    "(Optional) Do you have any other insight about the dataset that you would like to share with us?"
   ]
  },
  {
   "cell_type": "code",
   "execution_count": null,
   "metadata": {
    "collapsed": true
   },
   "outputs": [],
   "source": []
  },
  {
   "cell_type": "code",
   "execution_count": null,
   "metadata": {
    "collapsed": true
   },
   "outputs": [],
   "source": []
  },
  {
   "cell_type": "code",
   "execution_count": null,
   "metadata": {
    "collapsed": true
   },
   "outputs": [],
   "source": []
  },
  {
   "cell_type": "code",
   "execution_count": null,
   "metadata": {
    "collapsed": true
   },
   "outputs": [],
   "source": []
  },
  {
   "cell_type": "code",
   "execution_count": null,
   "metadata": {
    "collapsed": true
   },
   "outputs": [],
   "source": []
  },
  {
   "cell_type": "code",
   "execution_count": null,
   "metadata": {
    "collapsed": true
   },
   "outputs": [],
   "source": []
  },
  {
   "cell_type": "code",
   "execution_count": null,
   "metadata": {
    "collapsed": true
   },
   "outputs": [],
   "source": []
  }
 ],
 "metadata": {
  "kernelspec": {
   "display_name": "Python 2",
   "language": "python",
   "name": "python2"
  },
  "language_info": {
   "codemirror_mode": {
    "name": "ipython",
    "version": 2
   },
   "file_extension": ".py",
   "mimetype": "text/x-python",
   "name": "python",
   "nbconvert_exporter": "python",
   "pygments_lexer": "ipython2",
   "version": "2.7.11"
  }
 },
 "nbformat": 4,
 "nbformat_minor": 0
}
