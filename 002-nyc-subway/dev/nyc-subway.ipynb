{
 "cells": [
  {
   "cell_type": "markdown",
   "metadata": {},
   "source": [
    "# NYC Subway Dataset Analysis"
   ]
  },
  {
   "cell_type": "markdown",
   "metadata": {},
   "source": [
    "## Assignment"
   ]
  },
  {
   "cell_type": "markdown",
   "metadata": {},
   "source": [
    "Purpose of this assignment is to analyze subway ridership dataset and see if external elements like rain significantly influence the number of passengers.  \n",
    "Also, we need to predict number of passengers based on parameters we previously analyzed."
   ]
  },
  {
   "cell_type": "markdown",
   "metadata": {},
   "source": [
    "## Disclaimers"
   ]
  },
  {
   "cell_type": "markdown",
   "metadata": {},
   "source": [
    "Part of the this assigment are also questions in Problem Sets 2, 3, and 4 in the Introduction to Data Science course.  \n",
    "I have resolved all of those.  \n",
    "On couple of them, server would return some unrelated errors and my submission would fail even though I did get required plots.  \n",
    "This only happens when dealing with ggplot."
   ]
  },
  {
   "cell_type": "markdown",
   "metadata": {},
   "source": [
    "## Loading Data and Defining Functions"
   ]
  },
  {
   "cell_type": "markdown",
   "metadata": {},
   "source": [
    "## Section 0. References"
   ]
  },
  {
   "cell_type": "markdown",
   "metadata": {},
   "source": [
    "1. Udacity \"Intro to Data Science\" videos\n",
    "2. pandas, numpy, sklearn, ggplot documentation\n",
    "3. http://matplotlib.org/users/pyplot_tutorial.html\n",
    "4. http://matplotlib.org/examples/api/barchart_demo.html\n",
    "5. https://www.youtube.com/watch?v=pHrwqLhAaMw\n",
    "6. http://stackoverflow.com/questions/2546016/how-to-define-fill-colours-in-ggplot-histogram"
   ]
  },
  {
   "cell_type": "markdown",
   "metadata": {},
   "source": [
    "## Section 1. Statistical Test"
   ]
  },
  {
   "cell_type": "markdown",
   "metadata": {},
   "source": [
    "### Question 1.1\n",
    "Which statistical test did you use to analyze the NYC subway data? Did you use a one-tail or a two-tail P value? What is the null hypothesis? What is your p-critical value?"
   ]
  },
  {
   "cell_type": "markdown",
   "metadata": {
    "collapsed": true
   },
   "source": [
    "#### Answer\n",
    "**H0: µ_entries_rain = µ_entries_no_rain**  \n",
    "Mean of entries on the days it rains is the same as the mean of entries on the days when it doesn't rain  \n",
    "**H1: µ_entries_rain ≠ µ_entries_no_rain**  \n",
    "Mean of entries on the days it rains is different than the mean of entries on the days when it doesn't rain  \n",
    "  \n",
    "I am using one-tail p value.\n",
    "\n",
    "p_critical = 0.05  \n",
    "  \n",
    "I used Mann-Whitney u-test since the data was not normally distributed."
   ]
  },
  {
   "cell_type": "markdown",
   "metadata": {},
   "source": [
    "#### Calculation\n",
    "First we need to agregate *entries* and *rain* by days."
   ]
  },
  {
   "cell_type": "code",
   "execution_count": 1,
   "metadata": {
    "collapsed": false
   },
   "outputs": [],
   "source": [
    "import numpy as np\n",
    "import pandas\n",
    "import pandasql\n",
    "from sklearn.linear_model import SGDRegressor\n",
    "import scipy\n",
    "from ggplot import *\n",
    "%matplotlib inline \n",
    "\n",
    "pandas.set_option('display.max_columns', None)\n",
    "data = pandas.read_csv('data/weather.csv')\n",
    "#print data.iloc[0]"
   ]
  },
  {
   "cell_type": "code",
   "execution_count": 2,
   "metadata": {
    "collapsed": false
   },
   "outputs": [],
   "source": [
    "q = \"\"\"\n",
    "select UNIT, DATEn, max(rain) as rain, weekday, sum(ENTRIESn_hourly) as entries\n",
    "from data\n",
    "group by UNIT, DATEn\n",
    "\"\"\"\n",
    "\n",
    "daily_data = pandasql.sqldf(q, locals())"
   ]
  },
  {
   "cell_type": "markdown",
   "metadata": {},
   "source": [
    "Now we can compare entries on the days that rains vs. the ones that don't.  \n",
    "Also, we should compare only weekdays with themselves since ridership may vary for weekends."
   ]
  },
  {
   "cell_type": "code",
   "execution_count": 3,
   "metadata": {
    "collapsed": false
   },
   "outputs": [],
   "source": [
    "rains_weekday_data = daily_data['entries'][(daily_data.rain == 1) & (daily_data.weekday == 1)]\n",
    "no_rain_weekday_data = daily_data['entries'][(daily_data.rain == 0) & (daily_data.weekday == 1)]\n",
    "rains_weekend_data = daily_data['entries'][(daily_data.rain == 1) & (daily_data.weekday == 0)]\n",
    "no_rain_weekend_data = daily_data['entries'][(daily_data.rain == 0) & (daily_data.weekday == 0)]"
   ]
  },
  {
   "cell_type": "markdown",
   "metadata": {},
   "source": [
    "To detect which test we should use we first need to confirm or deny some assumptions we have about data.\n",
    "First we use Shapiro-Wilk test to see weather our data is normally distributed."
   ]
  },
  {
   "cell_type": "code",
   "execution_count": 4,
   "metadata": {
    "collapsed": false
   },
   "outputs": [
    {
     "name": "stdout",
     "output_type": "stream",
     "text": [
      "p = 0.0\n"
     ]
    },
    {
     "name": "stderr",
     "output_type": "stream",
     "text": [
      "/home/veich/installations/anaconda2/lib/python2.7/site-packages/scipy/stats/morestats.py:1082: UserWarning: p-value may not be accurate for N > 5000.\n",
      "  warnings.warn(\"p-value may not be accurate for N > 5000.\")\n"
     ]
    }
   ],
   "source": [
    "w,p = scipy.stats.shapiro(daily_data['entries'])\n",
    "print \"p = \" + str(p)"
   ]
  },
  {
   "cell_type": "markdown",
   "metadata": {},
   "source": [
    "Since p = 0.0 we can conclude that our data is not normally distributed."
   ]
  },
  {
   "cell_type": "code",
   "execution_count": 5,
   "metadata": {
    "collapsed": false
   },
   "outputs": [
    {
     "name": "stderr",
     "output_type": "stream",
     "text": [
      "stat_bin: binwidth defaulted to range/30.\n",
      "    Use 'binwidth = x' to adjust this.\n"
     ]
    },
    {
     "data": {
      "image/png": "[encoded data removed]",
      "text/plain": [
       "<matplotlib.figure.Figure at 0x7f18964082d0>"
      ]
     },
     "metadata": {},
     "output_type": "display_data"
    },
    {
     "data": {
      "text/plain": [
       "<ggplot: (8733974287925)>"
      ]
     },
     "execution_count": 5,
     "metadata": {},
     "output_type": "execute_result"
    }
   ],
   "source": [
    "ggplot(daily_data, aes(x=\"entries\")) + geom_histogram() + \\\n",
    "ggtitle(\"Hourly entries histogram\") + \\\n",
    "xlab('No. of entries')"
   ]
  },
  {
   "cell_type": "markdown",
   "metadata": {},
   "source": [
    "Because our data is not normally distributed Mann-Whitney u-test seems appropriate to compare data samples.  \n",
    "This test doesn't assume any particular probability distribution."
   ]
  },
  {
   "cell_type": "markdown",
   "metadata": {},
   "source": [
    "### Question 1.2\n",
    "Why is this statistical test applicable to the dataset? In particular, consider the assumptions that the test is making about the distribution of ridership in the two samples."
   ]
  },
  {
   "cell_type": "markdown",
   "metadata": {
    "collapsed": true
   },
   "source": [
    "#### Answer\n",
    "Mann-Whitney u-test doesn't assume any particular sample distribution which makes it suitable for this data set which is not normally distributed."
   ]
  },
  {
   "cell_type": "markdown",
   "metadata": {},
   "source": [
    "### Question 1.3\n",
    "What results did you get from this statistical test? These should include the following numerical values: p-values, as well as the means for each of the two samples under test."
   ]
  },
  {
   "cell_type": "code",
   "execution_count": 6,
   "metadata": {
    "collapsed": false
   },
   "outputs": [
    {
     "name": "stdout",
     "output_type": "stream",
     "text": [
      "p = 0.0496887782637\n",
      "entries_mean_weekday_rains_ridership = 12970.4450995\n",
      "entries_mean_weekday_no_rain_ridership = 12328.3840246\n"
     ]
    }
   ],
   "source": [
    "u,p = scipy.stats.mannwhitneyu(rains_weekday_data, no_rain_weekday_data)\n",
    "print 'p = ' + str(p)\n",
    "print \"entries_mean_weekday_rains_ridership = \" + str(np.mean(rains_weekday_data))\n",
    "print \"entries_mean_weekday_no_rain_ridership = \" + str(np.mean(no_rain_weekday_data))"
   ]
  },
  {
   "cell_type": "markdown",
   "metadata": {},
   "source": [
    "Calculated p value is less than our p_critical value (0.05) which means rain has significant impact on ridership on weekdays."
   ]
  },
  {
   "cell_type": "code",
   "execution_count": 7,
   "metadata": {
    "collapsed": false
   },
   "outputs": [
    {
     "name": "stdout",
     "output_type": "stream",
     "text": [
      "p = 0.0829950888061\n",
      "entries_mean_weekend_rains_ridership = 6193.14814815\n",
      "entries_mean_weekend_no_rain_ridership = 6939.72384035\n"
     ]
    }
   ],
   "source": [
    "u,p = scipy.stats.mannwhitneyu(rains_weekend_data, no_rain_weekend_data)\n",
    "print 'p = ' + str(p)\n",
    "print \"entries_mean_weekend_rains_ridership = \" + str(np.mean(rains_weekend_data))\n",
    "print \"entries_mean_weekend_no_rain_ridership = \" + str(np.mean(no_rain_weekend_data))"
   ]
  },
  {
   "cell_type": "markdown",
   "metadata": {},
   "source": [
    "p value in this test suggests that rain has no significant impact on subway ridership during the weekend."
   ]
  },
  {
   "cell_type": "code",
   "execution_count": 8,
   "metadata": {
    "collapsed": false
   },
   "outputs": [
    {
     "name": "stdout",
     "output_type": "stream",
     "text": [
      "p = 7.68162246312e-32\n",
      "entries_mean_weekday_rains_ridership = 12970.4450995\n",
      "entries_mean_weekend_rains_ridership = 6193.14814815\n",
      "p = 7.60085459706e-103\n",
      "entries_mean_weekday_no_rain_ridership = 12328.3840246\n",
      "entries_mean_weekend_no_rain_ridership = 6939.72384035\n"
     ]
    }
   ],
   "source": [
    "u,p = scipy.stats.mannwhitneyu(rains_weekday_data, rains_weekend_data)\n",
    "print 'p = ' + str(p)\n",
    "print \"entries_mean_weekday_rains_ridership = \" + str(np.mean(rains_weekday_data))\n",
    "print \"entries_mean_weekend_rains_ridership = \" + str(np.mean(rains_weekend_data))\n",
    "u,p = scipy.stats.mannwhitneyu(no_rain_weekend_data, no_rain_weekday_data)\n",
    "print 'p = ' + str(p)\n",
    "print \"entries_mean_weekday_no_rain_ridership = \" + str(np.mean(no_rain_weekday_data))\n",
    "print \"entries_mean_weekend_no_rain_ridership = \" + str(np.mean(no_rain_weekend_data))"
   ]
  },
  {
   "cell_type": "markdown",
   "metadata": {},
   "source": [
    "Calculated p values suggest weekday vs. weekend has significant impact on the subway ridership (accounted for the possible rain impact on the results)."
   ]
  },
  {
   "cell_type": "markdown",
   "metadata": {},
   "source": [
    "### Question 1.4\n",
    "What is the significance and interpretation of these results?"
   ]
  },
  {
   "cell_type": "markdown",
   "metadata": {
    "collapsed": true
   },
   "source": [
    "#### Answer\n",
    "Statistical significance of these results is 0.05"
   ]
  },
  {
   "cell_type": "markdown",
   "metadata": {},
   "source": [
    "## Section 2. Linear Regression"
   ]
  },
  {
   "cell_type": "markdown",
   "metadata": {},
   "source": [
    "### Question 2.1\n",
    "What approach did you use to compute the coefficients theta and produce prediction for ENTRIESn_hourly in your regression model:\n",
    "- OLS using Statsmodels or Scikit Learn\n",
    "- Gradient descent using Scikit Learn\n",
    "- Or something different?"
   ]
  },
  {
   "cell_type": "markdown",
   "metadata": {
    "collapsed": true
   },
   "source": [
    "#### Answer\n",
    "I used gradient descent from scikit learn."
   ]
  },
  {
   "cell_type": "markdown",
   "metadata": {},
   "source": [
    "### Question 2.2\n",
    "What features (input variables) did you use in your model? Did you use any dummy variables as part of your features?"
   ]
  },
  {
   "cell_type": "markdown",
   "metadata": {
    "collapsed": true
   },
   "source": [
    "#### Answer\n",
    "In my model I used the following variables:\n",
    "- rain\n",
    "- hour\n",
    "- weekday\n",
    "- fog\n",
    "- day_week\n",
    "\n",
    "I used *UNIT* dummy variable as part of my features"
   ]
  },
  {
   "cell_type": "markdown",
   "metadata": {},
   "source": [
    "#### Calculation"
   ]
  },
  {
   "cell_type": "code",
   "execution_count": 9,
   "metadata": {
    "collapsed": true
   },
   "outputs": [],
   "source": [
    "def linear_regression(features, values):\n",
    "    model = SGDRegressor()\n",
    "    model.fit(features, values)\n",
    "\n",
    "    intercept = model.intercept_\n",
    "    params = model.coef_\n",
    "    \n",
    "    return intercept, params"
   ]
  },
  {
   "cell_type": "code",
   "execution_count": 10,
   "metadata": {
    "collapsed": true
   },
   "outputs": [],
   "source": [
    "def normalize_features(features):\n",
    "    ''' \n",
    "    Returns the means and standard deviations of the given features, along with a normalized feature\n",
    "    matrix.\n",
    "    ''' \n",
    "    means = np.mean(features, axis=0)\n",
    "    std_devs = np.std(features, axis=0)\n",
    "    normalized_features = (features - means) / std_devs\n",
    "    \n",
    "    return means, std_devs, normalized_features"
   ]
  },
  {
   "cell_type": "code",
   "execution_count": 11,
   "metadata": {
    "collapsed": true
   },
   "outputs": [],
   "source": [
    "def recover_params(means, std_devs, norm_intercept, norm_params):\n",
    "    ''' \n",
    "    Recovers the weights for a linear model given parameters that were fitted using\n",
    "    normalized features. Takes the means and standard deviations of the original\n",
    "    features, along with the intercept and parameters computed using the normalized\n",
    "    features, and returns the intercept and parameters that correspond to the original\n",
    "    features.\n",
    "    ''' \n",
    "    intercept = norm_intercept - np.sum(means * norm_params / std_devs)\n",
    "    params = norm_params / std_devs\n",
    "    \n",
    "    return intercept, params"
   ]
  },
  {
   "cell_type": "code",
   "execution_count": 12,
   "metadata": {
    "collapsed": true
   },
   "outputs": [],
   "source": [
    "def compute_r_squared(data, predicted_data):\n",
    "    \n",
    "    y = data['ENTRIESn_hourly'].tolist()\n",
    "    avg_y = np.mean(y)\n",
    "    \n",
    "    \n",
    "    top_diff = y - predicted_data\n",
    "    top_diff_squared = top_diff * top_diff\n",
    "    top_total_sum = np.sum(top_diff_squared)\n",
    "    \n",
    "    bottom_diff = y - avg_y\n",
    "    bottom_diff_squared = bottom_diff * bottom_diff\n",
    "    bottom_total_sum = np.sum(bottom_diff_squared)\n",
    "    \n",
    "    r_squared = 1 - (top_total_sum / bottom_total_sum)\n",
    "    \n",
    "    \n",
    "    return r_squared"
   ]
  },
  {
   "cell_type": "code",
   "execution_count": 13,
   "metadata": {
    "collapsed": false
   },
   "outputs": [],
   "source": [
    "def predictions(dataframe): \n",
    "    \n",
    "    features = dataframe[['meantempi']]\n",
    "    \n",
    "    \n",
    "    dummy_units = pandas.get_dummies(dataframe['UNIT'], prefix='unit')\n",
    "    features = features.join(dummy_units)\n",
    "    dummy_units = pandas.get_dummies(dataframe['rain'], prefix='rain')\n",
    "    print dummy_units.iloc[0]\n",
    "    #features = features.join(dummy_units)\n",
    "    dummy_units = pandas.get_dummies(dataframe['day_week'], prefix='day_week')\n",
    "    features = features.join(dummy_units)\n",
    "    dummy_units = pandas.get_dummies(dataframe['hour'], prefix='hour')\n",
    "    features = features.join(dummy_units)\n",
    "    \n",
    "    \n",
    "    #print dummy_units\n",
    "    \n",
    "    # Values\n",
    "    values = dataframe['ENTRIESn_hourly']\n",
    "    \n",
    "    # Get numpy arrays\n",
    "    features_array = features.values\n",
    "    values_array = values.values\n",
    "    \n",
    "    means, std_devs, normalized_features_array = normalize_features(features_array)\n",
    "\n",
    "    # Perform gradient descent\n",
    "    norm_intercept, norm_params = linear_regression(normalized_features_array, values_array)\n",
    "    \n",
    "    intercept, params = recover_params(means, std_devs, norm_intercept, norm_params)\n",
    "    \n",
    "    predictions = intercept + np.dot(features_array, params)\n",
    "    # The following line would be equivalent:\n",
    "    # predictions = norm_intercept + np.dot(normalized_features_array, norm_params)\n",
    "    \n",
    "    global data_intercept\n",
    "    data_intercept = intercept\n",
    "    \n",
    "    global data_params\n",
    "    data_params = params\n",
    "    \n",
    "    return predictions"
   ]
  },
  {
   "cell_type": "code",
   "execution_count": 14,
   "metadata": {
    "collapsed": false
   },
   "outputs": [
    {
     "name": "stdout",
     "output_type": "stream",
     "text": [
      "rain_0.0    1\n",
      "rain_1.0    0\n",
      "Name: 0, dtype: float64\n",
      "r_squared: 0.521136096725\n",
      "UNIT                              R003\n",
      "DATEn                         05-01-11\n",
      "TIMEn                         00:00:00\n",
      "ENTRIESn                       4388333\n",
      "EXITSn                         2911002\n",
      "ENTRIESn_hourly                      0\n",
      "EXITSn_hourly                        0\n",
      "datetime           2011-05-01 00:00:00\n",
      "hour                                 0\n",
      "day_week                             6\n",
      "weekday                              0\n",
      "station                  CYPRESS HILLS\n",
      "latitude                      40.68995\n",
      "longitude                    -73.87256\n",
      "conds                            Clear\n",
      "fog                                  0\n",
      "precipi                              0\n",
      "pressurei                        30.22\n",
      "rain                                 0\n",
      "tempi                             55.9\n",
      "wspdi                              3.5\n",
      "meanprecipi                          0\n",
      "meanpressurei                   30.258\n",
      "meantempi                        55.98\n",
      "meanwspdi                         7.86\n",
      "weather_lat                   40.70035\n",
      "weather_lon                  -73.88718\n",
      "Name: 0, dtype: object\n"
     ]
    }
   ],
   "source": [
    "data_intercept = []\n",
    "data_params = []\n",
    "entries_predictions = predictions(data)\n",
    "\n",
    "r_squared = compute_r_squared(data, entries_predictions)\n",
    "print \"r_squared: \" + str(r_squared)\n",
    "print data.iloc[0]"
   ]
  },
  {
   "cell_type": "markdown",
   "metadata": {},
   "source": [
    "### Question 2.3\n",
    "Why did you select these features in your model? We are looking for specific reasons that lead you to believe that\n",
    "the selected features will contribute to the predictive power of your model.\n",
    "- Your reasons might be based on intuition. For example, response for fog might be: “I decided to use fog because I thought that when it is very foggy outside people might decide to use the subway more often.”\n",
    "- Your reasons might also be based on data exploration and experimentation, for example: “I used feature X because as soon as I included it in my model, it drastically improved my R2 value.”"
   ]
  },
  {
   "cell_type": "markdown",
   "metadata": {
    "collapsed": true
   },
   "source": [
    "#### Answer\n",
    "\n",
    "Feature selection was based both on data analysis and experimentation.  \n",
    "  \n",
    "Variables based on analysis:\n",
    "- rain\n",
    "- hour\n",
    "- weekday\n",
    "  \n",
    "Features based on experimentation and incresasing R^2 value:\n",
    "- fog\n",
    "- day_week\n"
   ]
  },
  {
   "cell_type": "markdown",
   "metadata": {},
   "source": [
    "### Question 2.4\n",
    "What are the parameters (also known as \"coefficients\" or \"weights\") of the non-dummy features in your linear regression model?"
   ]
  },
  {
   "cell_type": "code",
   "execution_count": 15,
   "metadata": {
    "collapsed": false
   },
   "outputs": [
    {
     "name": "stdout",
     "output_type": "stream",
     "text": [
      "intercept: \n",
      "[ 2678.29008422]\n",
      "params: \n",
      "[  -12.64844681 -1420.87651808 -1843.30045897 -1494.66633027 -1151.98193755\n",
      " -1924.77688426 -1650.12833489 -1396.97928978  4734.1987378   5026.23271657\n",
      "   974.78401603 -1383.3342553   3427.9304503   6975.74808291  1167.71518549\n",
      "  4443.82146911  1693.30166635  9186.4657417   3364.39763031  1334.42068375\n",
      "  2528.20478615   362.11591983  4530.72165554   952.10755095  2603.92449102\n",
      "  1786.95510944  9166.26232497  -646.68368123   992.52761972  -822.90931678\n",
      "  -954.65510567 -1265.49006439 -1193.08573466  -386.94337191  1211.07306271\n",
      " -1347.55494871   692.18348132  1962.78222095  8332.68103461   702.70378554\n",
      "   749.98473679  3561.88742827  -657.7291832   1259.61146036    40.48789802\n",
      "  5085.90993845   -84.11967734  3083.04587833 -1032.54958171  -857.2673109\n",
      "  -952.80255945 -1155.7484585    722.26026719  -460.84728381 -1040.64813007\n",
      " -1387.9749995  -1362.89374235  -666.45571277 -1650.65820783  -730.77379503\n",
      "   164.39196301  1077.15442371  1509.66234151  -173.40107724  1363.29817761\n",
      "  9900.95592937  1153.08419025  1107.68236364  -435.20864734 -1295.51125629\n",
      " -1307.71384052  -677.17716756   -63.69984054   121.51173451   190.77973685\n",
      "   153.10579547   542.96477389   808.72339485    90.91861664   534.5122271\n",
      " -1358.35161968   829.22825723  2203.33897287  -334.77331537  -763.398324\n",
      "  1887.431594    -899.64706088 -1299.67770873  4324.91278702  1251.56509497\n",
      "    80.96903617 -1105.37702909  -355.39657884  1687.5411731   -662.42241488\n",
      "    92.06306174  -661.9851824   -124.94714484   842.58724335   -13.80464675\n",
      " -1021.70067274   119.01400517  3786.71751721   325.40501138   217.53740163\n",
      "  1066.05106596   -75.32766635  6346.71062269    12.41809702  -922.24478819\n",
      " -1099.63131432  -610.07229169   646.73864722  -367.45099831   409.97602225\n",
      "  -390.79793821   292.46926413  -771.39527276  -690.74995059   257.90859798\n",
      "   266.90986404  -687.54298145  -332.87044914   119.6085755    305.0387978\n",
      " -1287.67840346 -1482.70220542  1102.29542656  -224.76320353  -358.19974013\n",
      " -1055.43032007  -142.91524522  -992.66472318  -648.51073938   752.93049498\n",
      "  -503.42813369  -575.59549322   -14.14943277   447.04097583 -1240.75673202\n",
      " -1234.46565163 -1575.43654889  -640.70854111  -524.81013584 -1192.3160371\n",
      " -1470.88414748  -601.7934587  -1011.17813402  -925.79227083 -1327.87381756\n",
      "   834.19448014   -71.22016273 -1056.82762951   657.05869744  -790.19475412\n",
      "   245.56433955 -1256.64177612  -773.34839835  -207.58439288 -1208.28871555\n",
      " -1390.26268995  1359.924444    -435.07736018  -984.47075878  -382.94059252\n",
      " -1038.82168342 -1110.20947337   446.6061466   -644.71774649  -658.83115609\n",
      "   202.40808966  -208.63040562  -989.94758009  -802.81566319  -366.54720011\n",
      " -1485.28987113 -1728.40431621 -1272.61508448  -971.4057007   -845.56516071\n",
      "  -944.34474077 -1291.35944986 -1309.21304353  -439.729209    -527.47565935\n",
      "  -607.60038862   104.83627394  -958.96708837 -1618.51344703 -1144.71420448\n",
      " -1189.92630548  -711.36788883  -218.59541229 -1239.82314124 -1210.30567596\n",
      " -1591.08518979   165.66295401  -721.44010196 -1406.01869008   422.4800626\n",
      "  -579.27347415  -575.15498496 -1575.52251397 -1331.12272411 -1240.1929004\n",
      "  -943.03911967 -1346.32735033 -1341.47919057 -1912.84816701 -1377.22685035\n",
      "  -544.00925432  -864.79313416   -28.76916348  -823.14749483 -1883.43174664\n",
      "  -459.23635995 -1469.31503807 -1714.72979015 -1809.60098529 -2139.5598657\n",
      " -1469.86567578 -1176.70251004 -1398.94842066  -744.51810341 -1677.55732213\n",
      " -1815.10318271  -706.69400898 -1586.08481265 -1681.90961243  -731.67266257\n",
      "  -968.16916046 -1042.85100988  -786.73311827 -1214.64936582  -457.8571435\n",
      "    61.88409078 -1557.12655915 -2274.71598934 -1759.18541188 -1334.4965055\n",
      " -1906.48645261    20.42478843   368.11984876   276.11414471   405.22713887\n",
      "   451.76036538  -527.74177523  -912.19227997  -374.2130732  -1468.65313717\n",
      " -1238.00590158  1162.784719     458.97868692  1269.19779936]\n"
     ]
    }
   ],
   "source": [
    "print 'intercept: '\n",
    "print data_intercept\n",
    "print 'params: '\n",
    "print data_params"
   ]
  },
  {
   "cell_type": "markdown",
   "metadata": {},
   "source": [
    "### Question 2.5\n",
    "What is your model’s R2 (coefficients of determination) value?"
   ]
  },
  {
   "cell_type": "markdown",
   "metadata": {},
   "source": [
    "#### Answer"
   ]
  },
  {
   "cell_type": "code",
   "execution_count": 16,
   "metadata": {
    "collapsed": false
   },
   "outputs": [
    {
     "name": "stdout",
     "output_type": "stream",
     "text": [
      "R2 coefficient: 0.521136096725\n"
     ]
    }
   ],
   "source": [
    "print \"R2 coefficient: \" + str(r_squared)"
   ]
  },
  {
   "cell_type": "markdown",
   "metadata": {},
   "source": [
    "### Question 2.6\n",
    "What does this R2 value mean for the goodness of fit for your regression model? Do you think this linear model to predict ridership is appropriate for this dataset, given this R2  value?"
   ]
  },
  {
   "cell_type": "markdown",
   "metadata": {},
   "source": [
    "#### Answer\n",
    "This R^2 value is not very bad but there is a lot of room for improvement.  \n",
    "I think that this linear model is not very appropriate for this dataset, and that some other non-linear model might be better."
   ]
  },
  {
   "cell_type": "markdown",
   "metadata": {},
   "source": [
    "## Section 3. Visualization"
   ]
  },
  {
   "cell_type": "markdown",
   "metadata": {},
   "source": [
    "Please include two visualizations that show the relationships between two or more variables in the NYC subway data.\n",
    "Remember to add appropriate titles and axes labels to your plots. Also, please add a short description below each figure commenting on the key insights depicted in the figure."
   ]
  },
  {
   "cell_type": "markdown",
   "metadata": {},
   "source": [
    "### Question 3.1\n",
    "One visualization should contain two histograms: one of  ENTRIESn_hourly for rainy days and one of ENTRIESn_hourly for non-rainy days.\n",
    "- You can combine the two histograms in a single plot or you can use two separate plots.\n",
    "- If you decide to use to two separate plots for the two histograms, please ensure that the x-axis limits for both of the plots are identical. It is much easier to compare the two in that case.\n",
    "- For the histograms, you should have intervals representing the volume of ridership (value of ENTRIESn_hourly) on the x-axis and the frequency of occurrence on the y-axis. For example, each interval (along the x-axis), the height of the bar for this interval will represent the number of records (rows in our data) that have ENTRIESn_hourly that falls in this interval.\n",
    "- Remember to increase the number of bins in the histogram (by having larger number of bars). The default bin width is not sufficient to capture the variability in the two samples."
   ]
  },
  {
   "cell_type": "markdown",
   "metadata": {},
   "source": [
    "#### Answer"
   ]
  },
  {
   "cell_type": "code",
   "execution_count": 17,
   "metadata": {
    "collapsed": false
   },
   "outputs": [
    {
     "name": "stderr",
     "output_type": "stream",
     "text": [
      "/home/veich/installations/anaconda2/lib/python2.7/site-packages/ggplot/geoms/geom_bar.py:47: FutureWarning: comparison to `None` will result in an elementwise object comparison in the future.\n",
      "  _reset = self.bottom == None or (self.ax != None and self.ax != ax)\n"
     ]
    },
    {
     "data": {
      "image/png": "[encoded data removed]",
      "text/plain": [
       "<matplotlib.figure.Figure at 0x7f1896f6ccd0>"
      ]
     },
     "metadata": {},
     "output_type": "display_data"
    },
    {
     "data": {
      "text/plain": [
       "<ggplot: (8733973068653)>"
      ]
     },
     "execution_count": 17,
     "metadata": {},
     "output_type": "execute_result"
    }
   ],
   "source": [
    "ggplot(data[data['ENTRIESn_hourly'] < 10000], aes(x=\"ENTRIESn_hourly\", fill=\"rain\")) + geom_histogram(binwidth=200) + \\\n",
    "ggtitle(\"Histogram containing entries for rainy (blue) and non-rainy days (red)\") + \\\n",
    "xlab('No. of entries')"
   ]
  },
  {
   "cell_type": "markdown",
   "metadata": {},
   "source": [
    "### Question 3.2\n",
    "One visualization can be more freeform. You should feel free to implement something that we discussed in class (e.g., scatter plots, line plots) or attempt to implement something more advanced if you'd like. Some suggestions are:\n",
    "- Ridership by time-of-day\n",
    "- Ridership by day-of-week"
   ]
  },
  {
   "cell_type": "markdown",
   "metadata": {},
   "source": [
    "#### Answer"
   ]
  },
  {
   "cell_type": "code",
   "execution_count": 23,
   "metadata": {
    "collapsed": false
   },
   "outputs": [
    {
     "data": {
      "image/png": "[encoded data removed]",
      "text/plain": [
       "<matplotlib.figure.Figure at 0x7f18959c0d10>"
      ]
     },
     "metadata": {},
     "output_type": "display_data"
    },
    {
     "data": {
      "text/plain": [
       "<ggplot: (8733972873449)>"
      ]
     },
     "execution_count": 23,
     "metadata": {},
     "output_type": "execute_result"
    }
   ],
   "source": [
    "q = \"\"\"\n",
    "select day_week, avg(ENTRIESn_hourly) as entries\n",
    "from data\n",
    "group by day_week\n",
    "\"\"\"\n",
    "\n",
    "day_of_week_data = pandasql.sqldf(q, locals())\n",
    "\n",
    "ggplot(day_of_week_data, aes(\"day_week\", \"entries\")) + geom_bar(stat=\"bar\", fill=\"blue\") + \\\n",
    "ggtitle('Average ridership by day of the week') + \\\n",
    "ylab('No. of entries') + xlab('Monday through Sunday') + \\\n",
    "scale_x_continuous(breaks=range(0,7), labels=[\"Monday\", \"Tuesday\", \"Wednesday\", \"Thursday\", \"Friday\", \"Saturday\", \"Sunday\"])"
   ]
  },
  {
   "cell_type": "code",
   "execution_count": 19,
   "metadata": {
    "collapsed": false
   },
   "outputs": [
    {
     "name": "stderr",
     "output_type": "stream",
     "text": [
      "/home/veich/installations/anaconda2/lib/python2.7/site-packages/matplotlib/collections.py:590: FutureWarning: elementwise comparison failed; returning scalar instead, but in the future will perform elementwise comparison\n",
      "  if self._edgecolors == str('face'):\n"
     ]
    },
    {
     "data": {
      "image/png": "[encoded data removed]",
      "text/plain": [
       "<matplotlib.figure.Figure at 0x7f189670a250>"
      ]
     },
     "metadata": {},
     "output_type": "display_data"
    },
    {
     "data": {
      "text/plain": [
       "<ggplot: (8733973064433)>"
      ]
     },
     "execution_count": 19,
     "metadata": {},
     "output_type": "execute_result"
    }
   ],
   "source": [
    "q = \"\"\"\n",
    "select hour, avg(ENTRIESn_hourly) as entries\n",
    "from data\n",
    "group by hour\n",
    "\"\"\"\n",
    "\n",
    "time_of_day_data = pandasql.sqldf(q, locals())\n",
    "\n",
    "ggplot(time_of_day_data, aes(\"hour\", \"entries\")) + geom_line(color=\"blue\") + stat_smooth(color=\"gray\", size=\"3\") + \\\n",
    "ggtitle('Average ridership by time of day') + \\\n",
    "xlab(\"Time of day\") + ylab('No. of entries')"
   ]
  },
  {
   "cell_type": "code",
   "execution_count": 24,
   "metadata": {
    "collapsed": false
   },
   "outputs": [
    {
     "data": {
      "image/png": "[encoded data removed]",
      "text/plain": [
       "<matplotlib.figure.Figure at 0x7f189597d3d0>"
      ]
     },
     "metadata": {},
     "output_type": "display_data"
    },
    {
     "data": {
      "text/plain": [
       "<ggplot: (8733973782505)>"
      ]
     },
     "execution_count": 24,
     "metadata": {},
     "output_type": "execute_result"
    }
   ],
   "source": [
    "q = \"\"\"\n",
    "select rain, day_week, avg(ENTRIESn_hourly) as entries\n",
    "from data\n",
    "group by day_week, rain\n",
    "\"\"\"\n",
    "\n",
    "rain_data = pandasql.sqldf(q, locals())\n",
    "\n",
    "ggplot(rain_data, aes('day_week', 'entries', color='rain')) + geom_line() + geom_point() + \\\n",
    "ggtitle(\"Comparing daily ridership when it rains (blue) and when it's not (red)\") + \\\n",
    "ylab('No. of entries') + xlab('Time of the ') + \\\n",
    "scale_x_continuous(breaks=range(0,7), labels=[\"Monday\", \"Tuesday\", \"Wednesday\", \"Thursday\", \"Friday\", \"Saturday\", \"Sunday\"])"
   ]
  },
  {
   "cell_type": "markdown",
   "metadata": {},
   "source": [
    "## Section 4. Conclusion"
   ]
  },
  {
   "cell_type": "markdown",
   "metadata": {},
   "source": [
    "Please address the following questions in detail. Your answers should be 1-2 paragraphs long."
   ]
  },
  {
   "cell_type": "markdown",
   "metadata": {},
   "source": [
    "### Question 4.1\n",
    "From your analysis and interpretation of the data, do more people ride the NYC subway when it is raining or when it is not raining?"
   ]
  },
  {
   "cell_type": "markdown",
   "metadata": {},
   "source": [
    "#### Answer\n",
    "Based on my analysis more people ride NYC when it's raining.  \n",
    "We can see this especially during the weekday.  \n",
    "  \n",
    "On weekend there is no significant change in ridership although we can see that the ridership median is actually lower on the days when it rains."
   ]
  },
  {
   "cell_type": "markdown",
   "metadata": {},
   "source": [
    "### Question 4.2\n",
    "What analyses lead you to this conclusion? You should use results from both your statistical tests and your linear regression to support your analysis."
   ]
  },
  {
   "cell_type": "markdown",
   "metadata": {
    "collapsed": true
   },
   "source": [
    "#### Answer\n",
    "First thing that led me to this conclusion was Mann-Whitney u-test I performed on the dataset.\n",
    "This test returned p value which was less than p_critical and this led me to conclusion that rain does have significant influence on the ridership.\n",
    "\n",
    "Secondly, when performing linear regression nad calculating R^2 - result accuracy increased when including *rain* feature into the model.  \n",
    "From this conclude that there is correlation between rain and the ridership."
   ]
  },
  {
   "cell_type": "markdown",
   "metadata": {},
   "source": [
    "## Section 5. Reflection"
   ]
  },
  {
   "cell_type": "markdown",
   "metadata": {},
   "source": [
    "Please address the following questions in detail. Your answers should be 1-2 paragraphs long."
   ]
  },
  {
   "cell_type": "markdown",
   "metadata": {},
   "source": [
    "### Question 5.1\n",
    "Please discuss potential shortcomings of the methods of your analysis, including:\n",
    "- Dataset,\n",
    "- Analysis, such as the linear regression model or statistical test."
   ]
  },
  {
   "cell_type": "markdown",
   "metadata": {
    "collapsed": true
   },
   "source": [
    "#### Answer\n",
    "Dataset:\n",
    "- dataset covers only the month of May - other months can have different riderships\n",
    "- dataset covers only one year - this may not be representative enough for every year\n",
    "  \n",
    "Analysis:\n",
    "- we assume that the right approximation of our model is linear (hence the linear regression) when that doesn't need to be true\n",
    "- R^2 value suggests that we didn't get particularly precise model"
   ]
  },
  {
   "cell_type": "markdown",
   "metadata": {},
   "source": [
    "### Question 5.2\n",
    "(Optional) Do you have any other insight about the dataset that you would like to share with us?"
   ]
  },
  {
   "cell_type": "markdown",
   "metadata": {
    "collapsed": true
   },
   "source": [
    "#### Answer\n",
    "There are many datapoints with ridership equal to zero for entire day which is perhaps only data missing and not ridership zero"
   ]
  }
 ],
 "metadata": {
  "kernelspec": {
   "display_name": "Python 2",
   "language": "python",
   "name": "python2"
  },
  "language_info": {
   "codemirror_mode": {
    "name": "ipython",
    "version": 2
   },
   "file_extension": ".py",
   "mimetype": "text/x-python",
   "name": "python",
   "nbconvert_exporter": "python",
   "pygments_lexer": "ipython2",
   "version": "2.7.11"
  }
 },
 "nbformat": 4,
 "nbformat_minor": 0
}
