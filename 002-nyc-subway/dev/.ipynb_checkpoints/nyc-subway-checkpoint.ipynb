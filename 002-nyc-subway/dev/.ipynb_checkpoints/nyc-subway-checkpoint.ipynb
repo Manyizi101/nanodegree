{
 "cells": [
  {
   "cell_type": "markdown",
   "metadata": {},
   "source": [
    "# NYC Subway Dataset Analysis"
   ]
  },
  {
   "cell_type": "markdown",
   "metadata": {},
   "source": [
    "## Assignment"
   ]
  },
  {
   "cell_type": "markdown",
   "metadata": {},
   "source": [
    "Purpose of this assignment is to analyze subway ridership dataset and see if external elements like rain significantly influence the number of passengers.  \n",
    "Also, we need to predict number of passengers based on parameters we previously analyzed."
   ]
  },
  {
   "cell_type": "markdown",
   "metadata": {},
   "source": [
    "## Disclaimers"
   ]
  },
  {
   "cell_type": "markdown",
   "metadata": {},
   "source": [
    "Part of the this assigment are also questions in Problem Sets 2, 3, and 4 in the Introduction to Data Science course.  \n",
    "I have resolved all of those.  \n",
    "On couple of them, server would return some unrelated errors and my submission would fail even though I did get required plots.  \n",
    "This only happens when dealing with ggplot."
   ]
  },
  {
   "cell_type": "markdown",
   "metadata": {},
   "source": [
    "## Loading Data and Defining Functions"
   ]
  },
  {
   "cell_type": "code",
   "execution_count": 6,
   "metadata": {
    "collapsed": true
   },
   "outputs": [],
   "source": [
    "def linear_regression(features, values):\n",
    "    model = SGDRegressor()\n",
    "    model.fit(features, values)\n",
    "\n",
    "    intercept = model.intercept_\n",
    "    params = model.coef_\n",
    "    \n",
    "    return intercept, params"
   ]
  },
  {
   "cell_type": "code",
   "execution_count": 7,
   "metadata": {
    "collapsed": true
   },
   "outputs": [],
   "source": [
    "def normalize_features(features):\n",
    "    ''' \n",
    "    Returns the means and standard deviations of the given features, along with a normalized feature\n",
    "    matrix.\n",
    "    ''' \n",
    "    means = np.mean(features, axis=0)\n",
    "    std_devs = np.std(features, axis=0)\n",
    "    normalized_features = (features - means) / std_devs\n",
    "    \n",
    "    return means, std_devs, normalized_features"
   ]
  },
  {
   "cell_type": "code",
   "execution_count": 8,
   "metadata": {
    "collapsed": true
   },
   "outputs": [],
   "source": [
    "def recover_params(means, std_devs, norm_intercept, norm_params):\n",
    "    ''' \n",
    "    Recovers the weights for a linear model given parameters that were fitted using\n",
    "    normalized features. Takes the means and standard deviations of the original\n",
    "    features, along with the intercept and parameters computed using the normalized\n",
    "    features, and returns the intercept and parameters that correspond to the original\n",
    "    features.\n",
    "    ''' \n",
    "    intercept = norm_intercept - np.sum(means * norm_params / std_devs)\n",
    "    params = norm_params / std_devs\n",
    "    \n",
    "    return intercept, params"
   ]
  },
  {
   "cell_type": "code",
   "execution_count": 10,
   "metadata": {
    "collapsed": true
   },
   "outputs": [],
   "source": [
    "def check_normal_distribution(data):\n",
    "    w,p = scipy.stats.shapiro(data)\n",
    "    print stats\n",
    "    if p <= 0.025:\n",
    "        return Flase\n",
    "    else:\n",
    "        return True\n",
    "        "
   ]
  },
  {
   "cell_type": "code",
   "execution_count": 11,
   "metadata": {
    "collapsed": true
   },
   "outputs": [],
   "source": [
    "def filter_data_by_hour(data):\n",
    "    entries = []\n",
    "    hours = []\n",
    "\n",
    "    midnight_value = 0\n",
    "    for i in range(24):\n",
    "        entry_sum = np.sum(data[\"ENTRIESn_hourly\"][data.hour == i])\n",
    "        if entry_sum > 0:\n",
    "\n",
    "            if i == 0:\n",
    "                entries.append(entry_sum)\n",
    "                hours.append(24)\n",
    "            else:\n",
    "                entries.insert(i/4-1,entry_sum)\n",
    "                hours.insert(i/4-1, i)\n",
    "        i = i + 1;\n",
    "\n",
    "    filtered_dict = {\"hour\":hours, \"entries\":entries}\n",
    "    filtered_data = pandas.DataFrame(filtered_dict)\n",
    "    \n",
    "    return filtered_data"
   ]
  },
  {
   "cell_type": "code",
   "execution_count": 12,
   "metadata": {
    "collapsed": false
   },
   "outputs": [
    {
     "name": "stdout",
     "output_type": "stream",
     "text": [
      "['Clear' 'Partly Cloudy' 'Mostly Cloudy' 'Overcast' 'Light Rain'\n",
      " 'Scattered Clouds' 'Rain' 'Light Drizzle' 'Haze' 'Heavy Rain' 'Fog' 'Mist']\n"
     ]
    }
   ],
   "source": [
    "print data[\"conds\"].unique()"
   ]
  },
  {
   "cell_type": "markdown",
   "metadata": {},
   "source": [
    "## Section 0. References"
   ]
  },
  {
   "cell_type": "markdown",
   "metadata": {},
   "source": [
    "1. Udacity \"Intro to Data Science\" videos\n",
    "2. pandas, numpy, sklearn, ggplot documentation\n",
    "3. http://matplotlib.org/users/pyplot_tutorial.html\n",
    "4. http://matplotlib.org/examples/api/barchart_demo.html\n",
    "5. https://www.youtube.com/watch?v=pHrwqLhAaMw"
   ]
  },
  {
   "cell_type": "markdown",
   "metadata": {},
   "source": [
    "## Section 1. Statistical Test"
   ]
  },
  {
   "cell_type": "markdown",
   "metadata": {},
   "source": [
    "### Question 1.1\n",
    "Which statistical test did you use to analyze the NYC subway data? Did you use a one-tail or a two-tail P value? What is the null hypothesis? What is your p-critical value?"
   ]
  },
  {
   "cell_type": "markdown",
   "metadata": {
    "collapsed": true
   },
   "source": [
    "#### Answer\n",
    "**H0: µ_entries_rain = µ_entries_no_rain**  \n",
    "Mean of entries on the days it rains is the same as the mean of entries on the days when it doesn't rain  \n",
    "**H1: µ_entries_rain ≠ µ_entries_no_rain**  \n",
    "Mean of entries on the days it rains is different than the mean of entries on the days when it doesn't rain  \n",
    "  \n",
    "I am using one-tail p value.\n",
    "\n",
    "p_critical = 0.05  \n",
    "  \n",
    "I used Mann-Whitney u-test since the data was not normally distributed."
   ]
  },
  {
   "cell_type": "markdown",
   "metadata": {},
   "source": [
    "#### Calculation\n",
    "First we need to agregate *entries* and *rain* by days."
   ]
  },
  {
   "cell_type": "code",
   "execution_count": 102,
   "metadata": {
    "collapsed": false
   },
   "outputs": [],
   "source": [
    "import numpy as np\n",
    "import pandas\n",
    "import pandasql\n",
    "from sklearn.linear_model import SGDRegressor\n",
    "import scipy\n",
    "from ggplot import *\n",
    "%matplotlib inline \n",
    "\n",
    "pandas.set_option('display.max_columns', None)\n",
    "data = pandas.read_csv('data/weather.csv')\n",
    "#print data.iloc[0]\n",
    "#ggplot(data, aes(x=\"rain\")) + geom_histogram() + facet_wrap(\"hour\")"
   ]
  },
  {
   "cell_type": "code",
   "execution_count": 106,
   "metadata": {
    "collapsed": false
   },
   "outputs": [
    {
     "name": "stdout",
     "output_type": "stream",
     "text": [
      "       DATEn  rain  weekday  entries\n",
      "0   05-01-11     0        0  1563693\n",
      "1   05-02-11     0        1  2806944\n",
      "2   05-03-11     0        1  3183128\n",
      "3   05-04-11     1        1  3118915\n",
      "4   05-05-11     0        1  3199002\n",
      "5   05-06-11     0        1  3179032\n",
      "6   05-07-11     0        0  1877545\n",
      "7   05-08-11     0        0  1400098\n",
      "8   05-09-11     0        1  2834785\n",
      "9   05-10-11     0        1  3090088\n",
      "10  05-11-11     0        1  3169092\n",
      "11  05-12-11     0        1  3201840\n",
      "12  05-13-11     0        1  3114960\n",
      "13  05-14-11     1        0  1906123\n",
      "14  05-15-11     1        0  1413929\n",
      "15  05-16-11     1        1  2866698\n",
      "16  05-17-11     1        1  3032183\n",
      "17  05-18-11     1        1  3139070\n",
      "18  05-19-11     1        1  3136296\n",
      "19  05-20-11     1        1  3108151\n",
      "20  05-21-11     0        0  1966083\n",
      "21  05-22-11     0        0  1419988\n",
      "22  05-23-11     1        1  2877108\n",
      "23  05-24-11     0        1  3068006\n",
      "24  05-25-11     0        1  3165614\n",
      "25  05-26-11     0        1  3172004\n",
      "26  05-27-11     0        1  3009536\n",
      "27  05-28-11     0        0  1737156\n",
      "28  05-29-11     0        0  1420998\n",
      "29  05-30-11     1        1  1409572\n",
      "30  05-31-11     0        1  2873538\n"
     ]
    }
   ],
   "source": [
    "q = \"\"\"\n",
    "select DATEn, max(rain) as rain, weekday, sum(ENTRIESn_hourly) as entries\n",
    "from data\n",
    "group by DATEn, weekday\n",
    "\"\"\"\n",
    "\n",
    "daily_data = pandasql.sqldf(q, locals())\n",
    "\n",
    "print daily_data\n",
    "#date_list = daily_data['DATEn'].unique()"
   ]
  },
  {
   "cell_type": "markdown",
   "metadata": {},
   "source": [
    "Now we can compare entries on the days that rains vs. the ones that don't.  \n",
    "Also, we should compare only weekdays with themselves since ridership may vary for weekends."
   ]
  },
  {
   "cell_type": "code",
   "execution_count": 110,
   "metadata": {
    "collapsed": false
   },
   "outputs": [],
   "source": [
    "rains_weekday_data = daily_data['entries'][(daily_data.rain == 1) & (daily_data.weekday == 1)]\n",
    "no_rain_weekday_data = daily_data['entries'][(daily_data.rain == 0) & (daily_data.weekday == 1)]\n",
    "rains_weekend_data = daily_data['entries'][(daily_data.rain == 1) & (daily_data.weekday == 0)]\n",
    "no_rain_weekend_data = daily_data['entries'][(daily_data.rain == 0) & (daily_data.weekday == 0)]"
   ]
  },
  {
   "cell_type": "markdown",
   "metadata": {},
   "source": [
    "To detect which test we should use we first need to confirm or deny some assumptions we have about data.\n",
    "First we use Shapiro-Wilk test to see weather our data is normally distributed."
   ]
  },
  {
   "cell_type": "code",
   "execution_count": 119,
   "metadata": {
    "collapsed": false
   },
   "outputs": [
    {
     "name": "stdout",
     "output_type": "stream",
     "text": [
      "p = 5.48435355086e-06\n"
     ]
    }
   ],
   "source": [
    "w,p = scipy.stats.shapiro(daily_data['entries'])\n",
    "print \"p = \" + str(p)"
   ]
  },
  {
   "cell_type": "markdown",
   "metadata": {},
   "source": [
    "We can see that our **p** value is less than 0.05 which means our data is not normally distributed.  \n",
    "This is also visible from the histogram below."
   ]
  },
  {
   "cell_type": "code",
   "execution_count": 120,
   "metadata": {
    "collapsed": false
   },
   "outputs": [
    {
     "data": {
      "image/png": "[encoded data removed]",
      "text/plain": [
       "<matplotlib.figure.Figure at 0x7f0d2ba24650>"
      ]
     },
     "metadata": {},
     "output_type": "display_data"
    },
    {
     "data": {
      "text/plain": [
       "<ggplot: (8730908956037)>"
      ]
     },
     "execution_count": 120,
     "metadata": {},
     "output_type": "execute_result"
    }
   ],
   "source": [
    "ggplot(daily_data, aes(x=\"entries\")) + geom_histogram()"
   ]
  },
  {
   "cell_type": "markdown",
   "metadata": {},
   "source": [
    "Because our data is not normally distributed Mann-Whitney u-test seems appropriate to compare data samples.  \n",
    "This test doesn't assume any particular probability distribution."
   ]
  },
  {
   "cell_type": "code",
   "execution_count": null,
   "metadata": {
    "collapsed": true
   },
   "outputs": [],
   "source": []
  },
  {
   "cell_type": "code",
   "execution_count": 13,
   "metadata": {
    "collapsed": false,
    "scrolled": true
   },
   "outputs": [
    {
     "name": "stdout",
     "output_type": "stream",
     "text": [
      "    entries  hour\n",
      "0   2300788     4\n",
      "1   5198583     8\n",
      "2  22085316    12\n",
      "3  16833040    16\n",
      "4  23690281    20\n",
      "<module 'ggplot.stats' from '/home/veich/installations/anaconda2/lib/python2.7/site-packages/ggplot/stats/__init__.pyc'>\n",
      "True\n"
     ]
    },
    {
     "name": "stderr",
     "output_type": "stream",
     "text": [
      "/home/veich/installations/anaconda2/lib/python2.7/site-packages/matplotlib/collections.py:590: FutureWarning: elementwise comparison failed; returning scalar instead, but in the future will perform elementwise comparison\n",
      "  if self._edgecolors == str('face'):\n"
     ]
    },
    {
     "data": {
      "image/png": "[encoded data removed]",
      "text/plain": [
       "<matplotlib.figure.Figure at 0x7f0d5acba810>"
      ]
     },
     "metadata": {},
     "output_type": "display_data"
    },
    {
     "name": "stdout",
     "output_type": "stream",
     "text": [
      "<ggplot: (8730958412409)>\n"
     ]
    },
    {
     "data": {
      "image/png": "[encoded data removed]",
      "text/plain": [
       "<matplotlib.figure.Figure at 0x7f0d5abe0890>"
      ]
     },
     "metadata": {},
     "output_type": "display_data"
    },
    {
     "name": "stdout",
     "output_type": "stream",
     "text": [
      "<ggplot: (8730958356625)>\n",
      "      entry\n",
      "0   2300788\n",
      "1   5198583\n",
      "2  22085316\n",
      "3  16833040\n",
      "4  23690281\n"
     ]
    }
   ],
   "source": [
    "hourly_data = filter_data_by_hour(data)\n",
    "print hourly_data.head()\n",
    "print check_normal_distribution(hourly_data[\"hour\"])\n",
    "print ggplot(hourly_data, aes(\"hour\", \"entries\")) + geom_point() + geom_line() + stat_smooth(color=\"blue\")\n",
    "hist_data = pandas.DataFrame({\"entry\": hourly_data[\"entries\"]})\n",
    "print ggplot(hist_data, aes(x=\"entry\")) + geom_histogram()\n",
    "print hist_data.head()"
   ]
  },
  {
   "cell_type": "code",
   "execution_count": 40,
   "metadata": {
    "collapsed": false
   },
   "outputs": [
    {
     "name": "stdout",
     "output_type": "stream",
     "text": [
      "[2300788.0, 5198583.0, 22085316.0, 16833040.0, 23690281.0, 10353167.0]\n"
     ]
    },
    {
     "data": {
      "image/png": "[encoded data removed]",
      "text/plain": [
       "<matplotlib.figure.Figure at 0x7f0d3b508510>"
      ]
     },
     "metadata": {},
     "output_type": "display_data"
    },
    {
     "name": "stdout",
     "output_type": "stream",
     "text": [
      "<ggplot: (8730919403361)>\n",
      "we see big negative correlation between the entries and rain however there is twice as much rain on weekends than on workdays:\n",
      "TODO: NEED TO COMPARE RAIN DATA ON WORKDAYS TO SEE REAL CORRELATION\n"
     ]
    },
    {
     "data": {
      "image/png": "[encoded data removed]",
      "text/plain": [
       "<matplotlib.figure.Figure at 0x7f0d35802290>"
      ]
     },
     "metadata": {},
     "output_type": "display_data"
    },
    {
     "name": "stdout",
     "output_type": "stream",
     "text": [
      "<ggplot: (8730910833345)>\n",
      "   UNIT     DATEn     TIMEn  ENTRIESn   EXITSn  ENTRIESn_hourly  \\\n",
      "0  R003  05-01-11  00:00:00   4388333  2911002                0   \n",
      "1  R003  05-01-11  04:00:00   4388333  2911002                0   \n",
      "2  R003  05-01-11  12:00:00   4388333  2911002                0   \n",
      "3  R003  05-01-11  16:00:00   4388333  2911002                0   \n",
      "4  R003  05-01-11  20:00:00   4388333  2911002                0   \n",
      "\n",
      "   EXITSn_hourly             datetime  hour  day_week  weekday        station  \\\n",
      "0              0  2011-05-01 00:00:00     0         6        0  CYPRESS HILLS   \n",
      "1              0  2011-05-01 04:00:00     4         6        0  CYPRESS HILLS   \n",
      "2              0  2011-05-01 12:00:00    12         6        0  CYPRESS HILLS   \n",
      "3              0  2011-05-01 16:00:00    16         6        0  CYPRESS HILLS   \n",
      "4              0  2011-05-01 20:00:00    20         6        0  CYPRESS HILLS   \n",
      "\n",
      "    latitude  longitude          conds  fog  precipi  pressurei  rain  tempi  \\\n",
      "0  40.689945 -73.872564          Clear    0        0      30.22     0   55.9   \n",
      "1  40.689945 -73.872564  Partly Cloudy    0        0      30.25     0   52.0   \n",
      "2  40.689945 -73.872564  Mostly Cloudy    0        0      30.28     0   62.1   \n",
      "3  40.689945 -73.872564  Mostly Cloudy    0        0      30.26     0   57.9   \n",
      "4  40.689945 -73.872564  Mostly Cloudy    0        0      30.28     0   52.0   \n",
      "\n",
      "   wspdi  meanprecipi  meanpressurei  meantempi  meanwspdi  weather_lat  \\\n",
      "0    3.5            0         30.258      55.98       7.86    40.700348   \n",
      "1    3.5            0         30.258      55.98       7.86    40.700348   \n",
      "2    6.9            0         30.258      55.98       7.86    40.700348   \n",
      "3   15.0            0         30.258      55.98       7.86    40.700348   \n",
      "4   10.4            0         30.258      55.98       7.86    40.700348   \n",
      "\n",
      "   weather_lon  \n",
      "0   -73.887177  \n",
      "1   -73.887177  \n",
      "2   -73.887177  \n",
      "3   -73.887177  \n",
      "4   -73.887177  \n"
     ]
    }
   ],
   "source": [
    "a = list(hist_data[\"entry\"])\n",
    "print a\n",
    "df = pandas.DataFrame({\"a\":a})\n",
    "print ggplot(aes(x='ENTRIESn_hourly'), data=data) + geom_histogram() + facet_wrap(\"rain\")\n",
    "print \"we see big negative correlation between the entries and rain however there is twice as much rain on weekends than on workdays:\"\n",
    "print \"TODO: NEED TO COMPARE RAIN DATA ON WORKDAYS TO SEE REAL CORRELATION\"\n",
    "print ggplot(aes(x='ENTRIESn_hourly'), data=data) + geom_histogram() + facet_wrap(\"weekday\")\n",
    "print data.head()"
   ]
  },
  {
   "cell_type": "markdown",
   "metadata": {},
   "source": [
    "### Question 1.2\n",
    "Why is this statistical test applicable to the dataset? In particular, consider the assumptions that the test is making about the distribution of ridership in the two samples."
   ]
  },
  {
   "cell_type": "markdown",
   "metadata": {
    "collapsed": true
   },
   "source": [
    "This test assumes normal distribution of data"
   ]
  },
  {
   "cell_type": "markdown",
   "metadata": {},
   "source": [
    "### Question 1.3\n",
    "What results did you get from this statistical test? These should include the following numerical values: p-values, as well as the means for each of the two samples under test."
   ]
  },
  {
   "cell_type": "code",
   "execution_count": null,
   "metadata": {
    "collapsed": true
   },
   "outputs": [],
   "source": []
  },
  {
   "cell_type": "markdown",
   "metadata": {},
   "source": [
    "### Question 1.4\n",
    "What is the significance and interpretation of these results?"
   ]
  },
  {
   "cell_type": "code",
   "execution_count": null,
   "metadata": {
    "collapsed": true
   },
   "outputs": [],
   "source": []
  },
  {
   "cell_type": "markdown",
   "metadata": {},
   "source": [
    "## Section 2. Linear Regression"
   ]
  },
  {
   "cell_type": "markdown",
   "metadata": {},
   "source": [
    "### Question 2.1\n",
    "What approach did you use to compute the coefficients theta and produce prediction for ENTRIESn_hourly in your regression model:\n",
    "- OLS using Statsmodels or Scikit Learn\n",
    "- Gradient descent using Scikit Learn\n",
    "- Or something different?"
   ]
  },
  {
   "cell_type": "code",
   "execution_count": null,
   "metadata": {
    "collapsed": true
   },
   "outputs": [],
   "source": []
  },
  {
   "cell_type": "markdown",
   "metadata": {},
   "source": [
    "### Question 2.2\n",
    "What features (input variables) did you use in your model? Did you use any dummy variables as part of your features?"
   ]
  },
  {
   "cell_type": "code",
   "execution_count": null,
   "metadata": {
    "collapsed": true
   },
   "outputs": [],
   "source": []
  },
  {
   "cell_type": "markdown",
   "metadata": {},
   "source": [
    "### Question 2.3\n",
    "Why did you select these features in your model? We are looking for specific reasons that lead you to believe that\n",
    "the selected features will contribute to the predictive power of your model.\n",
    "- Your reasons might be based on intuition. For example, response for fog might be: “I decided to use fog because I thought that when it is very foggy outside people might decide to use the subway more often.”\n",
    "- Your reasons might also be based on data exploration and experimentation, for example: “I used feature X because as soon as I included it in my model, it drastically improved my R2 value.”"
   ]
  },
  {
   "cell_type": "code",
   "execution_count": null,
   "metadata": {
    "collapsed": true
   },
   "outputs": [],
   "source": []
  },
  {
   "cell_type": "markdown",
   "metadata": {},
   "source": [
    "### Question 2.4\n",
    "What are the parameters (also known as \"coefficients\" or \"weights\") of the non-dummy features in your linear regression model?"
   ]
  },
  {
   "cell_type": "code",
   "execution_count": null,
   "metadata": {
    "collapsed": true
   },
   "outputs": [],
   "source": []
  },
  {
   "cell_type": "markdown",
   "metadata": {},
   "source": [
    "### Question 2.5\n",
    "What is your model’s R2 (coefficients of determination) value?"
   ]
  },
  {
   "cell_type": "code",
   "execution_count": null,
   "metadata": {
    "collapsed": true
   },
   "outputs": [],
   "source": []
  },
  {
   "cell_type": "markdown",
   "metadata": {},
   "source": [
    "### Question 2.6\n",
    "What does this R2 value mean for the goodness of fit for your regression model? Do you think this linear model to predict ridership is appropriate for this dataset, given this R2  value?"
   ]
  },
  {
   "cell_type": "code",
   "execution_count": null,
   "metadata": {
    "collapsed": true
   },
   "outputs": [],
   "source": []
  },
  {
   "cell_type": "markdown",
   "metadata": {},
   "source": [
    "## Section 3. Visualization"
   ]
  },
  {
   "cell_type": "markdown",
   "metadata": {},
   "source": [
    "Please include two visualizations that show the relationships between two or more variables in the NYC subway data.\n",
    "Remember to add appropriate titles and axes labels to your plots. Also, please add a short description below each figure commenting on the key insights depicted in the figure."
   ]
  },
  {
   "cell_type": "markdown",
   "metadata": {},
   "source": [
    "### Question 3.1\n",
    "One visualization should contain two histograms: one of  ENTRIESn_hourly for rainy days and one of ENTRIESn_hourly for non-rainy days.\n",
    "- You can combine the two histograms in a single plot or you can use two separate plots.\n",
    "- If you decide to use to two separate plots for the two histograms, please ensure that the x-axis limits for both of the plots are identical. It is much easier to compare the two in that case.\n",
    "- For the histograms, you should have intervals representing the volume of ridership (value of ENTRIESn_hourly) on the x-axis and the frequency of occurrence on the y-axis. For example, each interval (along the x-axis), the height of the bar for this interval will represent the number of records (rows in our data) that have ENTRIESn_hourly that falls in this interval.\n",
    "- Remember to increase the number of bins in the histogram (by having larger number of bars). The default bin width is not sufficient to capture the variability in the two samples."
   ]
  },
  {
   "cell_type": "code",
   "execution_count": null,
   "metadata": {
    "collapsed": true
   },
   "outputs": [],
   "source": []
  },
  {
   "cell_type": "markdown",
   "metadata": {},
   "source": [
    "### Question 3.2\n",
    "One visualization can be more freeform. You should feel free to implement something that we discussed in class (e.g., scatter plots, line plots) or attempt to implement something more advanced if you'd like. Some suggestions are:\n",
    "- Ridership by time-of-day\n",
    "- Ridership by day-of-week"
   ]
  },
  {
   "cell_type": "code",
   "execution_count": null,
   "metadata": {
    "collapsed": true
   },
   "outputs": [],
   "source": []
  },
  {
   "cell_type": "markdown",
   "metadata": {},
   "source": [
    "## Section 4. Conclusion"
   ]
  },
  {
   "cell_type": "markdown",
   "metadata": {},
   "source": [
    "Please address the following questions in detail. Your answers should be 1-2 paragraphs long."
   ]
  },
  {
   "cell_type": "markdown",
   "metadata": {},
   "source": [
    "### Question 4.1\n",
    "From your analysis and interpretation of the data, do more people ride the NYC subway when it is raining or when it is not raining?"
   ]
  },
  {
   "cell_type": "code",
   "execution_count": null,
   "metadata": {
    "collapsed": true
   },
   "outputs": [],
   "source": []
  },
  {
   "cell_type": "markdown",
   "metadata": {},
   "source": [
    "### Question 4.2\n",
    "What analyses lead you to this conclusion? You should use results from both your statistical tests and your linear regression to support your analysis."
   ]
  },
  {
   "cell_type": "code",
   "execution_count": null,
   "metadata": {
    "collapsed": true
   },
   "outputs": [],
   "source": []
  },
  {
   "cell_type": "markdown",
   "metadata": {},
   "source": [
    "## Section 5. Reflection"
   ]
  },
  {
   "cell_type": "markdown",
   "metadata": {},
   "source": [
    "Please address the following questions in detail. Your answers should be 1-2 paragraphs long."
   ]
  },
  {
   "cell_type": "markdown",
   "metadata": {},
   "source": [
    "### Question 5.1\n",
    "Please discuss potential shortcomings of the methods of your analysis, including:\n",
    "- Dataset,\n",
    "- Analysis, such as the linear regression model or statistical test."
   ]
  },
  {
   "cell_type": "code",
   "execution_count": null,
   "metadata": {
    "collapsed": true
   },
   "outputs": [],
   "source": []
  },
  {
   "cell_type": "markdown",
   "metadata": {},
   "source": [
    "### Question 5.2\n",
    "(Optional) Do you have any other insight about the dataset that you would like to share with us?"
   ]
  },
  {
   "cell_type": "code",
   "execution_count": null,
   "metadata": {
    "collapsed": true
   },
   "outputs": [],
   "source": []
  },
  {
   "cell_type": "code",
   "execution_count": null,
   "metadata": {
    "collapsed": true
   },
   "outputs": [],
   "source": []
  },
  {
   "cell_type": "code",
   "execution_count": null,
   "metadata": {
    "collapsed": true
   },
   "outputs": [],
   "source": []
  },
  {
   "cell_type": "code",
   "execution_count": null,
   "metadata": {
    "collapsed": true
   },
   "outputs": [],
   "source": []
  },
  {
   "cell_type": "code",
   "execution_count": null,
   "metadata": {
    "collapsed": true
   },
   "outputs": [],
   "source": []
  },
  {
   "cell_type": "code",
   "execution_count": null,
   "metadata": {
    "collapsed": true
   },
   "outputs": [],
   "source": []
  },
  {
   "cell_type": "code",
   "execution_count": null,
   "metadata": {
    "collapsed": true
   },
   "outputs": [],
   "source": []
  }
 ],
 "metadata": {
  "kernelspec": {
   "display_name": "Python 2",
   "language": "python",
   "name": "python2"
  },
  "language_info": {
   "codemirror_mode": {
    "name": "ipython",
    "version": 2
   },
   "file_extension": ".py",
   "mimetype": "text/x-python",
   "name": "python",
   "nbconvert_exporter": "python",
   "pygments_lexer": "ipython2",
   "version": "2.7.11"
  }
 },
 "nbformat": 4,
 "nbformat_minor": 0
}
