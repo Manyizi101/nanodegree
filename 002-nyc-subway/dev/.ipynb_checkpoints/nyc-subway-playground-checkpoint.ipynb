{
 "cells": [
  {
   "cell_type": "code",
   "execution_count": 75,
   "metadata": {
    "collapsed": false,
    "scrolled": true
   },
   "outputs": [
    {
     "name": "stdout",
     "output_type": "stream",
     "text": [
      "    entries  hour\n",
      "0   2300788     4\n",
      "1   5198583     8\n",
      "2  22085316    12\n",
      "3  16833040    16\n",
      "4  23690281    20\n"
     ]
    },
    {
     "data": {
      "image/png": "[encoded data removed]",
      "text/plain": [
       "<matplotlib.figure.Figure at 0x10e8157d0>"
      ]
     },
     "metadata": {},
     "output_type": "display_data"
    }
   ],
   "source": [
    "import numpy as np\n",
    "import pandas as pd\n",
    "import matplotlib.pyplot as plt\n",
    "%matplotlib inline\n",
    "\n",
    "pd.set_option('display.max_columns', None)\n",
    "\n",
    "weather_data = pd.read_csv('data/weather.csv')\n",
    "# weather_data.to_csv(\"output.csv\")\n",
    "#print weather_data.loc[5]\n",
    "\n",
    "pandas.options.mode.chained_assignment = None\n",
    "pysqldf = lambda q: sqldf(q, locals())\n",
    "\n",
    "data = weather_data\n",
    "\n",
    "data.head()\n",
    "\n",
    "\n",
    "q = \"\"\"\n",
    "    select DESCn from data limit 3\n",
    "    \"\"\"\n",
    "\n",
    "#print pysqldf(q).head()\n",
    "entries = []\n",
    "hours = []\n",
    "\n",
    "midnight_value = 0\n",
    "for i in range(24):\n",
    "    entry_sum = np.sum(data[\"ENTRIESn_hourly\"][data.hour == i])\n",
    "    if entry_sum > 0:\n",
    "        \n",
    "        if i == 0:\n",
    "            entries.append(entry_sum)\n",
    "            hours.append(24)\n",
    "        else:\n",
    "            entries.insert(i/4-1,entry_sum)\n",
    "            hours.insert(i/4-1, i)\n",
    "    i = i + 1;\n",
    "\n",
    "\n",
    "filtered_dict = {\"hour\":hours, \"entries\":entries}\n",
    "\n",
    "filtered_data = pandas.DataFrame(filtered_dict)\n",
    "#print filtered_data[\"hour\"].unique()\n",
    "#print \"::::::::::::\"\n",
    "#print data.head()\n",
    "print filtered_data.head()\n",
    "\n",
    "\n",
    "\n",
    "plt.plot(filtered_data.hour, filtered_data.entries, 'k', filtered_data.hour, filtered_data.entries, 'yo')\n",
    "#plt.axis([0, 6, 0, 20])\n",
    "plt.grid(True)\n",
    "plt.axis([0, 25, 0, 25000000])\n",
    "plt.show()\n",
    "    \n"
   ]
  },
  {
   "cell_type": "code",
   "execution_count": null,
   "metadata": {
    "collapsed": false
   },
   "outputs": [],
   "source": [
    "weather_data[weather_data.conds == \"Rain\"].head()"
   ]
  },
  {
   "cell_type": "code",
   "execution_count": null,
   "metadata": {
    "collapsed": false
   },
   "outputs": [],
   "source": [
    "import pandasql\n",
    "\n",
    "q = \"\"\"\n",
    "select ENTRIESn, station, conds\n",
    "from weather_data \n",
    "where conds = 'Rain'\n",
    "limit 900\n",
    "\"\"\"\n",
    "\n",
    "filtered_data_rain = pandasql.sqldf(q, locals())\n",
    "filtered_data_rain.head()\n",
    "\n",
    "data2 = filtered_data_rain[[\"station\",\"conds\"]]\n",
    "print data2.groupby([\"station\"]).head()"
   ]
  },
  {
   "cell_type": "code",
   "execution_count": null,
   "metadata": {
    "collapsed": false
   },
   "outputs": [],
   "source": [
    "import pandasql\n",
    "\n",
    "q = \"\"\"\n",
    "select ENTRIESn, station, conds\n",
    "from weather_data \n",
    "where conds = 'Clear'\n",
    "limit 900\n",
    "\"\"\"\n",
    "\n",
    "filtered_data = pandasql.sqldf(q, locals())\n",
    "filtered_data.describe()\n",
    "filtered_data.conds.count()"
   ]
  },
  {
   "cell_type": "code",
   "execution_count": null,
   "metadata": {
    "collapsed": true
   },
   "outputs": [],
   "source": [
    "# for i in range(0, len(df.index) ):\n",
    "#         if i == 0:\n",
    "#             df[\"ENTRIESn_hourly\"] = 1\n",
    "#         else:\n",
    "#             df[\"ENTRIESn_hourly\"].iloc[i] = df[\"ENTRIESn\"].iloc[i] - df[\"ENTRIESn\"].iloc[i - 1]"
   ]
  },
  {
   "cell_type": "code",
   "execution_count": null,
   "metadata": {
    "collapsed": true
   },
   "outputs": [],
   "source": [
    "# import sklearn.linear_model\n",
    "\n",
    "# model = sklearn.linear_model.LinearRegression(fit_intercept=True, normalize=False, copy_X=True, n_jobs=1)\n",
    "# model.fit(features, values, sample_weight=None)\n",
    "\n",
    "# intercept = model.intercept_\n",
    "# params = model.coef_\n",
    "\n",
    "# model.predict(X)"
   ]
  },
  {
   "cell_type": "code",
   "execution_count": null,
   "metadata": {
    "collapsed": true
   },
   "outputs": [],
   "source": [
    "import numpy as np\n",
    "import pandas\n",
    "from sklearn.linear_model import SGDRegressor\n",
    "\n",
    "\"\"\"\n",
    "In this question, you need to:\n",
    "1) Implement the linear_regression() procedure using gradient descent.\n",
    "   You can use the SGDRegressor class from sklearn, since this class uses gradient descent.\n",
    "2) Select features (in the predictions procedure) and make predictions.\n",
    "\n",
    "\"\"\"\n",
    "\n",
    "def normalize_features(features):\n",
    "    ''' \n",
    "    Returns the means and standard deviations of the given features, along with a normalized feature\n",
    "    matrix.\n",
    "    ''' \n",
    "    means = np.mean(features, axis=0)\n",
    "    std_devs = np.std(features, axis=0)\n",
    "    normalized_features = (features - means) / std_devs\n",
    "    return means, std_devs, normalized_features\n",
    "\n",
    "def recover_params(means, std_devs, norm_intercept, norm_params):\n",
    "    ''' \n",
    "    Recovers the weights for a linear model given parameters that were fitted using\n",
    "    normalized features. Takes the means and standard deviations of the original\n",
    "    features, along with the intercept and parameters computed using the normalized\n",
    "    features, and returns the intercept and parameters that correspond to the original\n",
    "    features.\n",
    "    ''' \n",
    "    intercept = norm_intercept - np.sum(means * norm_params / std_devs)\n",
    "    params = norm_params / std_devs\n",
    "    return intercept, params\n",
    "\n",
    "def linear_regression(features, values):\n",
    "    \"\"\"\n",
    "    Perform linear regression given a data set with an arbitrary number of features.\n",
    "    \"\"\"\n",
    "    \n",
    "    ###########################\n",
    "    ### YOUR CODE GOES HERE ###\n",
    "    ###########################\n",
    "    \n",
    "    model = SGDRegressor()\n",
    "    model.fit(features, values)\n",
    "\n",
    "    intercept = model.intercept_\n",
    "    params = model.coef_\n",
    "    \n",
    "    return intercept, params\n",
    "\n",
    "def predictions(dataframe):\n",
    "    '''\n",
    "    The NYC turnstile data is stored in a pandas dataframe called weather_turnstile.\n",
    "    Using the information stored in the dataframe, let's predict the ridership of\n",
    "    the NYC subway using linear regression with gradient descent.\n",
    "    \n",
    "    You can download the complete turnstile weather dataframe here:\n",
    "    https://www.dropbox.com/s/meyki2wl9xfa7yk/turnstile_data_master_with_weather.csv    \n",
    "    \n",
    "    Your prediction should have a R^2 value of 0.40 or better.\n",
    "    You need to experiment using various input features contained in the dataframe. \n",
    "    We recommend that you don't use the EXITSn_hourly feature as an input to the \n",
    "    linear model because we cannot use it as a predictor: we cannot use exits \n",
    "    counts as a way to predict entry counts. \n",
    "    \n",
    "    Note: Due to the memory and CPU limitation of our Amazon EC2 instance, we will\n",
    "    give you a random subset (~50%) of the data contained in \n",
    "    turnstile_data_master_with_weather.csv. You are encouraged to experiment with \n",
    "    this exercise on your own computer, locally.\n",
    "    \n",
    "    If you receive a \"server has encountered an error\" message, that means you are \n",
    "    hitting the 30-second limit that's placed on running your program. Try using a\n",
    "    smaller number of features or fewer iterations.\n",
    "    '''\n",
    "    ################################ MODIFY THIS SECTION #####################################\n",
    "    # Select features. You should modify this section to try different features!             #\n",
    "    # We've selected rain, precipi, Hour, meantempi, and UNIT (as a dummy) to start you off. #\n",
    "    # See this page for more info about dummy variables:                                     #\n",
    "    # http://pandas.pydata.org/pandas-docs/stable/generated/pandas.get_dummies.html          #\n",
    "    ##########################################################################################\n",
    "    \n",
    "  \n",
    "    #datelist = []\n",
    "    \n",
    "    #for item in dataframe[\"DATEn\"]:\n",
    "        #string = item[5:7]\n",
    "        #number = int(string)\n",
    "        #datelist.append(number)\n",
    "    \n",
    "    #dataframe[\"current_month\"] = datelist\n",
    "    \n",
    "    dataframe[\"DATEn\"] = pandas.to_datetime(dataframe[\"DATEn\"])\n",
    "    dataframe[\"day_of_week\"] = dataframe.DATEn.dt.dayofweek\n",
    "    \n",
    "    \n",
    "    features = dataframe[['rain', 'Hour', 'day_of_week', 'precipi']]\n",
    "    \n",
    "    \n",
    "    dummy_units = pandas.get_dummies(dataframe['UNIT'], prefix='unit')\n",
    "    features = features.join(dummy_units)\n",
    "    \n",
    "    # Values\n",
    "    values = dataframe['ENTRIESn_hourly']\n",
    "    \n",
    "    # Get numpy arrays\n",
    "    features_array = features.values\n",
    "    values_array = values.values\n",
    "    \n",
    "    means, std_devs, normalized_features_array = normalize_features(features_array)\n",
    "\n",
    "    # Perform gradient descent\n",
    "    norm_intercept, norm_params = linear_regression(normalized_features_array, values_array)\n",
    "    \n",
    "    intercept, params = recover_params(means, std_devs, norm_intercept, norm_params)\n",
    "    \n",
    "    predictions = intercept + np.dot(features_array, params)\n",
    "    # The following line would be equivalent:\n",
    "    # predictions = norm_intercept + np.dot(normalized_features_array, norm_params)\n",
    "    \n",
    "    #print dataframe.dtypes\n",
    "    #print \":::::::::::::::::::\"\n",
    "    #print features.dtypes\n",
    "    #print \":::::::::::::::::::\"\n",
    "    print dataframe.describe()\n",
    "    \n",
    "    return predictions"
   ]
  },
  {
   "cell_type": "markdown",
   "metadata": {
    "collapsed": true
   },
   "source": [
    "## TITANIC 79.12%"
   ]
  },
  {
   "cell_type": "code",
   "execution_count": null,
   "metadata": {
    "collapsed": false
   },
   "outputs": [],
   "source": [
    "import numpy\n",
    "import pandas\n",
    "import statsmodels.api as sm\n",
    "\n",
    "predictions = {}\n",
    "df = pandas.read_csv(file_path)\n",
    "for passenger_index, passenger in df.iterrows():\n",
    "    passenger_id = passenger['PassengerId']\n",
    "\n",
    "    predictions[passenger_id] = 0\n",
    "\n",
    "    if passenger['Sex'] == 'female':\n",
    "        predictions[passenger_id] = 1\n",
    "\n",
    "    if passenger['Age'] < 18 and passenger[\"Pclass\"] == 1:\n",
    "        predictions[passenger_id] = 1\n",
    "\n",
    "        "
   ]
  },
  {
   "cell_type": "code",
   "execution_count": null,
   "metadata": {
    "collapsed": true
   },
   "outputs": [],
   "source": []
  },
  {
   "cell_type": "code",
   "execution_count": null,
   "metadata": {
    "collapsed": true
   },
   "outputs": [],
   "source": []
  }
 ],
 "metadata": {
  "kernelspec": {
   "display_name": "Python 2",
   "language": "python",
   "name": "python2"
  },
  "language_info": {
   "codemirror_mode": {
    "name": "ipython",
    "version": 2
   },
   "file_extension": ".py",
   "mimetype": "text/x-python",
   "name": "python",
   "nbconvert_exporter": "python",
   "pygments_lexer": "ipython2",
   "version": "2.7.10"
  }
 },
 "nbformat": 4,
 "nbformat_minor": 0
}
